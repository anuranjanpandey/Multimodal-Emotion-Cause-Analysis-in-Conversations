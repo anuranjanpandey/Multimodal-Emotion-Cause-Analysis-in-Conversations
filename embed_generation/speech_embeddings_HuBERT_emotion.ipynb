{
  "nbformat": 4,
  "nbformat_minor": 0,
  "metadata": {
    "colab": {
      "provenance": []
    },
    "kernelspec": {
      "name": "python3",
      "display_name": "Python 3"
    },
    "language_info": {
      "name": "python"
    },
    "widgets": {
      "application/vnd.jupyter.widget-state+json": {
        "b1d7a2cc541b427aa6ca18dd5fba7fb8": {
          "model_module": "@jupyter-widgets/controls",
          "model_name": "HBoxModel",
          "model_module_version": "1.5.0",
          "state": {
            "_dom_classes": [],
            "_model_module": "@jupyter-widgets/controls",
            "_model_module_version": "1.5.0",
            "_model_name": "HBoxModel",
            "_view_count": null,
            "_view_module": "@jupyter-widgets/controls",
            "_view_module_version": "1.5.0",
            "_view_name": "HBoxView",
            "box_style": "",
            "children": [
              "IPY_MODEL_e0132d8197ab40a7b00b0f0f378d75fd",
              "IPY_MODEL_9183c59326b441c19813685c8c6da85f",
              "IPY_MODEL_c44b94c484834a22b52b741e53c35329"
            ],
            "layout": "IPY_MODEL_60ab872ca4344afcbf54fdf64fff71b5"
          }
        },
        "e0132d8197ab40a7b00b0f0f378d75fd": {
          "model_module": "@jupyter-widgets/controls",
          "model_name": "HTMLModel",
          "model_module_version": "1.5.0",
          "state": {
            "_dom_classes": [],
            "_model_module": "@jupyter-widgets/controls",
            "_model_module_version": "1.5.0",
            "_model_name": "HTMLModel",
            "_view_count": null,
            "_view_module": "@jupyter-widgets/controls",
            "_view_module_version": "1.5.0",
            "_view_name": "HTMLView",
            "description": "",
            "description_tooltip": null,
            "layout": "IPY_MODEL_b587f17025b643098b538a7404c4932e",
            "placeholder": "​",
            "style": "IPY_MODEL_d650ddeabcca46b597d19b66cafff137",
            "value": "config.json: 100%"
          }
        },
        "9183c59326b441c19813685c8c6da85f": {
          "model_module": "@jupyter-widgets/controls",
          "model_name": "FloatProgressModel",
          "model_module_version": "1.5.0",
          "state": {
            "_dom_classes": [],
            "_model_module": "@jupyter-widgets/controls",
            "_model_module_version": "1.5.0",
            "_model_name": "FloatProgressModel",
            "_view_count": null,
            "_view_module": "@jupyter-widgets/controls",
            "_view_module_version": "1.5.0",
            "_view_name": "ProgressView",
            "bar_style": "success",
            "description": "",
            "description_tooltip": null,
            "layout": "IPY_MODEL_b69b1ee2a3df432e90116de6ba0de114",
            "max": 1376,
            "min": 0,
            "orientation": "horizontal",
            "style": "IPY_MODEL_47971619053f4dbbb854ebfc9f9cf26f",
            "value": 1376
          }
        },
        "c44b94c484834a22b52b741e53c35329": {
          "model_module": "@jupyter-widgets/controls",
          "model_name": "HTMLModel",
          "model_module_version": "1.5.0",
          "state": {
            "_dom_classes": [],
            "_model_module": "@jupyter-widgets/controls",
            "_model_module_version": "1.5.0",
            "_model_name": "HTMLModel",
            "_view_count": null,
            "_view_module": "@jupyter-widgets/controls",
            "_view_module_version": "1.5.0",
            "_view_name": "HTMLView",
            "description": "",
            "description_tooltip": null,
            "layout": "IPY_MODEL_a4560bac4350425e89657a4ff7da4462",
            "placeholder": "​",
            "style": "IPY_MODEL_29ec066431c34f3680978a4e8caf0dc1",
            "value": " 1.38k/1.38k [00:00&lt;00:00, 44.5kB/s]"
          }
        },
        "60ab872ca4344afcbf54fdf64fff71b5": {
          "model_module": "@jupyter-widgets/base",
          "model_name": "LayoutModel",
          "model_module_version": "1.2.0",
          "state": {
            "_model_module": "@jupyter-widgets/base",
            "_model_module_version": "1.2.0",
            "_model_name": "LayoutModel",
            "_view_count": null,
            "_view_module": "@jupyter-widgets/base",
            "_view_module_version": "1.2.0",
            "_view_name": "LayoutView",
            "align_content": null,
            "align_items": null,
            "align_self": null,
            "border": null,
            "bottom": null,
            "display": null,
            "flex": null,
            "flex_flow": null,
            "grid_area": null,
            "grid_auto_columns": null,
            "grid_auto_flow": null,
            "grid_auto_rows": null,
            "grid_column": null,
            "grid_gap": null,
            "grid_row": null,
            "grid_template_areas": null,
            "grid_template_columns": null,
            "grid_template_rows": null,
            "height": null,
            "justify_content": null,
            "justify_items": null,
            "left": null,
            "margin": null,
            "max_height": null,
            "max_width": null,
            "min_height": null,
            "min_width": null,
            "object_fit": null,
            "object_position": null,
            "order": null,
            "overflow": null,
            "overflow_x": null,
            "overflow_y": null,
            "padding": null,
            "right": null,
            "top": null,
            "visibility": null,
            "width": null
          }
        },
        "b587f17025b643098b538a7404c4932e": {
          "model_module": "@jupyter-widgets/base",
          "model_name": "LayoutModel",
          "model_module_version": "1.2.0",
          "state": {
            "_model_module": "@jupyter-widgets/base",
            "_model_module_version": "1.2.0",
            "_model_name": "LayoutModel",
            "_view_count": null,
            "_view_module": "@jupyter-widgets/base",
            "_view_module_version": "1.2.0",
            "_view_name": "LayoutView",
            "align_content": null,
            "align_items": null,
            "align_self": null,
            "border": null,
            "bottom": null,
            "display": null,
            "flex": null,
            "flex_flow": null,
            "grid_area": null,
            "grid_auto_columns": null,
            "grid_auto_flow": null,
            "grid_auto_rows": null,
            "grid_column": null,
            "grid_gap": null,
            "grid_row": null,
            "grid_template_areas": null,
            "grid_template_columns": null,
            "grid_template_rows": null,
            "height": null,
            "justify_content": null,
            "justify_items": null,
            "left": null,
            "margin": null,
            "max_height": null,
            "max_width": null,
            "min_height": null,
            "min_width": null,
            "object_fit": null,
            "object_position": null,
            "order": null,
            "overflow": null,
            "overflow_x": null,
            "overflow_y": null,
            "padding": null,
            "right": null,
            "top": null,
            "visibility": null,
            "width": null
          }
        },
        "d650ddeabcca46b597d19b66cafff137": {
          "model_module": "@jupyter-widgets/controls",
          "model_name": "DescriptionStyleModel",
          "model_module_version": "1.5.0",
          "state": {
            "_model_module": "@jupyter-widgets/controls",
            "_model_module_version": "1.5.0",
            "_model_name": "DescriptionStyleModel",
            "_view_count": null,
            "_view_module": "@jupyter-widgets/base",
            "_view_module_version": "1.2.0",
            "_view_name": "StyleView",
            "description_width": ""
          }
        },
        "b69b1ee2a3df432e90116de6ba0de114": {
          "model_module": "@jupyter-widgets/base",
          "model_name": "LayoutModel",
          "model_module_version": "1.2.0",
          "state": {
            "_model_module": "@jupyter-widgets/base",
            "_model_module_version": "1.2.0",
            "_model_name": "LayoutModel",
            "_view_count": null,
            "_view_module": "@jupyter-widgets/base",
            "_view_module_version": "1.2.0",
            "_view_name": "LayoutView",
            "align_content": null,
            "align_items": null,
            "align_self": null,
            "border": null,
            "bottom": null,
            "display": null,
            "flex": null,
            "flex_flow": null,
            "grid_area": null,
            "grid_auto_columns": null,
            "grid_auto_flow": null,
            "grid_auto_rows": null,
            "grid_column": null,
            "grid_gap": null,
            "grid_row": null,
            "grid_template_areas": null,
            "grid_template_columns": null,
            "grid_template_rows": null,
            "height": null,
            "justify_content": null,
            "justify_items": null,
            "left": null,
            "margin": null,
            "max_height": null,
            "max_width": null,
            "min_height": null,
            "min_width": null,
            "object_fit": null,
            "object_position": null,
            "order": null,
            "overflow": null,
            "overflow_x": null,
            "overflow_y": null,
            "padding": null,
            "right": null,
            "top": null,
            "visibility": null,
            "width": null
          }
        },
        "47971619053f4dbbb854ebfc9f9cf26f": {
          "model_module": "@jupyter-widgets/controls",
          "model_name": "ProgressStyleModel",
          "model_module_version": "1.5.0",
          "state": {
            "_model_module": "@jupyter-widgets/controls",
            "_model_module_version": "1.5.0",
            "_model_name": "ProgressStyleModel",
            "_view_count": null,
            "_view_module": "@jupyter-widgets/base",
            "_view_module_version": "1.2.0",
            "_view_name": "StyleView",
            "bar_color": null,
            "description_width": ""
          }
        },
        "a4560bac4350425e89657a4ff7da4462": {
          "model_module": "@jupyter-widgets/base",
          "model_name": "LayoutModel",
          "model_module_version": "1.2.0",
          "state": {
            "_model_module": "@jupyter-widgets/base",
            "_model_module_version": "1.2.0",
            "_model_name": "LayoutModel",
            "_view_count": null,
            "_view_module": "@jupyter-widgets/base",
            "_view_module_version": "1.2.0",
            "_view_name": "LayoutView",
            "align_content": null,
            "align_items": null,
            "align_self": null,
            "border": null,
            "bottom": null,
            "display": null,
            "flex": null,
            "flex_flow": null,
            "grid_area": null,
            "grid_auto_columns": null,
            "grid_auto_flow": null,
            "grid_auto_rows": null,
            "grid_column": null,
            "grid_gap": null,
            "grid_row": null,
            "grid_template_areas": null,
            "grid_template_columns": null,
            "grid_template_rows": null,
            "height": null,
            "justify_content": null,
            "justify_items": null,
            "left": null,
            "margin": null,
            "max_height": null,
            "max_width": null,
            "min_height": null,
            "min_width": null,
            "object_fit": null,
            "object_position": null,
            "order": null,
            "overflow": null,
            "overflow_x": null,
            "overflow_y": null,
            "padding": null,
            "right": null,
            "top": null,
            "visibility": null,
            "width": null
          }
        },
        "29ec066431c34f3680978a4e8caf0dc1": {
          "model_module": "@jupyter-widgets/controls",
          "model_name": "DescriptionStyleModel",
          "model_module_version": "1.5.0",
          "state": {
            "_model_module": "@jupyter-widgets/controls",
            "_model_module_version": "1.5.0",
            "_model_name": "DescriptionStyleModel",
            "_view_count": null,
            "_view_module": "@jupyter-widgets/base",
            "_view_module_version": "1.2.0",
            "_view_name": "StyleView",
            "description_width": ""
          }
        },
        "dd5402533e5e47e0ae64ff8b3944310a": {
          "model_module": "@jupyter-widgets/controls",
          "model_name": "HBoxModel",
          "model_module_version": "1.5.0",
          "state": {
            "_dom_classes": [],
            "_model_module": "@jupyter-widgets/controls",
            "_model_module_version": "1.5.0",
            "_model_name": "HBoxModel",
            "_view_count": null,
            "_view_module": "@jupyter-widgets/controls",
            "_view_module_version": "1.5.0",
            "_view_name": "HBoxView",
            "box_style": "",
            "children": [
              "IPY_MODEL_cbbb345123e5451d874157138ed28a87",
              "IPY_MODEL_96c8f4a65a3c422da73c1cf7d3536a88",
              "IPY_MODEL_421471d10fdb4ba395281745b68bf3aa"
            ],
            "layout": "IPY_MODEL_a195ba7742de4241974a89e556a7d906"
          }
        },
        "cbbb345123e5451d874157138ed28a87": {
          "model_module": "@jupyter-widgets/controls",
          "model_name": "HTMLModel",
          "model_module_version": "1.5.0",
          "state": {
            "_dom_classes": [],
            "_model_module": "@jupyter-widgets/controls",
            "_model_module_version": "1.5.0",
            "_model_name": "HTMLModel",
            "_view_count": null,
            "_view_module": "@jupyter-widgets/controls",
            "_view_module_version": "1.5.0",
            "_view_name": "HTMLView",
            "description": "",
            "description_tooltip": null,
            "layout": "IPY_MODEL_3784cfd014e844b7b7ad430d0d9835b0",
            "placeholder": "​",
            "style": "IPY_MODEL_530b6fdbb8ec4c7ea8943ec4d3da0d56",
            "value": "pytorch_model.bin: 100%"
          }
        },
        "96c8f4a65a3c422da73c1cf7d3536a88": {
          "model_module": "@jupyter-widgets/controls",
          "model_name": "FloatProgressModel",
          "model_module_version": "1.5.0",
          "state": {
            "_dom_classes": [],
            "_model_module": "@jupyter-widgets/controls",
            "_model_module_version": "1.5.0",
            "_model_name": "FloatProgressModel",
            "_view_count": null,
            "_view_module": "@jupyter-widgets/controls",
            "_view_module_version": "1.5.0",
            "_view_name": "ProgressView",
            "bar_style": "success",
            "description": "",
            "description_tooltip": null,
            "layout": "IPY_MODEL_58bf19be3ef348f49ec7e547e37b81ee",
            "max": 1262057559,
            "min": 0,
            "orientation": "horizontal",
            "style": "IPY_MODEL_1ccf20cb7d6a4e11a0b9a24b23a3f56a",
            "value": 1262057559
          }
        },
        "421471d10fdb4ba395281745b68bf3aa": {
          "model_module": "@jupyter-widgets/controls",
          "model_name": "HTMLModel",
          "model_module_version": "1.5.0",
          "state": {
            "_dom_classes": [],
            "_model_module": "@jupyter-widgets/controls",
            "_model_module_version": "1.5.0",
            "_model_name": "HTMLModel",
            "_view_count": null,
            "_view_module": "@jupyter-widgets/controls",
            "_view_module_version": "1.5.0",
            "_view_name": "HTMLView",
            "description": "",
            "description_tooltip": null,
            "layout": "IPY_MODEL_5d788c00fa98465faf6cde55f1f0827e",
            "placeholder": "​",
            "style": "IPY_MODEL_d2c68b0641a140d18843e92743076a1a",
            "value": " 1.26G/1.26G [00:15&lt;00:00, 127MB/s]"
          }
        },
        "a195ba7742de4241974a89e556a7d906": {
          "model_module": "@jupyter-widgets/base",
          "model_name": "LayoutModel",
          "model_module_version": "1.2.0",
          "state": {
            "_model_module": "@jupyter-widgets/base",
            "_model_module_version": "1.2.0",
            "_model_name": "LayoutModel",
            "_view_count": null,
            "_view_module": "@jupyter-widgets/base",
            "_view_module_version": "1.2.0",
            "_view_name": "LayoutView",
            "align_content": null,
            "align_items": null,
            "align_self": null,
            "border": null,
            "bottom": null,
            "display": null,
            "flex": null,
            "flex_flow": null,
            "grid_area": null,
            "grid_auto_columns": null,
            "grid_auto_flow": null,
            "grid_auto_rows": null,
            "grid_column": null,
            "grid_gap": null,
            "grid_row": null,
            "grid_template_areas": null,
            "grid_template_columns": null,
            "grid_template_rows": null,
            "height": null,
            "justify_content": null,
            "justify_items": null,
            "left": null,
            "margin": null,
            "max_height": null,
            "max_width": null,
            "min_height": null,
            "min_width": null,
            "object_fit": null,
            "object_position": null,
            "order": null,
            "overflow": null,
            "overflow_x": null,
            "overflow_y": null,
            "padding": null,
            "right": null,
            "top": null,
            "visibility": null,
            "width": null
          }
        },
        "3784cfd014e844b7b7ad430d0d9835b0": {
          "model_module": "@jupyter-widgets/base",
          "model_name": "LayoutModel",
          "model_module_version": "1.2.0",
          "state": {
            "_model_module": "@jupyter-widgets/base",
            "_model_module_version": "1.2.0",
            "_model_name": "LayoutModel",
            "_view_count": null,
            "_view_module": "@jupyter-widgets/base",
            "_view_module_version": "1.2.0",
            "_view_name": "LayoutView",
            "align_content": null,
            "align_items": null,
            "align_self": null,
            "border": null,
            "bottom": null,
            "display": null,
            "flex": null,
            "flex_flow": null,
            "grid_area": null,
            "grid_auto_columns": null,
            "grid_auto_flow": null,
            "grid_auto_rows": null,
            "grid_column": null,
            "grid_gap": null,
            "grid_row": null,
            "grid_template_areas": null,
            "grid_template_columns": null,
            "grid_template_rows": null,
            "height": null,
            "justify_content": null,
            "justify_items": null,
            "left": null,
            "margin": null,
            "max_height": null,
            "max_width": null,
            "min_height": null,
            "min_width": null,
            "object_fit": null,
            "object_position": null,
            "order": null,
            "overflow": null,
            "overflow_x": null,
            "overflow_y": null,
            "padding": null,
            "right": null,
            "top": null,
            "visibility": null,
            "width": null
          }
        },
        "530b6fdbb8ec4c7ea8943ec4d3da0d56": {
          "model_module": "@jupyter-widgets/controls",
          "model_name": "DescriptionStyleModel",
          "model_module_version": "1.5.0",
          "state": {
            "_model_module": "@jupyter-widgets/controls",
            "_model_module_version": "1.5.0",
            "_model_name": "DescriptionStyleModel",
            "_view_count": null,
            "_view_module": "@jupyter-widgets/base",
            "_view_module_version": "1.2.0",
            "_view_name": "StyleView",
            "description_width": ""
          }
        },
        "58bf19be3ef348f49ec7e547e37b81ee": {
          "model_module": "@jupyter-widgets/base",
          "model_name": "LayoutModel",
          "model_module_version": "1.2.0",
          "state": {
            "_model_module": "@jupyter-widgets/base",
            "_model_module_version": "1.2.0",
            "_model_name": "LayoutModel",
            "_view_count": null,
            "_view_module": "@jupyter-widgets/base",
            "_view_module_version": "1.2.0",
            "_view_name": "LayoutView",
            "align_content": null,
            "align_items": null,
            "align_self": null,
            "border": null,
            "bottom": null,
            "display": null,
            "flex": null,
            "flex_flow": null,
            "grid_area": null,
            "grid_auto_columns": null,
            "grid_auto_flow": null,
            "grid_auto_rows": null,
            "grid_column": null,
            "grid_gap": null,
            "grid_row": null,
            "grid_template_areas": null,
            "grid_template_columns": null,
            "grid_template_rows": null,
            "height": null,
            "justify_content": null,
            "justify_items": null,
            "left": null,
            "margin": null,
            "max_height": null,
            "max_width": null,
            "min_height": null,
            "min_width": null,
            "object_fit": null,
            "object_position": null,
            "order": null,
            "overflow": null,
            "overflow_x": null,
            "overflow_y": null,
            "padding": null,
            "right": null,
            "top": null,
            "visibility": null,
            "width": null
          }
        },
        "1ccf20cb7d6a4e11a0b9a24b23a3f56a": {
          "model_module": "@jupyter-widgets/controls",
          "model_name": "ProgressStyleModel",
          "model_module_version": "1.5.0",
          "state": {
            "_model_module": "@jupyter-widgets/controls",
            "_model_module_version": "1.5.0",
            "_model_name": "ProgressStyleModel",
            "_view_count": null,
            "_view_module": "@jupyter-widgets/base",
            "_view_module_version": "1.2.0",
            "_view_name": "StyleView",
            "bar_color": null,
            "description_width": ""
          }
        },
        "5d788c00fa98465faf6cde55f1f0827e": {
          "model_module": "@jupyter-widgets/base",
          "model_name": "LayoutModel",
          "model_module_version": "1.2.0",
          "state": {
            "_model_module": "@jupyter-widgets/base",
            "_model_module_version": "1.2.0",
            "_model_name": "LayoutModel",
            "_view_count": null,
            "_view_module": "@jupyter-widgets/base",
            "_view_module_version": "1.2.0",
            "_view_name": "LayoutView",
            "align_content": null,
            "align_items": null,
            "align_self": null,
            "border": null,
            "bottom": null,
            "display": null,
            "flex": null,
            "flex_flow": null,
            "grid_area": null,
            "grid_auto_columns": null,
            "grid_auto_flow": null,
            "grid_auto_rows": null,
            "grid_column": null,
            "grid_gap": null,
            "grid_row": null,
            "grid_template_areas": null,
            "grid_template_columns": null,
            "grid_template_rows": null,
            "height": null,
            "justify_content": null,
            "justify_items": null,
            "left": null,
            "margin": null,
            "max_height": null,
            "max_width": null,
            "min_height": null,
            "min_width": null,
            "object_fit": null,
            "object_position": null,
            "order": null,
            "overflow": null,
            "overflow_x": null,
            "overflow_y": null,
            "padding": null,
            "right": null,
            "top": null,
            "visibility": null,
            "width": null
          }
        },
        "d2c68b0641a140d18843e92743076a1a": {
          "model_module": "@jupyter-widgets/controls",
          "model_name": "DescriptionStyleModel",
          "model_module_version": "1.5.0",
          "state": {
            "_model_module": "@jupyter-widgets/controls",
            "_model_module_version": "1.5.0",
            "_model_name": "DescriptionStyleModel",
            "_view_count": null,
            "_view_module": "@jupyter-widgets/base",
            "_view_module_version": "1.2.0",
            "_view_name": "StyleView",
            "description_width": ""
          }
        }
      }
    }
  },
  "cells": [
    {
      "cell_type": "code",
      "execution_count": null,
      "metadata": {
        "colab": {
          "base_uri": "https://localhost:8080/"
        },
        "id": "WdKOk7xK1fm5",
        "outputId": "a4cc60df-cb63-4759-d09e-99e8ae75f980"
      },
      "outputs": [
        {
          "output_type": "stream",
          "name": "stdout",
          "text": [
            "Mounted at /content/drive\n"
          ]
        }
      ],
      "source": [
        "from google.colab import drive\n",
        "drive.mount('/content/drive', force_remount=True)"
      ]
    },
    {
      "cell_type": "markdown",
      "source": [
        "All necessary imports below"
      ],
      "metadata": {
        "id": "OMJQADCnulWu"
      }
    },
    {
      "cell_type": "code",
      "source": [
        "import os\n",
        "import numpy as np\n",
        "from transformers import Wav2Vec2Processor, HubertModel\n",
        "from transformers import Wav2Vec2FeatureExtractor\n",
        "import torch\n",
        "import librosa\n",
        "import soundfile as sf"
      ],
      "metadata": {
        "id": "i5KdfEpe1otY"
      },
      "execution_count": null,
      "outputs": []
    },
    {
      "cell_type": "markdown",
      "source": [
        "Data Preprocessing"
      ],
      "metadata": {
        "id": "rulopq3hur6w"
      }
    },
    {
      "cell_type": "code",
      "source": [
        "import os\n",
        "\n",
        "output_directory = '/content/drive/My Drive/Dataset/Processed/audio/train_wav'\n",
        "\n",
        "file_counts = {}\n",
        "\n",
        "for filename in os.listdir(output_directory):\n",
        "    if filename.endswith('.wav'):\n",
        "        if filename in file_counts:\n",
        "            file_counts[filename] += 1\n",
        "        else:\n",
        "            file_counts[filename] = 1\n",
        "duplicates = {file: count for file, count in file_counts.items() if count > 1}\n",
        "print(\"Duplicates found:\")\n",
        "for dup_file, count in duplicates.items():\n",
        "    print(f\"{dup_file}: {count} copies\")"
      ],
      "metadata": {
        "id": "UPlu4daCuSMm"
      },
      "execution_count": null,
      "outputs": []
    },
    {
      "cell_type": "code",
      "source": [
        "import os\n",
        "import subprocess\n",
        "from tqdm import tqdm\n",
        "\n",
        "\n",
        "source_directory = '/content/drive/My Drive/Dataset/video_with_audio/train'\n",
        "\n",
        "output_directory = '/content/drive/My Drive/Dataset/Processed/audio/train_wav'\n",
        "\n",
        "os.makedirs(output_directory, exist_ok=True)\n",
        "\n",
        "mp4_files = [f for f in os.listdir(source_directory) if f.endswith('.mp4')]\n",
        "total_files = len(mp4_files)\n",
        "print(f\"Total .mp4 files to convert: {total_files}\")\n",
        "\n",
        "for filename in tqdm(mp4_files, desc='Converting .mp4 to .wav', unit='file'):\n",
        "    mp4_file_path = os.path.join(source_directory, filename)\n",
        "    wav_file_path = os.path.join(output_directory, filename.replace('.mp4', '.wav'))\n",
        "    if not os.path.exists(wav_file_path):\n",
        "        command = ['ffmpeg', '-i', mp4_file_path, '-acodec', 'pcm_s16le', '-ac', '1', '-ar', '16000', wav_file_path]\n",
        "        subprocess.run(command)\n",
        "    else:\n",
        "        print(f\"Skipping {filename}, already converted.\")\n",
        "\n",
        "print('Conversion completed.')"
      ],
      "metadata": {
        "id": "7xCa8GQaubaa"
      },
      "execution_count": null,
      "outputs": []
    },
    {
      "cell_type": "code",
      "source": [
        "# number of files in the source directory\n",
        "source_files_count = len([f for f in os.listdir(source_directory) if os.path.isfile(os.path.join(source_directory, f))])\n",
        "print(f\"Number of files in the source directory: {source_files_count}\")\n",
        "\n",
        "#number of files in the destination directory\n",
        "destination_files_count = len([f for f in os.listdir(output_directory) if os.path.isfile(os.path.join(output_directory, f))])\n",
        "print(f\"Number of files in the destination directory: {destination_files_count}\")"
      ],
      "metadata": {
        "id": "3DaE4Mxrui3X"
      },
      "execution_count": null,
      "outputs": []
    },
    {
      "cell_type": "markdown",
      "source": [
        "Embedding generation"
      ],
      "metadata": {
        "id": "kP7FT0K3u59G"
      }
    },
    {
      "cell_type": "code",
      "source": [
        "processor = Wav2Vec2FeatureExtractor.from_pretrained(\"superb/hubert-large-superb-er\")\n",
        "model = HubertModel.from_pretrained(\"facebook/hubert-large-ls960-ft\")"
      ],
      "metadata": {
        "colab": {
          "base_uri": "https://localhost:8080/",
          "height": 137,
          "referenced_widgets": [
            "b1d7a2cc541b427aa6ca18dd5fba7fb8",
            "e0132d8197ab40a7b00b0f0f378d75fd",
            "9183c59326b441c19813685c8c6da85f",
            "c44b94c484834a22b52b741e53c35329",
            "60ab872ca4344afcbf54fdf64fff71b5",
            "b587f17025b643098b538a7404c4932e",
            "d650ddeabcca46b597d19b66cafff137",
            "b69b1ee2a3df432e90116de6ba0de114",
            "47971619053f4dbbb854ebfc9f9cf26f",
            "a4560bac4350425e89657a4ff7da4462",
            "29ec066431c34f3680978a4e8caf0dc1",
            "dd5402533e5e47e0ae64ff8b3944310a",
            "cbbb345123e5451d874157138ed28a87",
            "96c8f4a65a3c422da73c1cf7d3536a88",
            "421471d10fdb4ba395281745b68bf3aa",
            "a195ba7742de4241974a89e556a7d906",
            "3784cfd014e844b7b7ad430d0d9835b0",
            "530b6fdbb8ec4c7ea8943ec4d3da0d56",
            "58bf19be3ef348f49ec7e547e37b81ee",
            "1ccf20cb7d6a4e11a0b9a24b23a3f56a",
            "5d788c00fa98465faf6cde55f1f0827e",
            "d2c68b0641a140d18843e92743076a1a"
          ]
        },
        "id": "G4uANQiH1xNq",
        "outputId": "283648bf-0e85-4210-a448-35e0a4cfca18"
      },
      "execution_count": null,
      "outputs": [
        {
          "output_type": "display_data",
          "data": {
            "text/plain": [
              "config.json:   0%|          | 0.00/1.38k [00:00<?, ?B/s]"
            ],
            "application/vnd.jupyter.widget-view+json": {
              "version_major": 2,
              "version_minor": 0,
              "model_id": "b1d7a2cc541b427aa6ca18dd5fba7fb8"
            }
          },
          "metadata": {}
        },
        {
          "output_type": "display_data",
          "data": {
            "text/plain": [
              "pytorch_model.bin:   0%|          | 0.00/1.26G [00:00<?, ?B/s]"
            ],
            "application/vnd.jupyter.widget-view+json": {
              "version_major": 2,
              "version_minor": 0,
              "model_id": "dd5402533e5e47e0ae64ff8b3944310a"
            }
          },
          "metadata": {}
        },
        {
          "output_type": "stream",
          "name": "stderr",
          "text": [
            "Some weights of HubertModel were not initialized from the model checkpoint at facebook/hubert-large-ls960-ft and are newly initialized: ['hubert.encoder.pos_conv_embed.conv.parametrizations.weight.original0', 'hubert.encoder.pos_conv_embed.conv.parametrizations.weight.original1']\n",
            "You should probably TRAIN this model on a down-stream task to be able to use it for predictions and inference.\n"
          ]
        }
      ]
    },
    {
      "cell_type": "code",
      "source": [
        "dev_folder_path = '/content/drive/My Drive/Dataset/Processed/audio/test_wav'"
      ],
      "metadata": {
        "id": "2YV7724S3KBv"
      },
      "execution_count": null,
      "outputs": []
    },
    {
      "cell_type": "code",
      "source": [
        "def load_and_preprocess_audio(file_path, target_sampling_rate=16000):\n",
        "    audio, sampling_rate = sf.read(file_path)\n",
        "    if sampling_rate != target_sampling_rate:\n",
        "        audio = librosa.resample(audio, orig_sr=sampling_rate, target_sr=target_sampling_rate)\n",
        "    return audio\n",
        "\n",
        "def extract_features(audio, processor, model):\n",
        "    inputs = processor(audio, sampling_rate=16000, return_tensors=\"pt\", padding=True)\n",
        "    inputs = inputs.input_values.to('cuda' if torch.cuda.is_available() else 'cpu')\n",
        "    with torch.no_grad():\n",
        "        outputs = model(inputs)\n",
        "        embeddings = outputs.last_hidden_state\n",
        "    return embeddings\n"
      ],
      "metadata": {
        "id": "V_XdR7m911Wm"
      },
      "execution_count": null,
      "outputs": []
    },
    {
      "cell_type": "code",
      "source": [],
      "metadata": {
        "id": "FjQDHikR212M"
      },
      "execution_count": null,
      "outputs": []
    },
    {
      "cell_type": "code",
      "source": [
        "#  directory for WAV files and output directory for embeddings\n",
        "dev_folder_path = '/content/drive/My Drive/Dataset/Processed/audio/test_wav'\n",
        "output_dir = '/content/drive/My Drive/Dataset/Processed/audio/test_emotion'\n",
        "\n",
        "# output directory if it doesn't exist\n",
        "if not os.path.exists(output_dir):\n",
        "    os.makedirs(output_dir)\n",
        "\n",
        "\n",
        "features_dict = {}\n",
        "\n",
        "# Process each .wav file\n",
        "wav_files = [f for f in os.listdir(dev_folder_path) if f.endswith('.wav')]\n",
        "total_files = len(wav_files)\n",
        "processed_count = 0\n",
        "\n",
        "for filename in wav_files:\n",
        "    output_path = os.path.join(output_dir, f'{filename[:-4]}.npy')\n",
        "    if not os.path.exists(output_path):\n",
        "        file_path = os.path.join(dev_folder_path, filename)\n",
        "        audio = load_and_preprocess_audio(file_path)\n",
        "        features = extract_features(audio, processor, model)\n",
        "        features_dict[filename] = features\n",
        "        np.save(output_path, features.cpu().numpy())\n",
        "        print(f'Processed {filename} ({processed_count + 1}/{total_files})')\n",
        "    else:\n",
        "        print(f'Skipping {filename} as features are already extracted. ({processed_count + 1}/{total_files})')\n",
        "    processed_count += 1"
      ],
      "metadata": {
        "id": "P9ZZsQLn2YCx"
      },
      "execution_count": null,
      "outputs": []
    },
    {
      "cell_type": "code",
      "source": [
        "# checking stuff\n",
        "audio_file_path = '/content/drive/My Drive/Dataset/Processed/audio/test_emotion/dia1128utt3.npy'\n",
        "\n",
        "# Load the embeddings from the file\n",
        "embeddings_audio = np.load(audio_file_path)\n",
        "embeddings_audio"
      ],
      "metadata": {
        "colab": {
          "base_uri": "https://localhost:8080/"
        },
        "id": "KBl4O9Xi5r9s",
        "outputId": "f5825da7-c1ee-4808-e66f-ef16a2205ed1"
      },
      "execution_count": null,
      "outputs": [
        {
          "output_type": "execute_result",
          "data": {
            "text/plain": [
              "array([[[ 0.17506291,  0.36895058,  0.36676377, ...,  0.1190948 ,\n",
              "         -0.11426108, -0.02726609],\n",
              "        [ 0.13045295,  0.44948626,  0.42974222, ...,  0.10116519,\n",
              "         -0.09248384,  0.0548491 ],\n",
              "        [ 0.15498553,  0.41023847,  0.4211151 , ...,  0.10297509,\n",
              "         -0.11946542,  0.06958491],\n",
              "        ...,\n",
              "        [-0.00892584,  0.44067308,  0.30550373, ...,  0.12398724,\n",
              "         -0.26930833,  0.16556536],\n",
              "        [ 0.00310456,  0.46488234,  0.27608773, ...,  0.13190615,\n",
              "         -0.31391814,  0.02305608],\n",
              "        [ 0.00833244,  0.48754168,  0.19516596, ...,  0.07726772,\n",
              "         -0.31118155, -0.06543523]]], dtype=float32)"
            ]
          },
          "metadata": {},
          "execution_count": 25
        }
      ]
    },
    {
      "cell_type": "code",
      "source": [
        "embeddings_audio.shape"
      ],
      "metadata": {
        "colab": {
          "base_uri": "https://localhost:8080/"
        },
        "id": "q49TYXO88oDL",
        "outputId": "eed204df-4524-4b8a-bd14-5d8e458dee05"
      },
      "execution_count": null,
      "outputs": [
        {
          "output_type": "execute_result",
          "data": {
            "text/plain": [
              "(1, 165, 1024)"
            ]
          },
          "metadata": {},
          "execution_count": 26
        }
      ]
    },
    {
      "cell_type": "code",
      "source": [
        "import os\n",
        "import numpy as np\n",
        "\n",
        "# Define the paths\n",
        "input_folder = '/content/drive/My Drive/Processed/audio/test_emotion'\n",
        "mean_output_folder = '/content/drive/My Drive/Processed/audio/test_emotion_mean'\n",
        "\n",
        "os.makedirs(mean_output_folder, exist_ok=True)\n",
        "for file in os.listdir(input_folder):\n",
        "    if file.endswith('.npy'):\n",
        "        mean_output_path = os.path.join(mean_output_folder, file)\n",
        "\n",
        "        # Check if the mean pooled embeddings file already exists\n",
        "        if not os.path.exists(mean_output_path):\n",
        "            embeddings = np.load(os.path.join(input_folder, file))\n",
        "            # Perform mean pooling\n",
        "            mean_pooled_embeddings = np.mean(embeddings, axis=1)\n",
        "            # Save the mean pooled embeddings\n",
        "            np.save(mean_output_path, mean_pooled_embeddings)\n",
        "\n",
        "            print(f'Processed {file}')\n",
        "        else:\n",
        "            print(f'Skipping {file} as mean pooled embeddings are already processed.')\n"
      ],
      "metadata": {
        "id": "doR_KlauGf94"
      },
      "execution_count": null,
      "outputs": []
    },
    {
      "cell_type": "code",
      "source": [
        "#check number of wav train files\n",
        "import os\n",
        "\n",
        "folder_path = '/content/drive/My Drive/Dataset/Processed/audio/test_emotion_mean'  # Change this to your folder path\n",
        "\n",
        "files = os.listdir(folder_path)\n",
        "number_of_files = len(files)\n",
        "print(f'There are {number_of_files} files in the folder.')"
      ],
      "metadata": {
        "colab": {
          "base_uri": "https://localhost:8080/"
        },
        "id": "KwOV7oOAG9-M",
        "outputId": "a8751d36-3f2b-4a05-81e6-1a5b59748055"
      },
      "execution_count": null,
      "outputs": [
        {
          "output_type": "stream",
          "name": "stdout",
          "text": [
            "There are 2572 files in the folder.\n"
          ]
        }
      ]
    },
    {
      "cell_type": "code",
      "source": [],
      "metadata": {
        "id": "ZfAxYUBrKIrH"
      },
      "execution_count": null,
      "outputs": []
    }
  ]
}