{
  "cells": [
    {
      "cell_type": "code",
      "execution_count": 80,
      "metadata": {
        "id": "TdypEbvazhrs"
      },
      "outputs": [],
      "source": [
        "import numpy as np\n",
        "import pandas as pd\n",
        "from sklearn.model_selection import train_test_split\n",
        "from sklearn.neural_network import MLPClassifier\n",
        "from sklearn.metrics import accuracy_score, classification_report, f1_score\n",
        "from sklearn.preprocessing import LabelEncoder\n",
        "import os\n",
        "import json"
      ]
    },
    {
      "cell_type": "code",
      "execution_count": 2,
      "metadata": {
        "id": "qmiT-H45vmTZ"
      },
      "outputs": [],
      "source": [
        "with open('/project/msoleyma_1026/ecp/data/train.json', 'r') as file:\n",
        "    train_data = json.load(file)\n",
        "with open('/project/msoleyma_1026/ecp/data/test.json', 'r') as file:\n",
        "    test_data = json.load(file)"
      ]
    },
    {
      "cell_type": "code",
      "execution_count": 3,
      "metadata": {
        "colab": {
          "base_uri": "https://localhost:8080/"
        },
        "id": "61P1wEBBwte2",
        "outputId": "ccb81cfe-14f1-44e0-f809-29de7880caef"
      },
      "outputs": [
        {
          "data": {
            "text/plain": [
              "{'utterance_ID': 1,\n",
              " 'text': 'Alright , so I am back in high school , I am standing in the middle of the cafeteria , and I realize I am totally naked .',\n",
              " 'speaker': 'Chandler',\n",
              " 'emotion': 'neutral',\n",
              " 'video_name': 'dia1utt1.mp4'}"
            ]
          },
          "execution_count": 3,
          "metadata": {},
          "output_type": "execute_result"
        }
      ],
      "source": [
        "train_data[0]['conversation'][0]"
      ]
    },
    {
      "cell_type": "code",
      "execution_count": 4,
      "metadata": {
        "id": "bned8D9Szm3K"
      },
      "outputs": [],
      "source": [
        "X_text_train = []\n",
        "y_train = []\n",
        "X_text_test = []\n",
        "y_test = []\n",
        "filenames_test = []\n",
        "\n",
        "for conversation in train_data:\n",
        "    for utterance in conversation['conversation']:\n",
        "        file_path = os.path.join('/project/msoleyma_1026/ecp/data/text/train-emotion', utterance['video_name'].replace('.mp4', '.npy'))\n",
        "        if os.path.exists(file_path):\n",
        "            embedding = np.load(file_path)\n",
        "            X_text_train.append(embedding)\n",
        "            y_train.append(utterance['emotion'])\n",
        "for conversation in test_data:\n",
        "    for utterance in conversation['conversation']:\n",
        "        file_path = os.path.join('/project/msoleyma_1026/ecp/data/text/test-emotion', utterance['video_name'].replace('.mp4', '.npy'))\n",
        "        if os.path.exists(file_path):\n",
        "            embedding = np.load(file_path)\n",
        "            X_text_test.append(embedding)\n",
        "            y_test.append(utterance['emotion'])\n",
        "            filenames_test.append(utterance['video_name'])"
      ]
    },
    {
      "cell_type": "code",
      "execution_count": 5,
      "metadata": {
        "id": "hlzj0MCsUfcM"
      },
      "outputs": [
        {
          "data": {
            "text/plain": [
              "(11053, 2566, 11053, 2566, 2566)"
            ]
          },
          "execution_count": 5,
          "metadata": {},
          "output_type": "execute_result"
        }
      ],
      "source": [
        "len(X_text_train), len(X_text_test), len(y_train), len(y_test), len(filenames_test)"
      ]
    },
    {
      "cell_type": "code",
      "execution_count": 13,
      "metadata": {
        "id": "FBsfonEG8_uD"
      },
      "outputs": [],
      "source": [
        "X_video_train = []\n",
        "X_video_test = []\n",
        "\n",
        "for conversation in train_data:\n",
        "    for utterance in conversation['conversation']:\n",
        "        file_path = os.path.join('/project/msoleyma_1026/ecp/data/video/train', utterance['video_name'].replace('.mp4', '.npy'))\n",
        "        if os.path.exists(file_path):\n",
        "            embedding = np.load(file_path)\n",
        "            X_video_train.append(embedding)\n",
        "for conversation in test_data:\n",
        "    for utterance in conversation['conversation']:\n",
        "        file_path = os.path.join('/project/msoleyma_1026/ecp/data/video/test', utterance['video_name'].replace('.mp4', '.npy'))\n",
        "        if os.path.exists(file_path):\n",
        "            embedding = np.load(file_path)\n",
        "            X_video_test.append(embedding)"
      ]
    },
    {
      "cell_type": "code",
      "execution_count": 15,
      "metadata": {
        "id": "LlJEtdDjU5vW"
      },
      "outputs": [
        {
          "data": {
            "text/plain": [
              "(11053, 2566)"
            ]
          },
          "execution_count": 15,
          "metadata": {},
          "output_type": "execute_result"
        }
      ],
      "source": [
        "len(X_video_train), len(X_video_test)"
      ]
    },
    {
      "cell_type": "code",
      "execution_count": 9,
      "metadata": {
        "id": "JWq2EB3U9AqO"
      },
      "outputs": [],
      "source": [
        "X_audio_train = []\n",
        "X_audio_test = []\n",
        "\n",
        "for conversation in train_data:\n",
        "    for utterance in conversation['conversation']:\n",
        "        file_path = os.path.join('/project/msoleyma_1026/ecp/data/audio/train-emotion', utterance['video_name'].replace('.mp4', '.npy'))\n",
        "        if os.path.exists(file_path):\n",
        "            embedding = np.load(file_path)\n",
        "            X_audio_train.append(embedding)\n",
        "for conversation in test_data:\n",
        "    for utterance in conversation['conversation']:\n",
        "        file_path = os.path.join('/project/msoleyma_1026/ecp/data/audio/test-emotion', utterance['video_name'].replace('.mp4', '.npy'))\n",
        "        if os.path.exists(file_path):\n",
        "            embedding = np.load(file_path)\n",
        "            X_audio_test.append(embedding)"
      ]
    },
    {
      "cell_type": "code",
      "execution_count": 10,
      "metadata": {
        "colab": {
          "base_uri": "https://localhost:8080/"
        },
        "id": "xhIiOTpjVTU5",
        "outputId": "d4c32ab1-4732-4701-c554-c1171ba67edc"
      },
      "outputs": [
        {
          "data": {
            "text/plain": [
              "(11053, 2566)"
            ]
          },
          "execution_count": 10,
          "metadata": {},
          "output_type": "execute_result"
        }
      ],
      "source": [
        "len(X_audio_train), len(X_audio_test)"
      ]
    },
    {
      "cell_type": "code",
      "execution_count": 16,
      "metadata": {
        "id": "p6iHclhi4OVk"
      },
      "outputs": [],
      "source": [
        "X_text_train = np.array(X_text_train)\n",
        "X_text_train = X_text_train.reshape(X_text_train.shape[0], -1)\n",
        "X_text_test = np.array(X_text_test)\n",
        "X_text_test = X_text_test.reshape(X_text_test.shape[0], -1)\n",
        "\n",
        "X_video_train = np.array(X_video_train)\n",
        "X_video_train = X_video_train.reshape(X_video_train.shape[0], -1)\n",
        "X_video_test = np.array(X_video_test)\n",
        "X_video_test = X_video_test.reshape(X_video_test.shape[0], -1)\n",
        "\n",
        "X_audio_train = np.array(X_audio_train)\n",
        "X_audio_train = X_audio_train.reshape(X_audio_train.shape[0], -1)\n",
        "X_audio_test = np.array(X_audio_test)\n",
        "X_audio_test = X_audio_test.reshape(X_audio_test.shape[0], -1)\n",
        "\n",
        "y_train = np.array(y_train)\n",
        "y_test = np.array(y_test)"
      ]
    },
    {
      "cell_type": "code",
      "execution_count": 17,
      "metadata": {
        "colab": {
          "base_uri": "https://localhost:8080/"
        },
        "id": "XX6aIa7HWZSt",
        "outputId": "d12077ab-2ada-4177-d8f6-a9cb1b577c4c"
      },
      "outputs": [
        {
          "data": {
            "text/plain": [
              "((11053, 768),\n",
              " (2566, 768),\n",
              " (11053, 768),\n",
              " (2566, 768),\n",
              " (11053, 1024),\n",
              " (2566, 1024),\n",
              " (11053,),\n",
              " (2566,))"
            ]
          },
          "execution_count": 17,
          "metadata": {},
          "output_type": "execute_result"
        }
      ],
      "source": [
        "X_text_train.shape, X_text_test.shape, X_video_train.shape, X_video_test.shape, X_audio_train.shape, X_audio_test.shape, y_train.shape, y_test.shape"
      ]
    },
    {
      "cell_type": "code",
      "execution_count": 18,
      "metadata": {
        "id": "Tga80Ygu8TgT"
      },
      "outputs": [],
      "source": [
        "label_encoder = LabelEncoder()\n",
        "y_train = label_encoder.fit_transform(y_train)\n",
        "y_test = label_encoder.fit_transform(y_test)"
      ]
    },
    {
      "cell_type": "code",
      "execution_count": 19,
      "metadata": {
        "colab": {
          "base_uri": "https://localhost:8080/",
          "height": 75
        },
        "id": "NtWse5clz3Jl",
        "outputId": "a0553b51-e956-41a5-ec8f-f0e65dbd9ff5"
      },
      "outputs": [
        {
          "data": {
            "text/html": [
              "<style>#sk-container-id-1 {color: black;background-color: white;}#sk-container-id-1 pre{padding: 0;}#sk-container-id-1 div.sk-toggleable {background-color: white;}#sk-container-id-1 label.sk-toggleable__label {cursor: pointer;display: block;width: 100%;margin-bottom: 0;padding: 0.3em;box-sizing: border-box;text-align: center;}#sk-container-id-1 label.sk-toggleable__label-arrow:before {content: \"▸\";float: left;margin-right: 0.25em;color: #696969;}#sk-container-id-1 label.sk-toggleable__label-arrow:hover:before {color: black;}#sk-container-id-1 div.sk-estimator:hover label.sk-toggleable__label-arrow:before {color: black;}#sk-container-id-1 div.sk-toggleable__content {max-height: 0;max-width: 0;overflow: hidden;text-align: left;background-color: #f0f8ff;}#sk-container-id-1 div.sk-toggleable__content pre {margin: 0.2em;color: black;border-radius: 0.25em;background-color: #f0f8ff;}#sk-container-id-1 input.sk-toggleable__control:checked~div.sk-toggleable__content {max-height: 200px;max-width: 100%;overflow: auto;}#sk-container-id-1 input.sk-toggleable__control:checked~label.sk-toggleable__label-arrow:before {content: \"▾\";}#sk-container-id-1 div.sk-estimator input.sk-toggleable__control:checked~label.sk-toggleable__label {background-color: #d4ebff;}#sk-container-id-1 div.sk-label input.sk-toggleable__control:checked~label.sk-toggleable__label {background-color: #d4ebff;}#sk-container-id-1 input.sk-hidden--visually {border: 0;clip: rect(1px 1px 1px 1px);clip: rect(1px, 1px, 1px, 1px);height: 1px;margin: -1px;overflow: hidden;padding: 0;position: absolute;width: 1px;}#sk-container-id-1 div.sk-estimator {font-family: monospace;background-color: #f0f8ff;border: 1px dotted black;border-radius: 0.25em;box-sizing: border-box;margin-bottom: 0.5em;}#sk-container-id-1 div.sk-estimator:hover {background-color: #d4ebff;}#sk-container-id-1 div.sk-parallel-item::after {content: \"\";width: 100%;border-bottom: 1px solid gray;flex-grow: 1;}#sk-container-id-1 div.sk-label:hover label.sk-toggleable__label {background-color: #d4ebff;}#sk-container-id-1 div.sk-serial::before {content: \"\";position: absolute;border-left: 1px solid gray;box-sizing: border-box;top: 0;bottom: 0;left: 50%;z-index: 0;}#sk-container-id-1 div.sk-serial {display: flex;flex-direction: column;align-items: center;background-color: white;padding-right: 0.2em;padding-left: 0.2em;position: relative;}#sk-container-id-1 div.sk-item {position: relative;z-index: 1;}#sk-container-id-1 div.sk-parallel {display: flex;align-items: stretch;justify-content: center;background-color: white;position: relative;}#sk-container-id-1 div.sk-item::before, #sk-container-id-1 div.sk-parallel-item::before {content: \"\";position: absolute;border-left: 1px solid gray;box-sizing: border-box;top: 0;bottom: 0;left: 50%;z-index: -1;}#sk-container-id-1 div.sk-parallel-item {display: flex;flex-direction: column;z-index: 1;position: relative;background-color: white;}#sk-container-id-1 div.sk-parallel-item:first-child::after {align-self: flex-end;width: 50%;}#sk-container-id-1 div.sk-parallel-item:last-child::after {align-self: flex-start;width: 50%;}#sk-container-id-1 div.sk-parallel-item:only-child::after {width: 0;}#sk-container-id-1 div.sk-dashed-wrapped {border: 1px dashed gray;margin: 0 0.4em 0.5em 0.4em;box-sizing: border-box;padding-bottom: 0.4em;background-color: white;}#sk-container-id-1 div.sk-label label {font-family: monospace;font-weight: bold;display: inline-block;line-height: 1.2em;}#sk-container-id-1 div.sk-label-container {text-align: center;}#sk-container-id-1 div.sk-container {/* jupyter's `normalize.less` sets `[hidden] { display: none; }` but bootstrap.min.css set `[hidden] { display: none !important; }` so we also need the `!important` here to be able to override the default hidden behavior on the sphinx rendered scikit-learn.org. See: https://github.com/scikit-learn/scikit-learn/issues/21755 */display: inline-block !important;position: relative;}#sk-container-id-1 div.sk-text-repr-fallback {display: none;}</style><div id=\"sk-container-id-1\" class=\"sk-top-container\"><div class=\"sk-text-repr-fallback\"><pre>MLPClassifier(hidden_layer_sizes=(300, 100), max_iter=300, random_state=42)</pre><b>In a Jupyter environment, please rerun this cell to show the HTML representation or trust the notebook. <br />On GitHub, the HTML representation is unable to render, please try loading this page with nbviewer.org.</b></div><div class=\"sk-container\" hidden><div class=\"sk-item\"><div class=\"sk-estimator sk-toggleable\"><input class=\"sk-toggleable__control sk-hidden--visually\" id=\"sk-estimator-id-1\" type=\"checkbox\" checked><label for=\"sk-estimator-id-1\" class=\"sk-toggleable__label sk-toggleable__label-arrow\">MLPClassifier</label><div class=\"sk-toggleable__content\"><pre>MLPClassifier(hidden_layer_sizes=(300, 100), max_iter=300, random_state=42)</pre></div></div></div></div></div>"
            ],
            "text/plain": [
              "MLPClassifier(hidden_layer_sizes=(300, 100), max_iter=300, random_state=42)"
            ]
          },
          "execution_count": 19,
          "metadata": {},
          "output_type": "execute_result"
        }
      ],
      "source": [
        "mlp_text = MLPClassifier(hidden_layer_sizes=(300,100), max_iter=300, activation='relu', solver='adam', learning_rate_init=0.001, random_state=42)\n",
        "\n",
        "mlp_text.fit(X_text_train, y_train)"
      ]
    },
    {
      "cell_type": "code",
      "execution_count": 20,
      "metadata": {
        "colab": {
          "base_uri": "https://localhost:8080/",
          "height": 130
        },
        "id": "dFRgtK0H-l3B",
        "outputId": "c79b0326-5ddb-417d-f6f1-ee9d23f61eaf"
      },
      "outputs": [
        {
          "data": {
            "text/html": [
              "<style>#sk-container-id-2 {color: black;background-color: white;}#sk-container-id-2 pre{padding: 0;}#sk-container-id-2 div.sk-toggleable {background-color: white;}#sk-container-id-2 label.sk-toggleable__label {cursor: pointer;display: block;width: 100%;margin-bottom: 0;padding: 0.3em;box-sizing: border-box;text-align: center;}#sk-container-id-2 label.sk-toggleable__label-arrow:before {content: \"▸\";float: left;margin-right: 0.25em;color: #696969;}#sk-container-id-2 label.sk-toggleable__label-arrow:hover:before {color: black;}#sk-container-id-2 div.sk-estimator:hover label.sk-toggleable__label-arrow:before {color: black;}#sk-container-id-2 div.sk-toggleable__content {max-height: 0;max-width: 0;overflow: hidden;text-align: left;background-color: #f0f8ff;}#sk-container-id-2 div.sk-toggleable__content pre {margin: 0.2em;color: black;border-radius: 0.25em;background-color: #f0f8ff;}#sk-container-id-2 input.sk-toggleable__control:checked~div.sk-toggleable__content {max-height: 200px;max-width: 100%;overflow: auto;}#sk-container-id-2 input.sk-toggleable__control:checked~label.sk-toggleable__label-arrow:before {content: \"▾\";}#sk-container-id-2 div.sk-estimator input.sk-toggleable__control:checked~label.sk-toggleable__label {background-color: #d4ebff;}#sk-container-id-2 div.sk-label input.sk-toggleable__control:checked~label.sk-toggleable__label {background-color: #d4ebff;}#sk-container-id-2 input.sk-hidden--visually {border: 0;clip: rect(1px 1px 1px 1px);clip: rect(1px, 1px, 1px, 1px);height: 1px;margin: -1px;overflow: hidden;padding: 0;position: absolute;width: 1px;}#sk-container-id-2 div.sk-estimator {font-family: monospace;background-color: #f0f8ff;border: 1px dotted black;border-radius: 0.25em;box-sizing: border-box;margin-bottom: 0.5em;}#sk-container-id-2 div.sk-estimator:hover {background-color: #d4ebff;}#sk-container-id-2 div.sk-parallel-item::after {content: \"\";width: 100%;border-bottom: 1px solid gray;flex-grow: 1;}#sk-container-id-2 div.sk-label:hover label.sk-toggleable__label {background-color: #d4ebff;}#sk-container-id-2 div.sk-serial::before {content: \"\";position: absolute;border-left: 1px solid gray;box-sizing: border-box;top: 0;bottom: 0;left: 50%;z-index: 0;}#sk-container-id-2 div.sk-serial {display: flex;flex-direction: column;align-items: center;background-color: white;padding-right: 0.2em;padding-left: 0.2em;position: relative;}#sk-container-id-2 div.sk-item {position: relative;z-index: 1;}#sk-container-id-2 div.sk-parallel {display: flex;align-items: stretch;justify-content: center;background-color: white;position: relative;}#sk-container-id-2 div.sk-item::before, #sk-container-id-2 div.sk-parallel-item::before {content: \"\";position: absolute;border-left: 1px solid gray;box-sizing: border-box;top: 0;bottom: 0;left: 50%;z-index: -1;}#sk-container-id-2 div.sk-parallel-item {display: flex;flex-direction: column;z-index: 1;position: relative;background-color: white;}#sk-container-id-2 div.sk-parallel-item:first-child::after {align-self: flex-end;width: 50%;}#sk-container-id-2 div.sk-parallel-item:last-child::after {align-self: flex-start;width: 50%;}#sk-container-id-2 div.sk-parallel-item:only-child::after {width: 0;}#sk-container-id-2 div.sk-dashed-wrapped {border: 1px dashed gray;margin: 0 0.4em 0.5em 0.4em;box-sizing: border-box;padding-bottom: 0.4em;background-color: white;}#sk-container-id-2 div.sk-label label {font-family: monospace;font-weight: bold;display: inline-block;line-height: 1.2em;}#sk-container-id-2 div.sk-label-container {text-align: center;}#sk-container-id-2 div.sk-container {/* jupyter's `normalize.less` sets `[hidden] { display: none; }` but bootstrap.min.css set `[hidden] { display: none !important; }` so we also need the `!important` here to be able to override the default hidden behavior on the sphinx rendered scikit-learn.org. See: https://github.com/scikit-learn/scikit-learn/issues/21755 */display: inline-block !important;position: relative;}#sk-container-id-2 div.sk-text-repr-fallback {display: none;}</style><div id=\"sk-container-id-2\" class=\"sk-top-container\"><div class=\"sk-text-repr-fallback\"><pre>MLPClassifier(hidden_layer_sizes=(300, 100), max_iter=300, random_state=42)</pre><b>In a Jupyter environment, please rerun this cell to show the HTML representation or trust the notebook. <br />On GitHub, the HTML representation is unable to render, please try loading this page with nbviewer.org.</b></div><div class=\"sk-container\" hidden><div class=\"sk-item\"><div class=\"sk-estimator sk-toggleable\"><input class=\"sk-toggleable__control sk-hidden--visually\" id=\"sk-estimator-id-2\" type=\"checkbox\" checked><label for=\"sk-estimator-id-2\" class=\"sk-toggleable__label sk-toggleable__label-arrow\">MLPClassifier</label><div class=\"sk-toggleable__content\"><pre>MLPClassifier(hidden_layer_sizes=(300, 100), max_iter=300, random_state=42)</pre></div></div></div></div></div>"
            ],
            "text/plain": [
              "MLPClassifier(hidden_layer_sizes=(300, 100), max_iter=300, random_state=42)"
            ]
          },
          "execution_count": 20,
          "metadata": {},
          "output_type": "execute_result"
        }
      ],
      "source": [
        "mlp_video = MLPClassifier(hidden_layer_sizes=(300,100), max_iter=300, activation='relu', solver='adam', learning_rate_init=0.001, random_state=42)\n",
        "\n",
        "mlp_video.fit(X_video_train, y_train)"
      ]
    },
    {
      "cell_type": "code",
      "execution_count": 21,
      "metadata": {
        "colab": {
          "base_uri": "https://localhost:8080/",
          "height": 75
        },
        "id": "m2zOZjYm-pCx",
        "outputId": "d8ce70e4-b9e4-4ea0-ff84-1e7b5138a9b3"
      },
      "outputs": [
        {
          "data": {
            "text/html": [
              "<style>#sk-container-id-3 {color: black;background-color: white;}#sk-container-id-3 pre{padding: 0;}#sk-container-id-3 div.sk-toggleable {background-color: white;}#sk-container-id-3 label.sk-toggleable__label {cursor: pointer;display: block;width: 100%;margin-bottom: 0;padding: 0.3em;box-sizing: border-box;text-align: center;}#sk-container-id-3 label.sk-toggleable__label-arrow:before {content: \"▸\";float: left;margin-right: 0.25em;color: #696969;}#sk-container-id-3 label.sk-toggleable__label-arrow:hover:before {color: black;}#sk-container-id-3 div.sk-estimator:hover label.sk-toggleable__label-arrow:before {color: black;}#sk-container-id-3 div.sk-toggleable__content {max-height: 0;max-width: 0;overflow: hidden;text-align: left;background-color: #f0f8ff;}#sk-container-id-3 div.sk-toggleable__content pre {margin: 0.2em;color: black;border-radius: 0.25em;background-color: #f0f8ff;}#sk-container-id-3 input.sk-toggleable__control:checked~div.sk-toggleable__content {max-height: 200px;max-width: 100%;overflow: auto;}#sk-container-id-3 input.sk-toggleable__control:checked~label.sk-toggleable__label-arrow:before {content: \"▾\";}#sk-container-id-3 div.sk-estimator input.sk-toggleable__control:checked~label.sk-toggleable__label {background-color: #d4ebff;}#sk-container-id-3 div.sk-label input.sk-toggleable__control:checked~label.sk-toggleable__label {background-color: #d4ebff;}#sk-container-id-3 input.sk-hidden--visually {border: 0;clip: rect(1px 1px 1px 1px);clip: rect(1px, 1px, 1px, 1px);height: 1px;margin: -1px;overflow: hidden;padding: 0;position: absolute;width: 1px;}#sk-container-id-3 div.sk-estimator {font-family: monospace;background-color: #f0f8ff;border: 1px dotted black;border-radius: 0.25em;box-sizing: border-box;margin-bottom: 0.5em;}#sk-container-id-3 div.sk-estimator:hover {background-color: #d4ebff;}#sk-container-id-3 div.sk-parallel-item::after {content: \"\";width: 100%;border-bottom: 1px solid gray;flex-grow: 1;}#sk-container-id-3 div.sk-label:hover label.sk-toggleable__label {background-color: #d4ebff;}#sk-container-id-3 div.sk-serial::before {content: \"\";position: absolute;border-left: 1px solid gray;box-sizing: border-box;top: 0;bottom: 0;left: 50%;z-index: 0;}#sk-container-id-3 div.sk-serial {display: flex;flex-direction: column;align-items: center;background-color: white;padding-right: 0.2em;padding-left: 0.2em;position: relative;}#sk-container-id-3 div.sk-item {position: relative;z-index: 1;}#sk-container-id-3 div.sk-parallel {display: flex;align-items: stretch;justify-content: center;background-color: white;position: relative;}#sk-container-id-3 div.sk-item::before, #sk-container-id-3 div.sk-parallel-item::before {content: \"\";position: absolute;border-left: 1px solid gray;box-sizing: border-box;top: 0;bottom: 0;left: 50%;z-index: -1;}#sk-container-id-3 div.sk-parallel-item {display: flex;flex-direction: column;z-index: 1;position: relative;background-color: white;}#sk-container-id-3 div.sk-parallel-item:first-child::after {align-self: flex-end;width: 50%;}#sk-container-id-3 div.sk-parallel-item:last-child::after {align-self: flex-start;width: 50%;}#sk-container-id-3 div.sk-parallel-item:only-child::after {width: 0;}#sk-container-id-3 div.sk-dashed-wrapped {border: 1px dashed gray;margin: 0 0.4em 0.5em 0.4em;box-sizing: border-box;padding-bottom: 0.4em;background-color: white;}#sk-container-id-3 div.sk-label label {font-family: monospace;font-weight: bold;display: inline-block;line-height: 1.2em;}#sk-container-id-3 div.sk-label-container {text-align: center;}#sk-container-id-3 div.sk-container {/* jupyter's `normalize.less` sets `[hidden] { display: none; }` but bootstrap.min.css set `[hidden] { display: none !important; }` so we also need the `!important` here to be able to override the default hidden behavior on the sphinx rendered scikit-learn.org. See: https://github.com/scikit-learn/scikit-learn/issues/21755 */display: inline-block !important;position: relative;}#sk-container-id-3 div.sk-text-repr-fallback {display: none;}</style><div id=\"sk-container-id-3\" class=\"sk-top-container\"><div class=\"sk-text-repr-fallback\"><pre>MLPClassifier(hidden_layer_sizes=(300, 100), max_iter=300, random_state=42)</pre><b>In a Jupyter environment, please rerun this cell to show the HTML representation or trust the notebook. <br />On GitHub, the HTML representation is unable to render, please try loading this page with nbviewer.org.</b></div><div class=\"sk-container\" hidden><div class=\"sk-item\"><div class=\"sk-estimator sk-toggleable\"><input class=\"sk-toggleable__control sk-hidden--visually\" id=\"sk-estimator-id-3\" type=\"checkbox\" checked><label for=\"sk-estimator-id-3\" class=\"sk-toggleable__label sk-toggleable__label-arrow\">MLPClassifier</label><div class=\"sk-toggleable__content\"><pre>MLPClassifier(hidden_layer_sizes=(300, 100), max_iter=300, random_state=42)</pre></div></div></div></div></div>"
            ],
            "text/plain": [
              "MLPClassifier(hidden_layer_sizes=(300, 100), max_iter=300, random_state=42)"
            ]
          },
          "execution_count": 21,
          "metadata": {},
          "output_type": "execute_result"
        }
      ],
      "source": [
        "mlp_audio = MLPClassifier(hidden_layer_sizes=(300,100), max_iter=300, activation='relu', solver='adam', learning_rate_init=0.001, random_state=42)\n",
        "\n",
        "mlp_audio.fit(X_audio_train, y_train)"
      ]
    },
    {
      "cell_type": "code",
      "execution_count": 22,
      "metadata": {
        "colab": {
          "base_uri": "https://localhost:8080/"
        },
        "id": "nTLoWZDn0DIb",
        "outputId": "c86871b2-8596-4e25-ccc9-11238a29b3b3"
      },
      "outputs": [
        {
          "name": "stdout",
          "output_type": "stream",
          "text": [
            "Accuracy: 53.74%\n",
            "              precision    recall  f1-score   support\n",
            "\n",
            "           0       0.39      0.41      0.40       333\n",
            "           1       0.13      0.08      0.10        79\n",
            "           2       0.21      0.14      0.17        56\n",
            "           3       0.48      0.48      0.48       429\n",
            "           4       0.65      0.73      0.69      1121\n",
            "           5       0.31      0.21      0.25       241\n",
            "           6       0.56      0.50      0.53       307\n",
            "\n",
            "    accuracy                           0.54      2566\n",
            "   macro avg       0.39      0.37      0.37      2566\n",
            "weighted avg       0.52      0.54      0.53      2566\n",
            "\n",
            "F1 Score: 52.56%\n"
          ]
        }
      ],
      "source": [
        "y_text_pred = mlp_text.predict(X_text_test)\n",
        "\n",
        "accuracy_text = accuracy_score(y_test, y_text_pred)\n",
        "print(f'Accuracy: {accuracy_text * 100:.2f}%')\n",
        "class_report_text = classification_report(y_test, y_text_pred)\n",
        "print(class_report_text)\n",
        "f1_score_text = f1_score(y_test, y_text_pred, average='weighted')\n",
        "print(f'F1 Score: {f1_score_text * 100:.2f}%')"
      ]
    },
    {
      "cell_type": "code",
      "execution_count": 23,
      "metadata": {
        "colab": {
          "base_uri": "https://localhost:8080/"
        },
        "id": "aOqV86Sx6jlv",
        "outputId": "52d89a53-97f3-4de5-ccdd-f4110495f396"
      },
      "outputs": [
        {
          "name": "stdout",
          "output_type": "stream",
          "text": [
            "Accuracy: 31.61%\n",
            "              precision    recall  f1-score   support\n",
            "\n",
            "           0       0.21      0.19      0.20       333\n",
            "           1       0.02      0.03      0.02        79\n",
            "           2       0.12      0.12      0.12        56\n",
            "           3       0.26      0.23      0.25       429\n",
            "           4       0.48      0.49      0.48      1121\n",
            "           5       0.14      0.14      0.14       241\n",
            "           6       0.17      0.20      0.18       307\n",
            "\n",
            "    accuracy                           0.32      2566\n",
            "   macro avg       0.20      0.20      0.20      2566\n",
            "weighted avg       0.32      0.32      0.32      2566\n",
            "\n",
            "F1 Score: 31.59%\n"
          ]
        }
      ],
      "source": [
        "y_video_pred = mlp_video.predict(X_video_test)\n",
        "\n",
        "accuracy_video = accuracy_score(y_test, y_video_pred)\n",
        "print(f'Accuracy: {accuracy_video * 100:.2f}%')\n",
        "class_report_video = classification_report(y_test, y_video_pred)\n",
        "print(class_report_video)\n",
        "f1_score_video = f1_score(y_test, y_video_pred, average='weighted')\n",
        "print(f'F1 Score: {f1_score_video * 100:.2f}%')"
      ]
    },
    {
      "cell_type": "code",
      "execution_count": 24,
      "metadata": {
        "colab": {
          "base_uri": "https://localhost:8080/"
        },
        "id": "cbh8HcTpFVcp",
        "outputId": "f0e97862-9397-4a49-9d43-83402522e64a"
      },
      "outputs": [
        {
          "name": "stdout",
          "output_type": "stream",
          "text": [
            "Accuracy: 45.95%\n",
            "              precision    recall  f1-score   support\n",
            "\n",
            "           0       0.34      0.24      0.28       333\n",
            "           1       0.13      0.11      0.12        79\n",
            "           2       0.07      0.02      0.03        56\n",
            "           3       0.33      0.41      0.36       429\n",
            "           4       0.56      0.70      0.62      1121\n",
            "           5       0.46      0.14      0.22       241\n",
            "           6       0.40      0.32      0.36       307\n",
            "\n",
            "    accuracy                           0.46      2566\n",
            "   macro avg       0.33      0.28      0.28      2566\n",
            "weighted avg       0.44      0.46      0.44      2566\n",
            "\n",
            "F1 Score: 43.62%\n"
          ]
        }
      ],
      "source": [
        "y_audio_pred = mlp_audio.predict(X_audio_test)\n",
        "\n",
        "accuracy_audio = accuracy_score(y_test, y_audio_pred)\n",
        "print(f'Accuracy: {accuracy_audio * 100:.2f}%')\n",
        "class_report_audio = classification_report(y_test, y_audio_pred)\n",
        "print(class_report_audio)\n",
        "f1_score_audio = f1_score(y_test, y_audio_pred, average='weighted')\n",
        "print(f'F1 Score: {f1_score_audio * 100:.2f}%')"
      ]
    },
    {
      "cell_type": "code",
      "execution_count": 25,
      "metadata": {
        "colab": {
          "base_uri": "https://localhost:8080/"
        },
        "id": "sc1iHGp1FnOy",
        "outputId": "f1124a1a-508c-41f8-9b89-b9a4450bf350"
      },
      "outputs": [
        {
          "name": "stdout",
          "output_type": "stream",
          "text": [
            "Accuracy: 54.29%\n",
            "              precision    recall  f1-score   support\n",
            "\n",
            "           0       0.46      0.31      0.37       333\n",
            "           1       0.15      0.04      0.06        79\n",
            "           2       0.36      0.07      0.12        56\n",
            "           3       0.47      0.44      0.45       429\n",
            "           4       0.59      0.84      0.69      1121\n",
            "           5       0.39      0.14      0.20       241\n",
            "           6       0.52      0.39      0.44       307\n",
            "\n",
            "    accuracy                           0.54      2566\n",
            "   macro avg       0.42      0.32      0.33      2566\n",
            "weighted avg       0.51      0.54      0.50      2566\n",
            "\n",
            "F1 Score: 50.37%\n"
          ]
        }
      ],
      "source": [
        "prob_audio = mlp_audio.predict_proba(X_audio_test)\n",
        "prob_video = mlp_video.predict_proba(X_video_test)\n",
        "prob_text = mlp_text.predict_proba(X_text_test)\n",
        "\n",
        "prob_average = (prob_audio + prob_video + prob_text) / 3\n",
        "\n",
        "final_predictions = np.argmax(prob_average, axis=1)\n",
        "\n",
        "accuracy = accuracy_score(y_test, final_predictions)\n",
        "print(f'Accuracy: {accuracy * 100:.2f}%')\n",
        "class_report = classification_report(y_test, final_predictions)\n",
        "print(class_report)\n",
        "f1_score = f1_score(y_test, final_predictions, average='weighted')\n",
        "print(f'F1 Score: {f1_score * 100:.2f}%')"
      ]
    },
    {
      "cell_type": "code",
      "execution_count": 26,
      "metadata": {
        "colab": {
          "base_uri": "https://localhost:8080/",
          "height": 216
        },
        "id": "hofpUyfLZZeD",
        "outputId": "7c6c9da3-c55e-454a-d235-28b6ae05d3f3"
      },
      "outputs": [],
      "source": [
        "y_test_final_labels = label_encoder.inverse_transform(final_predictions)\n",
        "\n",
        "results_df = pd.DataFrame({\n",
        "    'filename': filenames_test,\n",
        "    'predicted_label': y_test_final_labels\n",
        "})\n",
        "\n",
        "predicted_emotions = results_df.set_index('filename')['predicted_label'].to_dict()\n",
        "\n",
        "# results_df.to_csv('/content/drive/MyDrive/CSCI535 Project/Dataset/Processed/late_fusion_predictions_with_filenames.csv', index=False)"
      ]
    },
    {
      "cell_type": "code",
      "execution_count": 27,
      "metadata": {
        "colab": {
          "base_uri": "https://localhost:8080/",
          "height": 144
        },
        "id": "R-wUhfJ3c2ES",
        "outputId": "5f2b065d-6290-41d4-b418-5bf988366572"
      },
      "outputs": [
        {
          "name": "stdout",
          "output_type": "stream",
          "text": [
            "{'dia16utt1.mp4': 'neutral', 'dia16utt2.mp4': 'sadness', 'dia16utt3.mp4': 'joy', 'dia16utt4.mp4': 'neutral', 'dia16utt5.mp4': 'neutral', 'dia20utt1.mp4': 'neutral', 'dia20utt2.mp4': 'neutral', 'dia20utt3.mp4': 'neutral', 'dia20utt4.mp4': 'joy', 'dia20utt5.mp4': 'joy', 'dia20utt6.mp4': 'neutral', 'dia20utt7.mp4': 'neutral', 'dia20utt8.mp4': 'sadness', 'dia20utt9.mp4': 'joy', 'dia20utt10.mp4': 'neutral', 'dia26utt1.mp4': 'disgust', 'dia26utt2.mp4': 'neutral', 'dia26utt3.mp4': 'neutral', 'dia26utt4.mp4': 'neutral', 'dia26utt5.mp4': 'anger', 'dia43utt1.mp4': 'neutral', 'dia43utt2.mp4': 'neutral', 'dia43utt3.mp4': 'joy', 'dia46utt1.mp4': 'neutral', 'dia46utt2.mp4': 'neutral', 'dia46utt3.mp4': 'neutral', 'dia46utt4.mp4': 'neutral', 'dia46utt5.mp4': 'neutral', 'dia47utt1.mp4': 'neutral', 'dia47utt2.mp4': 'surprise', 'dia47utt3.mp4': 'joy', 'dia47utt4.mp4': 'neutral', 'dia47utt5.mp4': 'neutral', 'dia47utt6.mp4': 'neutral', 'dia47utt7.mp4': 'neutral', 'dia47utt8.mp4': 'neutral', 'dia47utt9.mp4': 'anger', 'dia47utt10.mp4': 'surprise', 'dia47utt11.mp4': 'neutral', 'dia47utt12.mp4': 'neutral', 'dia47utt13.mp4': 'joy', 'dia47utt14.mp4': 'neutral', 'dia47utt15.mp4': 'neutral', 'dia47utt16.mp4': 'neutral', 'dia47utt17.mp4': 'neutral', 'dia47utt18.mp4': 'neutral', 'dia47utt19.mp4': 'neutral', 'dia47utt20.mp4': 'neutral', 'dia47utt21.mp4': 'neutral', 'dia49utt1.mp4': 'neutral', 'dia49utt2.mp4': 'joy', 'dia49utt3.mp4': 'surprise', 'dia49utt4.mp4': 'neutral', 'dia49utt5.mp4': 'neutral', 'dia49utt6.mp4': 'neutral', 'dia49utt7.mp4': 'neutral', 'dia49utt8.mp4': 'anger', 'dia49utt9.mp4': 'neutral', 'dia49utt10.mp4': 'neutral', 'dia49utt11.mp4': 'sadness', 'dia49utt12.mp4': 'neutral', 'dia51utt1.mp4': 'neutral', 'dia51utt2.mp4': 'neutral', 'dia51utt3.mp4': 'neutral', 'dia51utt4.mp4': 'neutral', 'dia51utt5.mp4': 'neutral', 'dia52utt1.mp4': 'anger', 'dia52utt2.mp4': 'sadness', 'dia52utt3.mp4': 'neutral', 'dia52utt4.mp4': 'neutral', 'dia52utt5.mp4': 'surprise', 'dia52utt6.mp4': 'anger', 'dia58utt1.mp4': 'joy', 'dia58utt2.mp4': 'neutral', 'dia58utt3.mp4': 'joy', 'dia58utt4.mp4': 'neutral', 'dia58utt5.mp4': 'joy', 'dia58utt6.mp4': 'neutral', 'dia58utt7.mp4': 'joy', 'dia58utt8.mp4': 'neutral', 'dia58utt9.mp4': 'neutral', 'dia58utt10.mp4': 'neutral', 'dia58utt11.mp4': 'neutral', 'dia58utt12.mp4': 'neutral', 'dia58utt13.mp4': 'neutral', 'dia58utt14.mp4': 'anger', 'dia58utt15.mp4': 'neutral', 'dia58utt16.mp4': 'neutral', 'dia58utt17.mp4': 'neutral', 'dia58utt18.mp4': 'joy', 'dia58utt19.mp4': 'neutral', 'dia58utt20.mp4': 'neutral', 'dia62utt1.mp4': 'surprise', 'dia62utt2.mp4': 'neutral', 'dia62utt3.mp4': 'neutral', 'dia62utt4.mp4': 'neutral', 'dia62utt5.mp4': 'neutral', 'dia62utt6.mp4': 'surprise', 'dia62utt7.mp4': 'neutral', 'dia62utt8.mp4': 'neutral', 'dia62utt9.mp4': 'surprise', 'dia64utt1.mp4': 'neutral', 'dia64utt2.mp4': 'joy', 'dia64utt3.mp4': 'joy', 'dia64utt4.mp4': 'neutral', 'dia64utt5.mp4': 'neutral', 'dia67utt1.mp4': 'neutral', 'dia67utt2.mp4': 'neutral', 'dia67utt3.mp4': 'neutral', 'dia67utt4.mp4': 'neutral', 'dia67utt5.mp4': 'neutral', 'dia67utt6.mp4': 'neutral', 'dia67utt7.mp4': 'neutral', 'dia67utt8.mp4': 'neutral', 'dia67utt9.mp4': 'joy', 'dia67utt10.mp4': 'neutral', 'dia67utt11.mp4': 'joy', 'dia67utt12.mp4': 'neutral', 'dia67utt13.mp4': 'surprise', 'dia67utt14.mp4': 'surprise', 'dia67utt15.mp4': 'surprise', 'dia79utt1.mp4': 'neutral', 'dia79utt2.mp4': 'neutral', 'dia79utt3.mp4': 'joy', 'dia79utt4.mp4': 'neutral', 'dia79utt5.mp4': 'joy', 'dia79utt6.mp4': 'disgust', 'dia79utt7.mp4': 'joy', 'dia79utt8.mp4': 'sadness', 'dia79utt9.mp4': 'sadness', 'dia79utt10.mp4': 'neutral', 'dia79utt11.mp4': 'neutral', 'dia79utt12.mp4': 'neutral', 'dia79utt13.mp4': 'neutral', 'dia79utt14.mp4': 'neutral', 'dia79utt15.mp4': 'anger', 'dia88utt1.mp4': 'neutral', 'dia88utt2.mp4': 'joy', 'dia88utt3.mp4': 'neutral', 'dia88utt4.mp4': 'neutral', 'dia88utt5.mp4': 'anger', 'dia88utt6.mp4': 'surprise', 'dia88utt7.mp4': 'anger', 'dia88utt8.mp4': 'neutral', 'dia88utt9.mp4': 'neutral', 'dia88utt10.mp4': 'neutral', 'dia88utt11.mp4': 'anger', 'dia88utt12.mp4': 'neutral', 'dia88utt13.mp4': 'neutral', 'dia89utt1.mp4': 'joy', 'dia89utt2.mp4': 'anger', 'dia89utt3.mp4': 'neutral', 'dia89utt4.mp4': 'neutral', 'dia89utt5.mp4': 'joy', 'dia89utt6.mp4': 'anger', 'dia89utt7.mp4': 'neutral', 'dia89utt8.mp4': 'joy', 'dia89utt9.mp4': 'neutral', 'dia89utt10.mp4': 'neutral', 'dia89utt11.mp4': 'neutral', 'dia89utt12.mp4': 'neutral', 'dia96utt1.mp4': 'neutral', 'dia96utt2.mp4': 'neutral', 'dia96utt3.mp4': 'neutral', 'dia96utt4.mp4': 'joy', 'dia96utt5.mp4': 'neutral', 'dia96utt6.mp4': 'sadness', 'dia101utt1.mp4': 'joy', 'dia101utt2.mp4': 'neutral', 'dia101utt3.mp4': 'neutral', 'dia101utt4.mp4': 'joy', 'dia101utt5.mp4': 'neutral', 'dia101utt6.mp4': 'neutral', 'dia101utt7.mp4': 'neutral', 'dia101utt8.mp4': 'surprise', 'dia111utt1.mp4': 'neutral', 'dia111utt2.mp4': 'neutral', 'dia112utt1.mp4': 'neutral', 'dia112utt2.mp4': 'neutral', 'dia112utt3.mp4': 'neutral', 'dia112utt4.mp4': 'neutral', 'dia112utt5.mp4': 'surprise', 'dia112utt6.mp4': 'anger', 'dia112utt7.mp4': 'neutral', 'dia112utt8.mp4': 'joy', 'dia112utt9.mp4': 'surprise', 'dia112utt10.mp4': 'joy', 'dia112utt11.mp4': 'surprise', 'dia112utt12.mp4': 'neutral', 'dia112utt13.mp4': 'joy', 'dia122utt1.mp4': 'anger', 'dia122utt2.mp4': 'surprise', 'dia122utt3.mp4': 'neutral', 'dia122utt4.mp4': 'neutral', 'dia122utt5.mp4': 'anger', 'dia122utt6.mp4': 'neutral', 'dia122utt7.mp4': 'neutral', 'dia122utt8.mp4': 'neutral', 'dia122utt9.mp4': 'neutral', 'dia124utt1.mp4': 'neutral', 'dia124utt2.mp4': 'neutral', 'dia124utt3.mp4': 'neutral', 'dia124utt4.mp4': 'surprise', 'dia124utt5.mp4': 'joy', 'dia124utt6.mp4': 'disgust', 'dia124utt7.mp4': 'sadness', 'dia124utt8.mp4': 'anger', 'dia133utt1.mp4': 'neutral', 'dia133utt2.mp4': 'neutral', 'dia133utt3.mp4': 'neutral', 'dia133utt4.mp4': 'neutral', 'dia133utt5.mp4': 'neutral', 'dia133utt6.mp4': 'joy', 'dia133utt7.mp4': 'neutral', 'dia133utt8.mp4': 'neutral', 'dia133utt9.mp4': 'neutral', 'dia133utt10.mp4': 'neutral', 'dia133utt11.mp4': 'joy', 'dia133utt12.mp4': 'neutral', 'dia133utt13.mp4': 'neutral', 'dia133utt14.mp4': 'neutral', 'dia133utt15.mp4': 'surprise', 'dia134utt1.mp4': 'joy', 'dia134utt2.mp4': 'sadness', 'dia134utt3.mp4': 'surprise', 'dia134utt4.mp4': 'neutral', 'dia134utt5.mp4': 'neutral', 'dia134utt6.mp4': 'neutral', 'dia134utt7.mp4': 'surprise', 'dia134utt8.mp4': 'neutral', 'dia134utt9.mp4': 'anger', 'dia134utt10.mp4': 'neutral', 'dia134utt11.mp4': 'neutral', 'dia135utt1.mp4': 'neutral', 'dia135utt2.mp4': 'neutral', 'dia135utt3.mp4': 'surprise', 'dia135utt4.mp4': 'neutral', 'dia135utt5.mp4': 'neutral', 'dia135utt6.mp4': 'neutral', 'dia135utt7.mp4': 'surprise', 'dia135utt8.mp4': 'sadness', 'dia135utt9.mp4': 'neutral', 'dia135utt10.mp4': 'neutral', 'dia135utt11.mp4': 'neutral', 'dia135utt12.mp4': 'neutral', 'dia135utt13.mp4': 'neutral', 'dia137utt1.mp4': 'neutral', 'dia137utt2.mp4': 'neutral', 'dia137utt3.mp4': 'neutral', 'dia137utt4.mp4': 'neutral', 'dia137utt5.mp4': 'neutral', 'dia137utt6.mp4': 'neutral', 'dia137utt7.mp4': 'neutral', 'dia137utt8.mp4': 'neutral', 'dia137utt9.mp4': 'neutral', 'dia137utt10.mp4': 'neutral', 'dia145utt1.mp4': 'neutral', 'dia145utt2.mp4': 'neutral', 'dia145utt3.mp4': 'neutral', 'dia145utt4.mp4': 'neutral', 'dia145utt5.mp4': 'neutral', 'dia145utt6.mp4': 'anger', 'dia145utt7.mp4': 'neutral', 'dia145utt8.mp4': 'neutral', 'dia145utt9.mp4': 'neutral', 'dia145utt10.mp4': 'neutral', 'dia145utt11.mp4': 'anger', 'dia145utt12.mp4': 'neutral', 'dia145utt13.mp4': 'neutral', 'dia145utt14.mp4': 'joy', 'dia145utt15.mp4': 'joy', 'dia145utt16.mp4': 'neutral', 'dia145utt17.mp4': 'sadness', 'dia145utt18.mp4': 'neutral', 'dia148utt1.mp4': 'neutral', 'dia148utt2.mp4': 'neutral', 'dia148utt3.mp4': 'neutral', 'dia148utt4.mp4': 'neutral', 'dia148utt5.mp4': 'neutral', 'dia148utt6.mp4': 'neutral', 'dia148utt7.mp4': 'neutral', 'dia148utt8.mp4': 'neutral', 'dia148utt9.mp4': 'neutral', 'dia148utt10.mp4': 'neutral', 'dia148utt11.mp4': 'neutral', 'dia148utt12.mp4': 'joy', 'dia159utt1.mp4': 'joy', 'dia159utt2.mp4': 'surprise', 'dia159utt3.mp4': 'neutral', 'dia159utt4.mp4': 'neutral', 'dia159utt5.mp4': 'neutral', 'dia166utt1.mp4': 'neutral', 'dia166utt2.mp4': 'disgust', 'dia170utt1.mp4': 'neutral', 'dia170utt2.mp4': 'joy', 'dia172utt1.mp4': 'neutral', 'dia172utt2.mp4': 'neutral', 'dia172utt3.mp4': 'neutral', 'dia172utt4.mp4': 'joy', 'dia172utt5.mp4': 'joy', 'dia172utt6.mp4': 'neutral', 'dia172utt7.mp4': 'neutral', 'dia172utt8.mp4': 'neutral', 'dia172utt9.mp4': 'neutral', 'dia172utt10.mp4': 'disgust', 'dia195utt1.mp4': 'neutral', 'dia195utt2.mp4': 'sadness', 'dia197utt1.mp4': 'neutral', 'dia197utt2.mp4': 'neutral', 'dia197utt3.mp4': 'neutral', 'dia197utt4.mp4': 'neutral', 'dia197utt5.mp4': 'neutral', 'dia197utt6.mp4': 'neutral', 'dia197utt7.mp4': 'joy', 'dia202utt1.mp4': 'surprise', 'dia202utt2.mp4': 'anger', 'dia202utt3.mp4': 'neutral', 'dia202utt4.mp4': 'neutral', 'dia202utt5.mp4': 'neutral', 'dia202utt6.mp4': 'neutral', 'dia202utt7.mp4': 'joy', 'dia202utt8.mp4': 'neutral', 'dia203utt1.mp4': 'neutral', 'dia203utt2.mp4': 'neutral', 'dia203utt3.mp4': 'joy', 'dia203utt4.mp4': 'sadness', 'dia203utt5.mp4': 'neutral', 'dia203utt6.mp4': 'neutral', 'dia203utt7.mp4': 'neutral', 'dia210utt1.mp4': 'neutral', 'dia210utt2.mp4': 'neutral', 'dia210utt3.mp4': 'neutral', 'dia210utt4.mp4': 'neutral', 'dia210utt5.mp4': 'neutral', 'dia210utt6.mp4': 'neutral', 'dia210utt7.mp4': 'neutral', 'dia220utt1.mp4': 'neutral', 'dia220utt2.mp4': 'neutral', 'dia222utt1.mp4': 'neutral', 'dia222utt2.mp4': 'surprise', 'dia225utt1.mp4': 'neutral', 'dia225utt2.mp4': 'neutral', 'dia225utt3.mp4': 'neutral', 'dia225utt4.mp4': 'neutral', 'dia225utt5.mp4': 'neutral', 'dia225utt6.mp4': 'neutral', 'dia225utt7.mp4': 'neutral', 'dia225utt8.mp4': 'neutral', 'dia225utt9.mp4': 'neutral', 'dia225utt10.mp4': 'surprise', 'dia225utt11.mp4': 'sadness', 'dia225utt12.mp4': 'neutral', 'dia225utt13.mp4': 'neutral', 'dia226utt1.mp4': 'surprise', 'dia226utt2.mp4': 'neutral', 'dia226utt3.mp4': 'neutral', 'dia226utt4.mp4': 'neutral', 'dia226utt5.mp4': 'neutral', 'dia226utt6.mp4': 'joy', 'dia226utt7.mp4': 'joy', 'dia226utt8.mp4': 'sadness', 'dia226utt9.mp4': 'joy', 'dia228utt1.mp4': 'joy', 'dia228utt2.mp4': 'neutral', 'dia228utt3.mp4': 'anger', 'dia228utt4.mp4': 'neutral', 'dia228utt5.mp4': 'neutral', 'dia228utt6.mp4': 'neutral', 'dia228utt7.mp4': 'neutral', 'dia228utt8.mp4': 'joy', 'dia234utt1.mp4': 'neutral', 'dia234utt2.mp4': 'joy', 'dia234utt3.mp4': 'joy', 'dia234utt4.mp4': 'neutral', 'dia234utt5.mp4': 'neutral', 'dia234utt6.mp4': 'surprise', 'dia237utt1.mp4': 'surprise', 'dia237utt2.mp4': 'joy', 'dia237utt3.mp4': 'joy', 'dia237utt4.mp4': 'neutral', 'dia237utt5.mp4': 'neutral', 'dia237utt6.mp4': 'joy', 'dia237utt7.mp4': 'neutral', 'dia239utt1.mp4': 'surprise', 'dia239utt2.mp4': 'joy', 'dia239utt3.mp4': 'neutral', 'dia239utt4.mp4': 'neutral', 'dia239utt5.mp4': 'joy', 'dia239utt6.mp4': 'neutral', 'dia239utt7.mp4': 'neutral', 'dia239utt8.mp4': 'neutral', 'dia239utt9.mp4': 'neutral', 'dia239utt10.mp4': 'neutral', 'dia239utt11.mp4': 'neutral', 'dia239utt12.mp4': 'joy', 'dia239utt13.mp4': 'neutral', 'dia239utt14.mp4': 'neutral', 'dia241utt1.mp4': 'neutral', 'dia241utt2.mp4': 'neutral', 'dia241utt3.mp4': 'neutral', 'dia241utt4.mp4': 'neutral', 'dia241utt5.mp4': 'neutral', 'dia241utt6.mp4': 'neutral', 'dia241utt7.mp4': 'neutral', 'dia241utt8.mp4': 'neutral', 'dia241utt9.mp4': 'neutral', 'dia241utt10.mp4': 'joy', 'dia241utt11.mp4': 'surprise', 'dia241utt12.mp4': 'anger', 'dia241utt13.mp4': 'neutral', 'dia247utt1.mp4': 'neutral', 'dia247utt2.mp4': 'joy', 'dia250utt1.mp4': 'disgust', 'dia250utt2.mp4': 'surprise', 'dia250utt3.mp4': 'neutral', 'dia250utt4.mp4': 'neutral', 'dia251utt1.mp4': 'joy', 'dia251utt2.mp4': 'surprise', 'dia251utt3.mp4': 'joy', 'dia251utt4.mp4': 'neutral', 'dia251utt5.mp4': 'neutral', 'dia261utt1.mp4': 'neutral', 'dia261utt2.mp4': 'neutral', 'dia261utt3.mp4': 'neutral', 'dia261utt4.mp4': 'neutral', 'dia261utt5.mp4': 'neutral', 'dia261utt6.mp4': 'neutral', 'dia261utt7.mp4': 'neutral', 'dia261utt8.mp4': 'neutral', 'dia261utt9.mp4': 'joy', 'dia261utt10.mp4': 'neutral', 'dia261utt11.mp4': 'neutral', 'dia261utt12.mp4': 'neutral', 'dia261utt13.mp4': 'neutral', 'dia261utt14.mp4': 'neutral', 'dia261utt15.mp4': 'anger', 'dia261utt16.mp4': 'neutral', 'dia261utt17.mp4': 'neutral', 'dia261utt18.mp4': 'neutral', 'dia261utt19.mp4': 'neutral', 'dia261utt20.mp4': 'neutral', 'dia261utt21.mp4': 'neutral', 'dia261utt22.mp4': 'sadness', 'dia262utt1.mp4': 'neutral', 'dia262utt2.mp4': 'neutral', 'dia276utt1.mp4': 'joy', 'dia276utt2.mp4': 'surprise', 'dia276utt3.mp4': 'neutral', 'dia276utt4.mp4': 'neutral', 'dia276utt5.mp4': 'joy', 'dia276utt6.mp4': 'neutral', 'dia276utt7.mp4': 'surprise', 'dia276utt8.mp4': 'neutral', 'dia278utt1.mp4': 'joy', 'dia278utt2.mp4': 'joy', 'dia278utt3.mp4': 'neutral', 'dia278utt4.mp4': 'joy', 'dia278utt5.mp4': 'joy', 'dia279utt1.mp4': 'neutral', 'dia279utt2.mp4': 'neutral', 'dia279utt3.mp4': 'neutral', 'dia279utt4.mp4': 'sadness', 'dia279utt5.mp4': 'neutral', 'dia279utt6.mp4': 'sadness', 'dia279utt7.mp4': 'neutral', 'dia279utt8.mp4': 'joy', 'dia279utt9.mp4': 'joy', 'dia279utt10.mp4': 'neutral', 'dia279utt11.mp4': 'neutral', 'dia279utt12.mp4': 'neutral', 'dia279utt13.mp4': 'neutral', 'dia279utt14.mp4': 'neutral', 'dia279utt15.mp4': 'neutral', 'dia279utt16.mp4': 'neutral', 'dia279utt17.mp4': 'anger', 'dia279utt18.mp4': 'neutral', 'dia279utt19.mp4': 'neutral', 'dia279utt20.mp4': 'neutral', 'dia279utt21.mp4': 'neutral', 'dia279utt22.mp4': 'neutral', 'dia279utt23.mp4': 'neutral', 'dia279utt24.mp4': 'neutral', 'dia279utt25.mp4': 'sadness', 'dia279utt26.mp4': 'sadness', 'dia279utt27.mp4': 'neutral', 'dia279utt28.mp4': 'anger', 'dia279utt29.mp4': 'anger', 'dia279utt30.mp4': 'neutral', 'dia279utt31.mp4': 'disgust', 'dia279utt32.mp4': 'anger', 'dia279utt33.mp4': 'joy', 'dia289utt1.mp4': 'neutral', 'dia289utt2.mp4': 'anger', 'dia289utt3.mp4': 'neutral', 'dia289utt4.mp4': 'joy', 'dia290utt1.mp4': 'neutral', 'dia290utt2.mp4': 'anger', 'dia290utt3.mp4': 'neutral', 'dia290utt4.mp4': 'anger', 'dia290utt5.mp4': 'neutral', 'dia290utt6.mp4': 'neutral', 'dia294utt1.mp4': 'anger', 'dia294utt2.mp4': 'neutral', 'dia294utt3.mp4': 'anger', 'dia294utt4.mp4': 'neutral', 'dia294utt5.mp4': 'surprise', 'dia298utt1.mp4': 'neutral', 'dia298utt2.mp4': 'surprise', 'dia298utt3.mp4': 'disgust', 'dia298utt4.mp4': 'neutral', 'dia298utt5.mp4': 'neutral', 'dia298utt6.mp4': 'neutral', 'dia298utt7.mp4': 'neutral', 'dia298utt8.mp4': 'neutral', 'dia298utt9.mp4': 'surprise', 'dia298utt10.mp4': 'neutral', 'dia299utt1.mp4': 'neutral', 'dia299utt2.mp4': 'neutral', 'dia299utt3.mp4': 'neutral', 'dia299utt4.mp4': 'anger', 'dia299utt5.mp4': 'neutral', 'dia299utt6.mp4': 'neutral', 'dia302utt1.mp4': 'neutral', 'dia302utt2.mp4': 'neutral', 'dia302utt3.mp4': 'neutral', 'dia302utt4.mp4': 'neutral', 'dia302utt5.mp4': 'neutral', 'dia302utt6.mp4': 'neutral', 'dia302utt7.mp4': 'neutral', 'dia302utt8.mp4': 'neutral', 'dia302utt9.mp4': 'sadness', 'dia302utt10.mp4': 'joy', 'dia302utt11.mp4': 'neutral', 'dia302utt12.mp4': 'neutral', 'dia302utt13.mp4': 'neutral', 'dia309utt1.mp4': 'neutral', 'dia309utt2.mp4': 'neutral', 'dia309utt3.mp4': 'surprise', 'dia309utt4.mp4': 'joy', 'dia309utt5.mp4': 'neutral', 'dia310utt1.mp4': 'neutral', 'dia310utt2.mp4': 'neutral', 'dia310utt3.mp4': 'anger', 'dia310utt4.mp4': 'neutral', 'dia310utt5.mp4': 'neutral', 'dia310utt6.mp4': 'joy', 'dia310utt7.mp4': 'neutral', 'dia310utt8.mp4': 'joy', 'dia313utt1.mp4': 'neutral', 'dia313utt2.mp4': 'neutral', 'dia314utt1.mp4': 'neutral', 'dia314utt2.mp4': 'neutral', 'dia314utt3.mp4': 'neutral', 'dia314utt4.mp4': 'neutral', 'dia314utt5.mp4': 'disgust', 'dia314utt6.mp4': 'joy', 'dia314utt7.mp4': 'surprise', 'dia314utt8.mp4': 'neutral', 'dia314utt9.mp4': 'neutral', 'dia314utt10.mp4': 'neutral', 'dia314utt11.mp4': 'anger', 'dia327utt1.mp4': 'neutral', 'dia327utt2.mp4': 'neutral', 'dia327utt3.mp4': 'neutral', 'dia327utt4.mp4': 'neutral', 'dia327utt5.mp4': 'neutral', 'dia327utt6.mp4': 'surprise', 'dia327utt7.mp4': 'joy', 'dia327utt8.mp4': 'joy', 'dia327utt9.mp4': 'neutral', 'dia327utt10.mp4': 'joy', 'dia327utt11.mp4': 'neutral', 'dia330utt1.mp4': 'neutral', 'dia330utt2.mp4': 'surprise', 'dia330utt3.mp4': 'neutral', 'dia330utt4.mp4': 'joy', 'dia330utt5.mp4': 'neutral', 'dia330utt6.mp4': 'neutral', 'dia330utt7.mp4': 'neutral', 'dia330utt8.mp4': 'neutral', 'dia341utt1.mp4': 'neutral', 'dia341utt2.mp4': 'neutral', 'dia341utt3.mp4': 'neutral', 'dia341utt4.mp4': 'neutral', 'dia341utt5.mp4': 'neutral', 'dia341utt6.mp4': 'neutral', 'dia341utt7.mp4': 'neutral', 'dia341utt8.mp4': 'neutral', 'dia341utt9.mp4': 'sadness', 'dia342utt1.mp4': 'neutral', 'dia342utt2.mp4': 'neutral', 'dia342utt3.mp4': 'joy', 'dia342utt4.mp4': 'neutral', 'dia342utt5.mp4': 'neutral', 'dia342utt6.mp4': 'neutral', 'dia342utt7.mp4': 'neutral', 'dia342utt8.mp4': 'neutral', 'dia342utt9.mp4': 'neutral', 'dia342utt10.mp4': 'neutral', 'dia342utt11.mp4': 'neutral', 'dia342utt12.mp4': 'neutral', 'dia343utt1.mp4': 'neutral', 'dia343utt2.mp4': 'anger', 'dia343utt3.mp4': 'anger', 'dia343utt4.mp4': 'neutral', 'dia348utt1.mp4': 'joy', 'dia348utt2.mp4': 'joy', 'dia348utt3.mp4': 'neutral', 'dia348utt4.mp4': 'neutral', 'dia348utt5.mp4': 'joy', 'dia348utt6.mp4': 'neutral', 'dia348utt7.mp4': 'neutral', 'dia348utt8.mp4': 'joy', 'dia348utt9.mp4': 'neutral', 'dia353utt1.mp4': 'neutral', 'dia353utt2.mp4': 'neutral', 'dia353utt3.mp4': 'neutral', 'dia353utt4.mp4': 'neutral', 'dia353utt5.mp4': 'neutral', 'dia358utt1.mp4': 'anger', 'dia358utt2.mp4': 'anger', 'dia358utt3.mp4': 'neutral', 'dia358utt4.mp4': 'surprise', 'dia358utt5.mp4': 'neutral', 'dia358utt6.mp4': 'anger', 'dia358utt7.mp4': 'neutral', 'dia358utt8.mp4': 'neutral', 'dia358utt9.mp4': 'neutral', 'dia363utt1.mp4': 'sadness', 'dia363utt2.mp4': 'neutral', 'dia363utt3.mp4': 'neutral', 'dia363utt4.mp4': 'neutral', 'dia363utt5.mp4': 'surprise', 'dia363utt6.mp4': 'joy', 'dia363utt7.mp4': 'surprise', 'dia363utt8.mp4': 'neutral', 'dia363utt9.mp4': 'neutral', 'dia363utt10.mp4': 'neutral', 'dia363utt11.mp4': 'neutral', 'dia363utt12.mp4': 'neutral', 'dia363utt13.mp4': 'joy', 'dia363utt14.mp4': 'neutral', 'dia363utt15.mp4': 'joy', 'dia363utt16.mp4': 'neutral', 'dia363utt17.mp4': 'neutral', 'dia363utt18.mp4': 'joy', 'dia363utt19.mp4': 'neutral', 'dia365utt1.mp4': 'joy', 'dia365utt2.mp4': 'neutral', 'dia365utt3.mp4': 'neutral', 'dia365utt4.mp4': 'joy', 'dia365utt5.mp4': 'joy', 'dia365utt6.mp4': 'neutral', 'dia365utt7.mp4': 'joy', 'dia365utt8.mp4': 'joy', 'dia365utt9.mp4': 'joy', 'dia365utt10.mp4': 'neutral', 'dia365utt11.mp4': 'neutral', 'dia365utt12.mp4': 'joy', 'dia366utt1.mp4': 'joy', 'dia366utt2.mp4': 'neutral', 'dia366utt3.mp4': 'neutral', 'dia366utt4.mp4': 'neutral', 'dia373utt1.mp4': 'neutral', 'dia381utt1.mp4': 'disgust', 'dia381utt2.mp4': 'neutral', 'dia381utt3.mp4': 'surprise', 'dia381utt4.mp4': 'neutral', 'dia384utt1.mp4': 'neutral', 'dia384utt2.mp4': 'neutral', 'dia384utt3.mp4': 'neutral', 'dia384utt4.mp4': 'neutral', 'dia384utt5.mp4': 'neutral', 'dia384utt6.mp4': 'neutral', 'dia384utt7.mp4': 'neutral', 'dia384utt8.mp4': 'neutral', 'dia384utt9.mp4': 'neutral', 'dia392utt1.mp4': 'neutral', 'dia392utt2.mp4': 'neutral', 'dia392utt3.mp4': 'neutral', 'dia401utt1.mp4': 'neutral', 'dia401utt2.mp4': 'sadness', 'dia401utt3.mp4': 'surprise', 'dia401utt4.mp4': 'neutral', 'dia401utt5.mp4': 'anger', 'dia401utt6.mp4': 'neutral', 'dia401utt7.mp4': 'neutral', 'dia402utt1.mp4': 'anger', 'dia402utt2.mp4': 'neutral', 'dia406utt1.mp4': 'joy', 'dia406utt2.mp4': 'joy', 'dia406utt3.mp4': 'surprise', 'dia406utt4.mp4': 'neutral', 'dia406utt5.mp4': 'neutral', 'dia406utt6.mp4': 'surprise', 'dia406utt7.mp4': 'neutral', 'dia406utt8.mp4': 'surprise', 'dia406utt9.mp4': 'neutral', 'dia406utt10.mp4': 'neutral', 'dia406utt11.mp4': 'neutral', 'dia406utt12.mp4': 'neutral', 'dia406utt13.mp4': 'neutral', 'dia406utt14.mp4': 'neutral', 'dia406utt15.mp4': 'neutral', 'dia406utt16.mp4': 'neutral', 'dia406utt17.mp4': 'surprise', 'dia407utt1.mp4': 'surprise', 'dia407utt2.mp4': 'sadness', 'dia407utt3.mp4': 'sadness', 'dia407utt4.mp4': 'anger', 'dia407utt5.mp4': 'anger', 'dia407utt6.mp4': 'joy', 'dia407utt7.mp4': 'neutral', 'dia407utt8.mp4': 'neutral', 'dia407utt9.mp4': 'neutral', 'dia407utt10.mp4': 'neutral', 'dia407utt11.mp4': 'neutral', 'dia407utt12.mp4': 'joy', 'dia407utt13.mp4': 'neutral', 'dia407utt14.mp4': 'neutral', 'dia407utt15.mp4': 'joy', 'dia407utt16.mp4': 'anger', 'dia407utt17.mp4': 'neutral', 'dia414utt1.mp4': 'neutral', 'dia414utt2.mp4': 'neutral', 'dia414utt3.mp4': 'joy', 'dia414utt4.mp4': 'surprise', 'dia414utt5.mp4': 'neutral', 'dia414utt6.mp4': 'neutral', 'dia414utt7.mp4': 'neutral', 'dia414utt8.mp4': 'anger', 'dia414utt9.mp4': 'anger', 'dia414utt10.mp4': 'joy', 'dia414utt11.mp4': 'neutral', 'dia414utt12.mp4': 'anger', 'dia414utt13.mp4': 'joy', 'dia414utt14.mp4': 'neutral', 'dia415utt1.mp4': 'neutral', 'dia415utt2.mp4': 'neutral', 'dia415utt3.mp4': 'neutral', 'dia415utt4.mp4': 'neutral', 'dia415utt5.mp4': 'neutral', 'dia415utt6.mp4': 'neutral', 'dia415utt7.mp4': 'neutral', 'dia415utt8.mp4': 'neutral', 'dia415utt9.mp4': 'neutral', 'dia415utt10.mp4': 'neutral', 'dia416utt1.mp4': 'neutral', 'dia416utt2.mp4': 'anger', 'dia416utt3.mp4': 'neutral', 'dia416utt4.mp4': 'anger', 'dia416utt5.mp4': 'neutral', 'dia416utt6.mp4': 'neutral', 'dia421utt1.mp4': 'neutral', 'dia421utt2.mp4': 'neutral', 'dia421utt3.mp4': 'neutral', 'dia421utt4.mp4': 'anger', 'dia421utt5.mp4': 'anger', 'dia421utt6.mp4': 'anger', 'dia421utt7.mp4': 'anger', 'dia421utt8.mp4': 'neutral', 'dia421utt9.mp4': 'neutral', 'dia421utt10.mp4': 'neutral', 'dia421utt11.mp4': 'neutral', 'dia421utt12.mp4': 'neutral', 'dia421utt13.mp4': 'neutral', 'dia421utt14.mp4': 'neutral', 'dia421utt15.mp4': 'joy', 'dia431utt1.mp4': 'neutral', 'dia431utt2.mp4': 'neutral', 'dia431utt3.mp4': 'neutral', 'dia431utt4.mp4': 'neutral', 'dia431utt5.mp4': 'joy', 'dia431utt6.mp4': 'joy', 'dia431utt7.mp4': 'surprise', 'dia431utt8.mp4': 'neutral', 'dia431utt9.mp4': 'neutral', 'dia435utt1.mp4': 'neutral', 'dia435utt2.mp4': 'neutral', 'dia435utt3.mp4': 'neutral', 'dia435utt4.mp4': 'neutral', 'dia435utt5.mp4': 'joy', 'dia435utt6.mp4': 'neutral', 'dia435utt7.mp4': 'surprise', 'dia435utt8.mp4': 'neutral', 'dia435utt9.mp4': 'neutral', 'dia435utt10.mp4': 'joy', 'dia445utt1.mp4': 'anger', 'dia445utt2.mp4': 'neutral', 'dia445utt3.mp4': 'neutral', 'dia445utt4.mp4': 'neutral', 'dia445utt5.mp4': 'neutral', 'dia445utt6.mp4': 'neutral', 'dia445utt7.mp4': 'joy', 'dia445utt8.mp4': 'neutral', 'dia445utt9.mp4': 'surprise', 'dia445utt10.mp4': 'neutral', 'dia445utt11.mp4': 'neutral', 'dia445utt12.mp4': 'sadness', 'dia445utt13.mp4': 'neutral', 'dia448utt1.mp4': 'joy', 'dia448utt2.mp4': 'neutral', 'dia448utt3.mp4': 'neutral', 'dia448utt4.mp4': 'neutral', 'dia448utt5.mp4': 'neutral', 'dia448utt6.mp4': 'surprise', 'dia448utt7.mp4': 'neutral', 'dia448utt8.mp4': 'surprise', 'dia448utt9.mp4': 'joy', 'dia448utt10.mp4': 'joy', 'dia448utt11.mp4': 'neutral', 'dia448utt12.mp4': 'joy', 'dia448utt13.mp4': 'neutral', 'dia452utt1.mp4': 'surprise', 'dia452utt2.mp4': 'neutral', 'dia452utt3.mp4': 'neutral', 'dia455utt1.mp4': 'joy', 'dia455utt2.mp4': 'joy', 'dia455utt3.mp4': 'neutral', 'dia455utt4.mp4': 'neutral', 'dia455utt5.mp4': 'neutral', 'dia455utt6.mp4': 'neutral', 'dia455utt7.mp4': 'neutral', 'dia455utt8.mp4': 'neutral', 'dia455utt9.mp4': 'neutral', 'dia455utt10.mp4': 'neutral', 'dia455utt11.mp4': 'neutral', 'dia455utt12.mp4': 'surprise', 'dia455utt13.mp4': 'neutral', 'dia455utt14.mp4': 'surprise', 'dia455utt15.mp4': 'neutral', 'dia455utt16.mp4': 'anger', 'dia461utt1.mp4': 'anger', 'dia461utt2.mp4': 'anger', 'dia461utt3.mp4': 'anger', 'dia461utt4.mp4': 'anger', 'dia461utt5.mp4': 'neutral', 'dia461utt6.mp4': 'neutral', 'dia461utt7.mp4': 'neutral', 'dia461utt8.mp4': 'neutral', 'dia461utt9.mp4': 'neutral', 'dia461utt10.mp4': 'neutral', 'dia461utt11.mp4': 'neutral', 'dia461utt12.mp4': 'sadness', 'dia461utt13.mp4': 'neutral', 'dia461utt14.mp4': 'neutral', 'dia461utt15.mp4': 'neutral', 'dia461utt16.mp4': 'neutral', 'dia461utt17.mp4': 'neutral', 'dia461utt18.mp4': 'anger', 'dia461utt19.mp4': 'anger', 'dia464utt1.mp4': 'neutral', 'dia464utt2.mp4': 'neutral', 'dia464utt3.mp4': 'anger', 'dia464utt4.mp4': 'neutral', 'dia464utt5.mp4': 'joy', 'dia464utt6.mp4': 'neutral', 'dia473utt1.mp4': 'neutral', 'dia473utt2.mp4': 'surprise', 'dia473utt3.mp4': 'neutral', 'dia473utt4.mp4': 'neutral', 'dia473utt5.mp4': 'neutral', 'dia473utt6.mp4': 'neutral', 'dia473utt7.mp4': 'neutral', 'dia473utt8.mp4': 'neutral', 'dia473utt9.mp4': 'neutral', 'dia473utt10.mp4': 'neutral', 'dia473utt11.mp4': 'neutral', 'dia473utt12.mp4': 'joy', 'dia473utt13.mp4': 'neutral', 'dia473utt14.mp4': 'neutral', 'dia475utt1.mp4': 'joy', 'dia475utt2.mp4': 'neutral', 'dia475utt3.mp4': 'neutral', 'dia481utt1.mp4': 'anger', 'dia481utt2.mp4': 'anger', 'dia481utt3.mp4': 'joy', 'dia481utt4.mp4': 'anger', 'dia481utt5.mp4': 'anger', 'dia481utt6.mp4': 'anger', 'dia481utt7.mp4': 'neutral', 'dia481utt8.mp4': 'anger', 'dia481utt9.mp4': 'neutral', 'dia481utt10.mp4': 'neutral', 'dia484utt1.mp4': 'sadness', 'dia484utt2.mp4': 'neutral', 'dia484utt3.mp4': 'neutral', 'dia484utt4.mp4': 'joy', 'dia484utt5.mp4': 'neutral', 'dia484utt6.mp4': 'neutral', 'dia484utt7.mp4': 'neutral', 'dia484utt8.mp4': 'joy', 'dia492utt1.mp4': 'sadness', 'dia492utt2.mp4': 'neutral', 'dia492utt3.mp4': 'surprise', 'dia492utt4.mp4': 'neutral', 'dia495utt1.mp4': 'neutral', 'dia495utt2.mp4': 'neutral', 'dia495utt3.mp4': 'neutral', 'dia495utt4.mp4': 'neutral', 'dia495utt5.mp4': 'neutral', 'dia495utt6.mp4': 'neutral', 'dia495utt7.mp4': 'fear', 'dia495utt8.mp4': 'neutral', 'dia495utt9.mp4': 'neutral', 'dia502utt1.mp4': 'neutral', 'dia502utt2.mp4': 'neutral', 'dia502utt3.mp4': 'surprise', 'dia502utt4.mp4': 'neutral', 'dia508utt1.mp4': 'neutral', 'dia508utt2.mp4': 'sadness', 'dia508utt3.mp4': 'joy', 'dia508utt4.mp4': 'neutral', 'dia508utt5.mp4': 'surprise', 'dia508utt6.mp4': 'neutral', 'dia508utt7.mp4': 'neutral', 'dia508utt8.mp4': 'anger', 'dia508utt9.mp4': 'neutral', 'dia508utt10.mp4': 'neutral', 'dia508utt11.mp4': 'neutral', 'dia508utt12.mp4': 'neutral', 'dia508utt13.mp4': 'neutral', 'dia512utt1.mp4': 'neutral', 'dia512utt2.mp4': 'neutral', 'dia512utt3.mp4': 'neutral', 'dia512utt4.mp4': 'neutral', 'dia512utt5.mp4': 'anger', 'dia512utt6.mp4': 'neutral', 'dia512utt7.mp4': 'neutral', 'dia512utt8.mp4': 'neutral', 'dia512utt9.mp4': 'neutral', 'dia512utt10.mp4': 'disgust', 'dia516utt1.mp4': 'neutral', 'dia516utt2.mp4': 'neutral', 'dia516utt3.mp4': 'neutral', 'dia516utt4.mp4': 'neutral', 'dia516utt5.mp4': 'joy', 'dia517utt1.mp4': 'neutral', 'dia517utt2.mp4': 'neutral', 'dia517utt3.mp4': 'neutral', 'dia517utt4.mp4': 'joy', 'dia517utt5.mp4': 'disgust', 'dia517utt6.mp4': 'joy', 'dia517utt7.mp4': 'neutral', 'dia517utt8.mp4': 'joy', 'dia517utt9.mp4': 'neutral', 'dia517utt10.mp4': 'neutral', 'dia517utt11.mp4': 'neutral', 'dia517utt12.mp4': 'neutral', 'dia519utt1.mp4': 'neutral', 'dia519utt2.mp4': 'neutral', 'dia519utt3.mp4': 'joy', 'dia519utt4.mp4': 'neutral', 'dia519utt5.mp4': 'neutral', 'dia519utt6.mp4': 'joy', 'dia519utt7.mp4': 'anger', 'dia519utt8.mp4': 'joy', 'dia519utt9.mp4': 'anger', 'dia519utt10.mp4': 'neutral', 'dia519utt11.mp4': 'neutral', 'dia519utt12.mp4': 'neutral', 'dia519utt13.mp4': 'neutral', 'dia526utt1.mp4': 'neutral', 'dia526utt2.mp4': 'neutral', 'dia526utt3.mp4': 'surprise', 'dia526utt4.mp4': 'surprise', 'dia526utt5.mp4': 'fear', 'dia526utt6.mp4': 'neutral', 'dia531utt1.mp4': 'neutral', 'dia531utt2.mp4': 'neutral', 'dia531utt3.mp4': 'neutral', 'dia531utt4.mp4': 'neutral', 'dia531utt5.mp4': 'neutral', 'dia531utt6.mp4': 'joy', 'dia531utt7.mp4': 'neutral', 'dia532utt1.mp4': 'neutral', 'dia534utt1.mp4': 'neutral', 'dia534utt2.mp4': 'neutral', 'dia535utt1.mp4': 'neutral', 'dia535utt2.mp4': 'surprise', 'dia535utt3.mp4': 'neutral', 'dia535utt4.mp4': 'neutral', 'dia535utt5.mp4': 'joy', 'dia535utt6.mp4': 'neutral', 'dia536utt1.mp4': 'surprise', 'dia536utt2.mp4': 'surprise', 'dia536utt3.mp4': 'surprise', 'dia536utt4.mp4': 'joy', 'dia536utt5.mp4': 'surprise', 'dia536utt6.mp4': 'surprise', 'dia536utt7.mp4': 'surprise', 'dia536utt8.mp4': 'neutral', 'dia536utt9.mp4': 'neutral', 'dia540utt1.mp4': 'neutral', 'dia540utt2.mp4': 'joy', 'dia540utt3.mp4': 'neutral', 'dia540utt4.mp4': 'surprise', 'dia540utt5.mp4': 'neutral', 'dia540utt6.mp4': 'surprise', 'dia540utt7.mp4': 'neutral', 'dia540utt8.mp4': 'neutral', 'dia540utt9.mp4': 'anger', 'dia540utt10.mp4': 'surprise', 'dia540utt11.mp4': 'neutral', 'dia540utt12.mp4': 'neutral', 'dia540utt13.mp4': 'neutral', 'dia542utt1.mp4': 'joy', 'dia542utt2.mp4': 'neutral', 'dia542utt3.mp4': 'anger', 'dia542utt4.mp4': 'anger', 'dia542utt5.mp4': 'neutral', 'dia547utt1.mp4': 'neutral', 'dia547utt2.mp4': 'neutral', 'dia547utt3.mp4': 'joy', 'dia547utt4.mp4': 'neutral', 'dia547utt5.mp4': 'neutral', 'dia547utt6.mp4': 'neutral', 'dia547utt7.mp4': 'anger', 'dia550utt1.mp4': 'joy', 'dia550utt2.mp4': 'neutral', 'dia550utt3.mp4': 'surprise', 'dia550utt4.mp4': 'joy', 'dia550utt5.mp4': 'anger', 'dia553utt1.mp4': 'neutral', 'dia553utt2.mp4': 'neutral', 'dia553utt3.mp4': 'neutral', 'dia553utt4.mp4': 'neutral', 'dia553utt5.mp4': 'neutral', 'dia553utt6.mp4': 'neutral', 'dia553utt7.mp4': 'neutral', 'dia553utt8.mp4': 'joy', 'dia553utt9.mp4': 'surprise', 'dia553utt10.mp4': 'joy', 'dia553utt11.mp4': 'anger', 'dia553utt12.mp4': 'neutral', 'dia553utt13.mp4': 'neutral', 'dia553utt14.mp4': 'anger', 'dia566utt1.mp4': 'neutral', 'dia566utt2.mp4': 'neutral', 'dia566utt3.mp4': 'sadness', 'dia566utt4.mp4': 'joy', 'dia566utt5.mp4': 'anger', 'dia566utt6.mp4': 'joy', 'dia566utt7.mp4': 'surprise', 'dia566utt8.mp4': 'neutral', 'dia566utt9.mp4': 'neutral', 'dia566utt10.mp4': 'neutral', 'dia566utt11.mp4': 'surprise', 'dia566utt12.mp4': 'neutral', 'dia566utt13.mp4': 'joy', 'dia566utt14.mp4': 'surprise', 'dia572utt1.mp4': 'neutral', 'dia572utt2.mp4': 'neutral', 'dia572utt3.mp4': 'neutral', 'dia572utt4.mp4': 'neutral', 'dia572utt5.mp4': 'neutral', 'dia572utt6.mp4': 'neutral', 'dia572utt7.mp4': 'joy', 'dia572utt8.mp4': 'neutral', 'dia572utt9.mp4': 'neutral', 'dia572utt10.mp4': 'anger', 'dia572utt11.mp4': 'neutral', 'dia577utt1.mp4': 'joy', 'dia577utt2.mp4': 'neutral', 'dia577utt3.mp4': 'neutral', 'dia577utt4.mp4': 'joy', 'dia583utt1.mp4': 'neutral', 'dia583utt2.mp4': 'neutral', 'dia583utt3.mp4': 'neutral', 'dia583utt4.mp4': 'neutral', 'dia583utt5.mp4': 'neutral', 'dia583utt6.mp4': 'neutral', 'dia583utt7.mp4': 'neutral', 'dia583utt8.mp4': 'neutral', 'dia583utt9.mp4': 'neutral', 'dia584utt1.mp4': 'neutral', 'dia584utt2.mp4': 'neutral', 'dia584utt3.mp4': 'neutral', 'dia584utt4.mp4': 'neutral', 'dia584utt5.mp4': 'joy', 'dia584utt6.mp4': 'joy', 'dia584utt7.mp4': 'neutral', 'dia584utt8.mp4': 'sadness', 'dia584utt9.mp4': 'neutral', 'dia584utt10.mp4': 'neutral', 'dia584utt11.mp4': 'neutral', 'dia584utt12.mp4': 'neutral', 'dia584utt13.mp4': 'surprise', 'dia584utt14.mp4': 'sadness', 'dia584utt15.mp4': 'neutral', 'dia584utt16.mp4': 'neutral', 'dia586utt1.mp4': 'neutral', 'dia586utt2.mp4': 'neutral', 'dia586utt3.mp4': 'neutral', 'dia586utt4.mp4': 'neutral', 'dia586utt5.mp4': 'joy', 'dia586utt6.mp4': 'neutral', 'dia586utt7.mp4': 'neutral', 'dia586utt8.mp4': 'neutral', 'dia586utt9.mp4': 'surprise', 'dia586utt10.mp4': 'neutral', 'dia586utt11.mp4': 'neutral', 'dia586utt12.mp4': 'surprise', 'dia586utt13.mp4': 'sadness', 'dia586utt14.mp4': 'joy', 'dia586utt15.mp4': 'neutral', 'dia586utt16.mp4': 'neutral', 'dia586utt17.mp4': 'surprise', 'dia586utt18.mp4': 'neutral', 'dia591utt1.mp4': 'joy', 'dia591utt2.mp4': 'neutral', 'dia591utt3.mp4': 'neutral', 'dia591utt4.mp4': 'joy', 'dia591utt5.mp4': 'joy', 'dia591utt6.mp4': 'neutral', 'dia591utt7.mp4': 'neutral', 'dia591utt8.mp4': 'disgust', 'dia591utt9.mp4': 'neutral', 'dia591utt10.mp4': 'joy', 'dia591utt11.mp4': 'neutral', 'dia591utt12.mp4': 'joy', 'dia591utt13.mp4': 'joy', 'dia598utt1.mp4': 'neutral', 'dia598utt2.mp4': 'neutral', 'dia598utt3.mp4': 'neutral', 'dia598utt4.mp4': 'neutral', 'dia598utt5.mp4': 'neutral', 'dia598utt6.mp4': 'neutral', 'dia598utt7.mp4': 'neutral', 'dia598utt8.mp4': 'neutral', 'dia598utt9.mp4': 'joy', 'dia598utt10.mp4': 'neutral', 'dia598utt11.mp4': 'neutral', 'dia598utt12.mp4': 'anger', 'dia598utt13.mp4': 'anger', 'dia598utt14.mp4': 'joy', 'dia598utt15.mp4': 'neutral', 'dia598utt16.mp4': 'neutral', 'dia598utt17.mp4': 'sadness', 'dia598utt18.mp4': 'neutral', 'dia598utt19.mp4': 'neutral', 'dia599utt1.mp4': 'anger', 'dia599utt2.mp4': 'anger', 'dia601utt1.mp4': 'neutral', 'dia601utt2.mp4': 'neutral', 'dia601utt3.mp4': 'joy', 'dia601utt4.mp4': 'joy', 'dia601utt5.mp4': 'joy', 'dia601utt6.mp4': 'joy', 'dia601utt7.mp4': 'neutral', 'dia603utt1.mp4': 'neutral', 'dia603utt2.mp4': 'neutral', 'dia603utt3.mp4': 'neutral', 'dia603utt4.mp4': 'neutral', 'dia603utt5.mp4': 'neutral', 'dia603utt6.mp4': 'neutral', 'dia604utt1.mp4': 'joy', 'dia604utt2.mp4': 'neutral', 'dia604utt3.mp4': 'joy', 'dia604utt4.mp4': 'neutral', 'dia604utt5.mp4': 'neutral', 'dia604utt6.mp4': 'neutral', 'dia604utt7.mp4': 'neutral', 'dia604utt8.mp4': 'surprise', 'dia604utt9.mp4': 'anger', 'dia604utt10.mp4': 'neutral', 'dia625utt1.mp4': 'neutral', 'dia625utt2.mp4': 'surprise', 'dia625utt3.mp4': 'neutral', 'dia625utt4.mp4': 'neutral', 'dia630utt1.mp4': 'neutral', 'dia630utt2.mp4': 'neutral', 'dia630utt3.mp4': 'joy', 'dia630utt4.mp4': 'neutral', 'dia630utt5.mp4': 'neutral', 'dia630utt6.mp4': 'anger', 'dia630utt7.mp4': 'surprise', 'dia630utt8.mp4': 'surprise', 'dia630utt9.mp4': 'joy', 'dia634utt1.mp4': 'anger', 'dia634utt2.mp4': 'anger', 'dia634utt3.mp4': 'joy', 'dia634utt4.mp4': 'anger', 'dia634utt5.mp4': 'neutral', 'dia634utt6.mp4': 'neutral', 'dia634utt7.mp4': 'neutral', 'dia634utt8.mp4': 'neutral', 'dia634utt9.mp4': 'neutral', 'dia634utt10.mp4': 'neutral', 'dia634utt11.mp4': 'neutral', 'dia634utt12.mp4': 'neutral', 'dia634utt13.mp4': 'neutral', 'dia634utt14.mp4': 'neutral', 'dia634utt15.mp4': 'surprise', 'dia634utt16.mp4': 'anger', 'dia634utt17.mp4': 'sadness', 'dia634utt18.mp4': 'neutral', 'dia636utt1.mp4': 'neutral', 'dia636utt2.mp4': 'neutral', 'dia636utt3.mp4': 'neutral', 'dia636utt4.mp4': 'neutral', 'dia636utt5.mp4': 'neutral', 'dia636utt6.mp4': 'fear', 'dia636utt7.mp4': 'neutral', 'dia636utt8.mp4': 'disgust', 'dia636utt9.mp4': 'neutral', 'dia636utt10.mp4': 'neutral', 'dia636utt11.mp4': 'surprise', 'dia636utt12.mp4': 'neutral', 'dia636utt13.mp4': 'joy', 'dia636utt14.mp4': 'neutral', 'dia636utt15.mp4': 'neutral', 'dia643utt1.mp4': 'neutral', 'dia643utt2.mp4': 'neutral', 'dia643utt3.mp4': 'neutral', 'dia643utt4.mp4': 'neutral', 'dia643utt5.mp4': 'sadness', 'dia643utt6.mp4': 'surprise', 'dia643utt7.mp4': 'neutral', 'dia643utt8.mp4': 'surprise', 'dia643utt9.mp4': 'neutral', 'dia643utt10.mp4': 'surprise', 'dia643utt11.mp4': 'neutral', 'dia643utt12.mp4': 'neutral', 'dia643utt13.mp4': 'joy', 'dia643utt14.mp4': 'sadness', 'dia643utt15.mp4': 'neutral', 'dia643utt16.mp4': 'surprise', 'dia643utt17.mp4': 'neutral', 'dia643utt18.mp4': 'joy', 'dia643utt19.mp4': 'joy', 'dia643utt20.mp4': 'surprise', 'dia643utt21.mp4': 'neutral', 'dia643utt22.mp4': 'neutral', 'dia648utt1.mp4': 'neutral', 'dia648utt2.mp4': 'neutral', 'dia648utt3.mp4': 'anger', 'dia649utt1.mp4': 'neutral', 'dia649utt2.mp4': 'neutral', 'dia649utt3.mp4': 'sadness', 'dia649utt4.mp4': 'neutral', 'dia662utt1.mp4': 'neutral', 'dia662utt2.mp4': 'neutral', 'dia662utt3.mp4': 'neutral', 'dia662utt4.mp4': 'neutral', 'dia662utt5.mp4': 'neutral', 'dia662utt6.mp4': 'neutral', 'dia662utt7.mp4': 'joy', 'dia662utt8.mp4': 'anger', 'dia662utt9.mp4': 'neutral', 'dia662utt10.mp4': 'anger', 'dia662utt11.mp4': 'neutral', 'dia662utt12.mp4': 'neutral', 'dia662utt13.mp4': 'neutral', 'dia662utt14.mp4': 'neutral', 'dia662utt15.mp4': 'neutral', 'dia662utt16.mp4': 'neutral', 'dia662utt17.mp4': 'neutral', 'dia667utt1.mp4': 'joy', 'dia667utt2.mp4': 'sadness', 'dia667utt3.mp4': 'neutral', 'dia667utt4.mp4': 'anger', 'dia667utt5.mp4': 'neutral', 'dia667utt6.mp4': 'surprise', 'dia667utt7.mp4': 'neutral', 'dia667utt8.mp4': 'neutral', 'dia667utt9.mp4': 'neutral', 'dia667utt10.mp4': 'anger', 'dia667utt11.mp4': 'neutral', 'dia667utt12.mp4': 'anger', 'dia667utt13.mp4': 'neutral', 'dia667utt14.mp4': 'neutral', 'dia667utt15.mp4': 'neutral', 'dia667utt16.mp4': 'neutral', 'dia667utt17.mp4': 'neutral', 'dia668utt1.mp4': 'surprise', 'dia668utt2.mp4': 'joy', 'dia668utt3.mp4': 'joy', 'dia668utt4.mp4': 'neutral', 'dia668utt5.mp4': 'neutral', 'dia668utt6.mp4': 'neutral', 'dia668utt7.mp4': 'neutral', 'dia668utt8.mp4': 'neutral', 'dia668utt9.mp4': 'neutral', 'dia671utt1.mp4': 'joy', 'dia671utt2.mp4': 'disgust', 'dia671utt3.mp4': 'sadness', 'dia671utt4.mp4': 'surprise', 'dia671utt5.mp4': 'joy', 'dia671utt6.mp4': 'surprise', 'dia671utt7.mp4': 'surprise', 'dia682utt1.mp4': 'neutral', 'dia682utt2.mp4': 'neutral', 'dia682utt3.mp4': 'neutral', 'dia682utt4.mp4': 'joy', 'dia682utt5.mp4': 'joy', 'dia682utt6.mp4': 'neutral', 'dia682utt7.mp4': 'neutral', 'dia682utt8.mp4': 'neutral', 'dia682utt9.mp4': 'joy', 'dia682utt10.mp4': 'joy', 'dia682utt11.mp4': 'anger', 'dia685utt1.mp4': 'neutral', 'dia685utt2.mp4': 'neutral', 'dia685utt3.mp4': 'neutral', 'dia685utt4.mp4': 'neutral', 'dia685utt5.mp4': 'neutral', 'dia685utt6.mp4': 'anger', 'dia691utt1.mp4': 'anger', 'dia691utt2.mp4': 'anger', 'dia691utt3.mp4': 'neutral', 'dia691utt4.mp4': 'surprise', 'dia691utt5.mp4': 'neutral', 'dia691utt6.mp4': 'anger', 'dia691utt7.mp4': 'neutral', 'dia691utt8.mp4': 'surprise', 'dia691utt9.mp4': 'neutral', 'dia691utt10.mp4': 'neutral', 'dia691utt11.mp4': 'neutral', 'dia691utt12.mp4': 'neutral', 'dia691utt13.mp4': 'neutral', 'dia691utt14.mp4': 'surprise', 'dia691utt15.mp4': 'neutral', 'dia701utt1.mp4': 'neutral', 'dia701utt2.mp4': 'neutral', 'dia702utt1.mp4': 'surprise', 'dia702utt2.mp4': 'surprise', 'dia702utt3.mp4': 'neutral', 'dia702utt4.mp4': 'neutral', 'dia702utt5.mp4': 'neutral', 'dia702utt6.mp4': 'surprise', 'dia702utt7.mp4': 'neutral', 'dia702utt8.mp4': 'joy', 'dia702utt9.mp4': 'neutral', 'dia705utt1.mp4': 'neutral', 'dia705utt2.mp4': 'neutral', 'dia705utt3.mp4': 'neutral', 'dia705utt4.mp4': 'neutral', 'dia705utt5.mp4': 'neutral', 'dia705utt6.mp4': 'neutral', 'dia716utt1.mp4': 'neutral', 'dia716utt2.mp4': 'sadness', 'dia716utt3.mp4': 'neutral', 'dia716utt4.mp4': 'neutral', 'dia716utt5.mp4': 'joy', 'dia716utt6.mp4': 'surprise', 'dia716utt7.mp4': 'neutral', 'dia718utt1.mp4': 'joy', 'dia718utt2.mp4': 'joy', 'dia718utt3.mp4': 'joy', 'dia718utt4.mp4': 'neutral', 'dia718utt5.mp4': 'anger', 'dia718utt6.mp4': 'surprise', 'dia718utt7.mp4': 'neutral', 'dia718utt8.mp4': 'neutral', 'dia718utt9.mp4': 'joy', 'dia718utt10.mp4': 'anger', 'dia718utt11.mp4': 'neutral', 'dia718utt12.mp4': 'anger', 'dia718utt13.mp4': 'neutral', 'dia718utt14.mp4': 'anger', 'dia718utt15.mp4': 'surprise', 'dia718utt16.mp4': 'joy', 'dia718utt17.mp4': 'joy', 'dia718utt18.mp4': 'neutral', 'dia718utt19.mp4': 'neutral', 'dia718utt20.mp4': 'neutral', 'dia720utt1.mp4': 'neutral', 'dia722utt1.mp4': 'joy', 'dia722utt2.mp4': 'neutral', 'dia722utt3.mp4': 'neutral', 'dia722utt4.mp4': 'neutral', 'dia722utt5.mp4': 'joy', 'dia722utt6.mp4': 'joy', 'dia724utt1.mp4': 'neutral', 'dia724utt2.mp4': 'surprise', 'dia724utt3.mp4': 'neutral', 'dia724utt4.mp4': 'anger', 'dia724utt5.mp4': 'anger', 'dia724utt6.mp4': 'joy', 'dia724utt7.mp4': 'anger', 'dia724utt8.mp4': 'surprise', 'dia724utt9.mp4': 'joy', 'dia724utt10.mp4': 'neutral', 'dia724utt11.mp4': 'neutral', 'dia733utt1.mp4': 'neutral', 'dia733utt2.mp4': 'sadness', 'dia733utt3.mp4': 'disgust', 'dia733utt4.mp4': 'neutral', 'dia733utt5.mp4': 'neutral', 'dia733utt6.mp4': 'neutral', 'dia733utt7.mp4': 'neutral', 'dia733utt8.mp4': 'surprise', 'dia733utt9.mp4': 'sadness', 'dia744utt1.mp4': 'neutral', 'dia744utt2.mp4': 'neutral', 'dia744utt3.mp4': 'anger', 'dia744utt4.mp4': 'neutral', 'dia744utt5.mp4': 'neutral', 'dia744utt6.mp4': 'neutral', 'dia744utt7.mp4': 'joy', 'dia744utt8.mp4': 'neutral', 'dia749utt1.mp4': 'neutral', 'dia749utt2.mp4': 'neutral', 'dia749utt3.mp4': 'neutral', 'dia749utt4.mp4': 'neutral', 'dia749utt5.mp4': 'neutral', 'dia749utt6.mp4': 'neutral', 'dia749utt7.mp4': 'neutral', 'dia749utt8.mp4': 'neutral', 'dia749utt9.mp4': 'neutral', 'dia749utt10.mp4': 'anger', 'dia749utt11.mp4': 'neutral', 'dia749utt12.mp4': 'fear', 'dia749utt13.mp4': 'neutral', 'dia750utt1.mp4': 'anger', 'dia750utt2.mp4': 'surprise', 'dia750utt3.mp4': 'neutral', 'dia750utt4.mp4': 'neutral', 'dia750utt5.mp4': 'anger', 'dia750utt6.mp4': 'neutral', 'dia750utt7.mp4': 'joy', 'dia750utt8.mp4': 'neutral', 'dia750utt9.mp4': 'anger', 'dia750utt10.mp4': 'neutral', 'dia750utt11.mp4': 'anger', 'dia750utt12.mp4': 'neutral', 'dia750utt13.mp4': 'neutral', 'dia750utt14.mp4': 'anger', 'dia750utt15.mp4': 'surprise', 'dia750utt16.mp4': 'anger', 'dia750utt17.mp4': 'neutral', 'dia752utt1.mp4': 'joy', 'dia752utt2.mp4': 'joy', 'dia752utt3.mp4': 'anger', 'dia752utt4.mp4': 'neutral', 'dia752utt5.mp4': 'neutral', 'dia758utt1.mp4': 'neutral', 'dia758utt2.mp4': 'joy', 'dia758utt3.mp4': 'sadness', 'dia758utt4.mp4': 'joy', 'dia758utt5.mp4': 'neutral', 'dia758utt6.mp4': 'neutral', 'dia758utt7.mp4': 'neutral', 'dia758utt8.mp4': 'neutral', 'dia758utt9.mp4': 'neutral', 'dia758utt10.mp4': 'joy', 'dia758utt11.mp4': 'neutral', 'dia758utt12.mp4': 'joy', 'dia759utt1.mp4': 'anger', 'dia759utt2.mp4': 'neutral', 'dia759utt3.mp4': 'neutral', 'dia759utt4.mp4': 'neutral', 'dia760utt1.mp4': 'neutral', 'dia760utt2.mp4': 'neutral', 'dia760utt3.mp4': 'joy', 'dia761utt1.mp4': 'neutral', 'dia761utt2.mp4': 'neutral', 'dia761utt3.mp4': 'surprise', 'dia761utt4.mp4': 'neutral', 'dia761utt5.mp4': 'neutral', 'dia761utt6.mp4': 'neutral', 'dia761utt7.mp4': 'neutral', 'dia761utt8.mp4': 'neutral', 'dia761utt9.mp4': 'neutral', 'dia761utt10.mp4': 'surprise', 'dia761utt11.mp4': 'neutral', 'dia761utt12.mp4': 'surprise', 'dia761utt13.mp4': 'neutral', 'dia761utt14.mp4': 'surprise', 'dia761utt15.mp4': 'neutral', 'dia761utt16.mp4': 'neutral', 'dia761utt17.mp4': 'joy', 'dia764utt1.mp4': 'neutral', 'dia764utt2.mp4': 'neutral', 'dia764utt3.mp4': 'neutral', 'dia764utt4.mp4': 'surprise', 'dia764utt5.mp4': 'joy', 'dia766utt1.mp4': 'neutral', 'dia766utt2.mp4': 'anger', 'dia766utt3.mp4': 'joy', 'dia766utt4.mp4': 'neutral', 'dia766utt5.mp4': 'neutral', 'dia779utt1.mp4': 'surprise', 'dia779utt2.mp4': 'surprise', 'dia779utt3.mp4': 'neutral', 'dia779utt4.mp4': 'surprise', 'dia779utt5.mp4': 'joy', 'dia779utt6.mp4': 'neutral', 'dia779utt7.mp4': 'neutral', 'dia779utt8.mp4': 'surprise', 'dia779utt9.mp4': 'neutral', 'dia779utt10.mp4': 'surprise', 'dia779utt11.mp4': 'neutral', 'dia779utt12.mp4': 'neutral', 'dia779utt13.mp4': 'surprise', 'dia779utt14.mp4': 'neutral', 'dia779utt15.mp4': 'neutral', 'dia779utt16.mp4': 'neutral', 'dia789utt1.mp4': 'sadness', 'dia789utt2.mp4': 'neutral', 'dia789utt3.mp4': 'neutral', 'dia789utt4.mp4': 'neutral', 'dia789utt5.mp4': 'neutral', 'dia789utt6.mp4': 'neutral', 'dia789utt7.mp4': 'neutral', 'dia789utt8.mp4': 'neutral', 'dia789utt9.mp4': 'neutral', 'dia789utt10.mp4': 'neutral', 'dia789utt11.mp4': 'fear', 'dia789utt12.mp4': 'neutral', 'dia789utt13.mp4': 'joy', 'dia789utt14.mp4': 'sadness', 'dia790utt1.mp4': 'neutral', 'dia790utt2.mp4': 'anger', 'dia790utt3.mp4': 'anger', 'dia790utt4.mp4': 'neutral', 'dia790utt5.mp4': 'surprise', 'dia790utt6.mp4': 'joy', 'dia790utt7.mp4': 'anger', 'dia790utt8.mp4': 'anger', 'dia790utt9.mp4': 'surprise', 'dia790utt10.mp4': 'neutral', 'dia790utt11.mp4': 'joy', 'dia790utt12.mp4': 'neutral', 'dia790utt13.mp4': 'joy', 'dia790utt14.mp4': 'sadness', 'dia793utt1.mp4': 'neutral', 'dia793utt2.mp4': 'neutral', 'dia793utt3.mp4': 'anger', 'dia793utt4.mp4': 'joy', 'dia793utt5.mp4': 'neutral', 'dia793utt6.mp4': 'neutral', 'dia793utt7.mp4': 'neutral', 'dia793utt8.mp4': 'neutral', 'dia793utt9.mp4': 'neutral', 'dia793utt10.mp4': 'neutral', 'dia793utt11.mp4': 'neutral', 'dia793utt12.mp4': 'joy', 'dia793utt13.mp4': 'neutral', 'dia793utt14.mp4': 'neutral', 'dia793utt15.mp4': 'anger', 'dia793utt16.mp4': 'joy', 'dia793utt17.mp4': 'joy', 'dia793utt18.mp4': 'anger', 'dia793utt19.mp4': 'neutral', 'dia799utt1.mp4': 'neutral', 'dia799utt2.mp4': 'sadness', 'dia799utt3.mp4': 'neutral', 'dia799utt4.mp4': 'anger', 'dia799utt5.mp4': 'anger', 'dia799utt6.mp4': 'joy', 'dia799utt7.mp4': 'joy', 'dia800utt1.mp4': 'sadness', 'dia800utt2.mp4': 'neutral', 'dia800utt3.mp4': 'sadness', 'dia800utt4.mp4': 'joy', 'dia800utt5.mp4': 'neutral', 'dia800utt6.mp4': 'joy', 'dia800utt7.mp4': 'neutral', 'dia800utt8.mp4': 'neutral', 'dia800utt9.mp4': 'sadness', 'dia800utt10.mp4': 'neutral', 'dia800utt11.mp4': 'joy', 'dia800utt12.mp4': 'joy', 'dia800utt13.mp4': 'neutral', 'dia800utt14.mp4': 'neutral', 'dia800utt15.mp4': 'neutral', 'dia800utt16.mp4': 'neutral', 'dia800utt17.mp4': 'neutral', 'dia800utt18.mp4': 'neutral', 'dia800utt19.mp4': 'joy', 'dia800utt20.mp4': 'neutral', 'dia801utt1.mp4': 'neutral', 'dia801utt2.mp4': 'neutral', 'dia801utt3.mp4': 'surprise', 'dia801utt4.mp4': 'neutral', 'dia801utt5.mp4': 'neutral', 'dia801utt6.mp4': 'neutral', 'dia807utt1.mp4': 'neutral', 'dia807utt2.mp4': 'surprise', 'dia807utt3.mp4': 'surprise', 'dia807utt4.mp4': 'fear', 'dia807utt5.mp4': 'anger', 'dia807utt6.mp4': 'anger', 'dia809utt1.mp4': 'neutral', 'dia809utt2.mp4': 'anger', 'dia809utt3.mp4': 'anger', 'dia809utt4.mp4': 'neutral', 'dia809utt5.mp4': 'neutral', 'dia809utt6.mp4': 'neutral', 'dia809utt7.mp4': 'neutral', 'dia809utt8.mp4': 'surprise', 'dia809utt9.mp4': 'sadness', 'dia809utt10.mp4': 'neutral', 'dia809utt11.mp4': 'neutral', 'dia809utt12.mp4': 'neutral', 'dia809utt13.mp4': 'neutral', 'dia809utt14.mp4': 'joy', 'dia809utt15.mp4': 'sadness', 'dia809utt16.mp4': 'neutral', 'dia813utt1.mp4': 'surprise', 'dia813utt2.mp4': 'neutral', 'dia813utt3.mp4': 'neutral', 'dia813utt4.mp4': 'joy', 'dia813utt5.mp4': 'neutral', 'dia813utt6.mp4': 'neutral', 'dia813utt7.mp4': 'joy', 'dia813utt8.mp4': 'joy', 'dia813utt9.mp4': 'neutral', 'dia813utt10.mp4': 'joy', 'dia813utt11.mp4': 'neutral', 'dia816utt1.mp4': 'neutral', 'dia816utt2.mp4': 'neutral', 'dia816utt3.mp4': 'joy', 'dia816utt4.mp4': 'neutral', 'dia816utt5.mp4': 'neutral', 'dia816utt6.mp4': 'neutral', 'dia816utt7.mp4': 'neutral', 'dia816utt8.mp4': 'neutral', 'dia816utt9.mp4': 'neutral', 'dia816utt10.mp4': 'neutral', 'dia817utt1.mp4': 'anger', 'dia817utt2.mp4': 'neutral', 'dia817utt3.mp4': 'neutral', 'dia817utt4.mp4': 'neutral', 'dia817utt5.mp4': 'neutral', 'dia817utt6.mp4': 'neutral', 'dia817utt7.mp4': 'neutral', 'dia817utt8.mp4': 'anger', 'dia817utt9.mp4': 'neutral', 'dia817utt10.mp4': 'anger', 'dia817utt11.mp4': 'sadness', 'dia817utt12.mp4': 'joy', 'dia821utt1.mp4': 'anger', 'dia821utt2.mp4': 'neutral', 'dia821utt3.mp4': 'neutral', 'dia821utt4.mp4': 'anger', 'dia821utt5.mp4': 'neutral', 'dia821utt6.mp4': 'sadness', 'dia821utt7.mp4': 'anger', 'dia821utt8.mp4': 'neutral', 'dia821utt9.mp4': 'joy', 'dia821utt10.mp4': 'neutral', 'dia821utt11.mp4': 'joy', 'dia821utt12.mp4': 'neutral', 'dia821utt13.mp4': 'joy', 'dia821utt14.mp4': 'neutral', 'dia821utt15.mp4': 'surprise', 'dia821utt16.mp4': 'neutral', 'dia821utt17.mp4': 'neutral', 'dia821utt18.mp4': 'neutral', 'dia821utt19.mp4': 'neutral', 'dia821utt20.mp4': 'anger', 'dia833utt1.mp4': 'anger', 'dia833utt2.mp4': 'neutral', 'dia833utt3.mp4': 'fear', 'dia833utt4.mp4': 'surprise', 'dia836utt1.mp4': 'neutral', 'dia836utt2.mp4': 'neutral', 'dia836utt3.mp4': 'neutral', 'dia836utt4.mp4': 'surprise', 'dia836utt5.mp4': 'neutral', 'dia836utt6.mp4': 'joy', 'dia836utt7.mp4': 'joy', 'dia836utt8.mp4': 'surprise', 'dia836utt9.mp4': 'surprise', 'dia836utt10.mp4': 'joy', 'dia836utt11.mp4': 'joy', 'dia836utt12.mp4': 'neutral', 'dia838utt1.mp4': 'neutral', 'dia838utt2.mp4': 'joy', 'dia838utt3.mp4': 'neutral', 'dia838utt4.mp4': 'neutral', 'dia838utt5.mp4': 'joy', 'dia838utt6.mp4': 'anger', 'dia838utt7.mp4': 'joy', 'dia838utt8.mp4': 'neutral', 'dia844utt1.mp4': 'neutral', 'dia844utt2.mp4': 'joy', 'dia844utt3.mp4': 'neutral', 'dia844utt4.mp4': 'anger', 'dia844utt5.mp4': 'joy', 'dia844utt6.mp4': 'neutral', 'dia844utt7.mp4': 'neutral', 'dia844utt8.mp4': 'neutral', 'dia844utt9.mp4': 'joy', 'dia858utt1.mp4': 'neutral', 'dia858utt2.mp4': 'neutral', 'dia858utt3.mp4': 'neutral', 'dia858utt4.mp4': 'neutral', 'dia858utt5.mp4': 'disgust', 'dia858utt6.mp4': 'neutral', 'dia858utt7.mp4': 'surprise', 'dia858utt8.mp4': 'joy', 'dia858utt9.mp4': 'neutral', 'dia858utt10.mp4': 'anger', 'dia858utt11.mp4': 'neutral', 'dia859utt1.mp4': 'sadness', 'dia859utt2.mp4': 'neutral', 'dia859utt3.mp4': 'neutral', 'dia859utt4.mp4': 'neutral', 'dia859utt5.mp4': 'neutral', 'dia859utt6.mp4': 'neutral', 'dia859utt7.mp4': 'neutral', 'dia859utt8.mp4': 'neutral', 'dia859utt9.mp4': 'neutral', 'dia859utt10.mp4': 'neutral', 'dia859utt11.mp4': 'neutral', 'dia859utt12.mp4': 'neutral', 'dia859utt13.mp4': 'neutral', 'dia859utt14.mp4': 'neutral', 'dia859utt15.mp4': 'surprise', 'dia859utt16.mp4': 'neutral', 'dia859utt17.mp4': 'neutral', 'dia862utt1.mp4': 'anger', 'dia862utt2.mp4': 'neutral', 'dia862utt3.mp4': 'neutral', 'dia862utt4.mp4': 'neutral', 'dia862utt5.mp4': 'neutral', 'dia862utt6.mp4': 'neutral', 'dia862utt7.mp4': 'anger', 'dia862utt8.mp4': 'anger', 'dia862utt9.mp4': 'neutral', 'dia862utt10.mp4': 'neutral', 'dia862utt11.mp4': 'neutral', 'dia862utt12.mp4': 'anger', 'dia862utt13.mp4': 'anger', 'dia862utt14.mp4': 'anger', 'dia862utt15.mp4': 'neutral', 'dia862utt16.mp4': 'joy', 'dia864utt1.mp4': 'anger', 'dia864utt2.mp4': 'neutral', 'dia864utt3.mp4': 'joy', 'dia864utt4.mp4': 'joy', 'dia864utt5.mp4': 'joy', 'dia864utt6.mp4': 'neutral', 'dia864utt7.mp4': 'neutral', 'dia864utt8.mp4': 'surprise', 'dia864utt9.mp4': 'joy', 'dia864utt10.mp4': 'neutral', 'dia867utt1.mp4': 'neutral', 'dia867utt2.mp4': 'neutral', 'dia867utt3.mp4': 'anger', 'dia867utt4.mp4': 'neutral', 'dia867utt5.mp4': 'anger', 'dia879utt1.mp4': 'neutral', 'dia879utt2.mp4': 'anger', 'dia879utt3.mp4': 'joy', 'dia879utt4.mp4': 'anger', 'dia879utt5.mp4': 'joy', 'dia879utt6.mp4': 'surprise', 'dia879utt7.mp4': 'neutral', 'dia879utt8.mp4': 'neutral', 'dia879utt9.mp4': 'neutral', 'dia879utt10.mp4': 'neutral', 'dia879utt11.mp4': 'neutral', 'dia879utt12.mp4': 'neutral', 'dia879utt13.mp4': 'joy', 'dia879utt14.mp4': 'anger', 'dia879utt15.mp4': 'anger', 'dia879utt16.mp4': 'neutral', 'dia879utt17.mp4': 'neutral', 'dia879utt18.mp4': 'anger', 'dia879utt19.mp4': 'surprise', 'dia883utt1.mp4': 'surprise', 'dia883utt2.mp4': 'neutral', 'dia883utt3.mp4': 'joy', 'dia883utt4.mp4': 'neutral', 'dia883utt5.mp4': 'joy', 'dia883utt6.mp4': 'joy', 'dia883utt7.mp4': 'neutral', 'dia883utt8.mp4': 'neutral', 'dia883utt9.mp4': 'neutral', 'dia883utt10.mp4': 'joy', 'dia883utt11.mp4': 'joy', 'dia885utt1.mp4': 'neutral', 'dia885utt2.mp4': 'surprise', 'dia885utt3.mp4': 'neutral', 'dia885utt4.mp4': 'surprise', 'dia885utt5.mp4': 'joy', 'dia885utt6.mp4': 'surprise', 'dia885utt7.mp4': 'neutral', 'dia885utt8.mp4': 'neutral', 'dia885utt9.mp4': 'neutral', 'dia885utt10.mp4': 'neutral', 'dia885utt11.mp4': 'neutral', 'dia885utt12.mp4': 'surprise', 'dia885utt13.mp4': 'joy', 'dia885utt14.mp4': 'joy', 'dia885utt15.mp4': 'neutral', 'dia885utt16.mp4': 'sadness', 'dia885utt17.mp4': 'joy', 'dia886utt1.mp4': 'neutral', 'dia886utt2.mp4': 'disgust', 'dia886utt3.mp4': 'joy', 'dia886utt4.mp4': 'sadness', 'dia886utt5.mp4': 'neutral', 'dia886utt6.mp4': 'neutral', 'dia889utt1.mp4': 'surprise', 'dia889utt2.mp4': 'neutral', 'dia889utt3.mp4': 'joy', 'dia889utt4.mp4': 'surprise', 'dia889utt5.mp4': 'anger', 'dia889utt6.mp4': 'joy', 'dia891utt1.mp4': 'neutral', 'dia891utt2.mp4': 'sadness', 'dia891utt3.mp4': 'neutral', 'dia891utt4.mp4': 'neutral', 'dia891utt5.mp4': 'neutral', 'dia891utt6.mp4': 'fear', 'dia891utt7.mp4': 'neutral', 'dia891utt8.mp4': 'anger', 'dia891utt9.mp4': 'neutral', 'dia891utt10.mp4': 'neutral', 'dia891utt11.mp4': 'neutral', 'dia891utt12.mp4': 'neutral', 'dia891utt13.mp4': 'anger', 'dia891utt14.mp4': 'joy', 'dia891utt15.mp4': 'joy', 'dia891utt16.mp4': 'joy', 'dia891utt17.mp4': 'joy', 'dia891utt18.mp4': 'joy', 'dia891utt19.mp4': 'neutral', 'dia896utt1.mp4': 'neutral', 'dia896utt2.mp4': 'neutral', 'dia896utt3.mp4': 'joy', 'dia896utt4.mp4': 'neutral', 'dia896utt5.mp4': 'neutral', 'dia896utt6.mp4': 'neutral', 'dia896utt7.mp4': 'neutral', 'dia896utt8.mp4': 'neutral', 'dia896utt9.mp4': 'neutral', 'dia901utt1.mp4': 'joy', 'dia901utt2.mp4': 'sadness', 'dia901utt3.mp4': 'neutral', 'dia901utt4.mp4': 'neutral', 'dia901utt5.mp4': 'neutral', 'dia901utt6.mp4': 'neutral', 'dia901utt7.mp4': 'neutral', 'dia901utt8.mp4': 'joy', 'dia901utt9.mp4': 'sadness', 'dia901utt10.mp4': 'neutral', 'dia901utt11.mp4': 'neutral', 'dia901utt12.mp4': 'joy', 'dia901utt13.mp4': 'surprise', 'dia901utt14.mp4': 'neutral', 'dia901utt15.mp4': 'neutral', 'dia901utt16.mp4': 'joy', 'dia901utt17.mp4': 'joy', 'dia901utt18.mp4': 'neutral', 'dia909utt1.mp4': 'joy', 'dia909utt2.mp4': 'joy', 'dia909utt3.mp4': 'surprise', 'dia909utt4.mp4': 'joy', 'dia909utt5.mp4': 'sadness', 'dia909utt6.mp4': 'sadness', 'dia909utt7.mp4': 'neutral', 'dia909utt8.mp4': 'neutral', 'dia909utt9.mp4': 'neutral', 'dia909utt10.mp4': 'fear', 'dia909utt11.mp4': 'joy', 'dia909utt12.mp4': 'neutral', 'dia920utt1.mp4': 'neutral', 'dia920utt2.mp4': 'neutral', 'dia920utt3.mp4': 'neutral', 'dia920utt4.mp4': 'neutral', 'dia927utt1.mp4': 'neutral', 'dia927utt2.mp4': 'surprise', 'dia927utt3.mp4': 'anger', 'dia927utt4.mp4': 'anger', 'dia927utt5.mp4': 'surprise', 'dia927utt6.mp4': 'joy', 'dia927utt7.mp4': 'neutral', 'dia927utt8.mp4': 'neutral', 'dia927utt9.mp4': 'neutral', 'dia927utt10.mp4': 'surprise', 'dia927utt11.mp4': 'neutral', 'dia927utt12.mp4': 'neutral', 'dia931utt1.mp4': 'neutral', 'dia931utt2.mp4': 'neutral', 'dia931utt3.mp4': 'neutral', 'dia931utt4.mp4': 'neutral', 'dia931utt5.mp4': 'surprise', 'dia931utt6.mp4': 'joy', 'dia931utt7.mp4': 'neutral', 'dia931utt8.mp4': 'neutral', 'dia931utt9.mp4': 'surprise', 'dia931utt10.mp4': 'neutral', 'dia932utt1.mp4': 'anger', 'dia932utt2.mp4': 'sadness', 'dia932utt3.mp4': 'neutral', 'dia932utt4.mp4': 'neutral', 'dia932utt5.mp4': 'anger', 'dia932utt6.mp4': 'neutral', 'dia932utt7.mp4': 'neutral', 'dia932utt8.mp4': 'neutral', 'dia932utt9.mp4': 'sadness', 'dia932utt10.mp4': 'neutral', 'dia932utt11.mp4': 'neutral', 'dia932utt12.mp4': 'neutral', 'dia932utt13.mp4': 'neutral', 'dia936utt1.mp4': 'neutral', 'dia936utt2.mp4': 'neutral', 'dia936utt3.mp4': 'neutral', 'dia936utt4.mp4': 'neutral', 'dia936utt5.mp4': 'neutral', 'dia936utt6.mp4': 'neutral', 'dia936utt7.mp4': 'surprise', 'dia936utt8.mp4': 'neutral', 'dia936utt9.mp4': 'surprise', 'dia936utt10.mp4': 'joy', 'dia936utt11.mp4': 'surprise', 'dia936utt12.mp4': 'surprise', 'dia936utt13.mp4': 'anger', 'dia936utt14.mp4': 'neutral', 'dia936utt15.mp4': 'joy', 'dia936utt16.mp4': 'neutral', 'dia939utt1.mp4': 'joy', 'dia939utt2.mp4': 'neutral', 'dia939utt3.mp4': 'neutral', 'dia939utt4.mp4': 'neutral', 'dia939utt5.mp4': 'neutral', 'dia939utt6.mp4': 'neutral', 'dia939utt7.mp4': 'neutral', 'dia939utt8.mp4': 'neutral', 'dia939utt9.mp4': 'neutral', 'dia940utt1.mp4': 'neutral', 'dia940utt2.mp4': 'neutral', 'dia940utt3.mp4': 'neutral', 'dia943utt1.mp4': 'anger', 'dia943utt2.mp4': 'neutral', 'dia943utt3.mp4': 'surprise', 'dia943utt4.mp4': 'anger', 'dia943utt5.mp4': 'surprise', 'dia943utt6.mp4': 'anger', 'dia943utt7.mp4': 'neutral', 'dia943utt8.mp4': 'neutral', 'dia944utt1.mp4': 'neutral', 'dia944utt2.mp4': 'joy', 'dia944utt3.mp4': 'neutral', 'dia947utt1.mp4': 'neutral', 'dia947utt2.mp4': 'neutral', 'dia947utt3.mp4': 'neutral', 'dia947utt4.mp4': 'neutral', 'dia947utt5.mp4': 'neutral', 'dia947utt6.mp4': 'neutral', 'dia947utt7.mp4': 'neutral', 'dia947utt8.mp4': 'neutral', 'dia947utt9.mp4': 'joy', 'dia959utt1.mp4': 'joy', 'dia959utt2.mp4': 'joy', 'dia959utt3.mp4': 'neutral', 'dia959utt4.mp4': 'neutral', 'dia959utt5.mp4': 'joy', 'dia969utt1.mp4': 'neutral', 'dia969utt2.mp4': 'joy', 'dia969utt3.mp4': 'neutral', 'dia969utt4.mp4': 'neutral', 'dia969utt5.mp4': 'neutral', 'dia969utt6.mp4': 'neutral', 'dia969utt7.mp4': 'neutral', 'dia971utt1.mp4': 'surprise', 'dia971utt2.mp4': 'joy', 'dia971utt3.mp4': 'neutral', 'dia971utt4.mp4': 'surprise', 'dia971utt5.mp4': 'joy', 'dia971utt6.mp4': 'joy', 'dia971utt7.mp4': 'anger', 'dia971utt8.mp4': 'joy', 'dia971utt9.mp4': 'joy', 'dia988utt1.mp4': 'joy', 'dia988utt2.mp4': 'joy', 'dia988utt3.mp4': 'neutral', 'dia988utt4.mp4': 'neutral', 'dia988utt5.mp4': 'neutral', 'dia988utt6.mp4': 'joy', 'dia988utt7.mp4': 'neutral', 'dia988utt8.mp4': 'surprise', 'dia988utt9.mp4': 'neutral', 'dia988utt10.mp4': 'neutral', 'dia988utt11.mp4': 'neutral', 'dia988utt12.mp4': 'joy', 'dia988utt13.mp4': 'neutral', 'dia988utt14.mp4': 'joy', 'dia988utt15.mp4': 'surprise', 'dia988utt16.mp4': 'surprise', 'dia988utt17.mp4': 'neutral', 'dia988utt18.mp4': 'anger', 'dia988utt19.mp4': 'neutral', 'dia988utt20.mp4': 'neutral', 'dia988utt21.mp4': 'joy', 'dia988utt22.mp4': 'neutral', 'dia988utt23.mp4': 'surprise', 'dia993utt1.mp4': 'anger', 'dia993utt2.mp4': 'neutral', 'dia993utt3.mp4': 'surprise', 'dia993utt4.mp4': 'joy', 'dia993utt5.mp4': 'anger', 'dia993utt6.mp4': 'neutral', 'dia993utt7.mp4': 'sadness', 'dia993utt8.mp4': 'surprise', 'dia993utt9.mp4': 'neutral', 'dia993utt10.mp4': 'joy', 'dia993utt11.mp4': 'neutral', 'dia993utt12.mp4': 'neutral', 'dia993utt13.mp4': 'neutral', 'dia993utt14.mp4': 'joy', 'dia993utt15.mp4': 'joy', 'dia993utt16.mp4': 'neutral', 'dia993utt17.mp4': 'neutral', 'dia1010utt1.mp4': 'joy', 'dia1010utt2.mp4': 'sadness', 'dia1010utt3.mp4': 'joy', 'dia1010utt4.mp4': 'neutral', 'dia1010utt5.mp4': 'neutral', 'dia1010utt6.mp4': 'neutral', 'dia1010utt7.mp4': 'surprise', 'dia1010utt8.mp4': 'anger', 'dia1010utt9.mp4': 'neutral', 'dia1011utt1.mp4': 'neutral', 'dia1011utt2.mp4': 'neutral', 'dia1011utt3.mp4': 'neutral', 'dia1011utt4.mp4': 'surprise', 'dia1011utt5.mp4': 'neutral', 'dia1012utt1.mp4': 'neutral', 'dia1012utt2.mp4': 'neutral', 'dia1012utt3.mp4': 'joy', 'dia1012utt4.mp4': 'joy', 'dia1012utt5.mp4': 'neutral', 'dia1012utt6.mp4': 'joy', 'dia1012utt7.mp4': 'neutral', 'dia1012utt8.mp4': 'joy', 'dia1023utt1.mp4': 'surprise', 'dia1023utt2.mp4': 'surprise', 'dia1046utt1.mp4': 'anger', 'dia1046utt2.mp4': 'anger', 'dia1046utt3.mp4': 'anger', 'dia1046utt4.mp4': 'neutral', 'dia1046utt5.mp4': 'neutral', 'dia1046utt6.mp4': 'joy', 'dia1046utt7.mp4': 'joy', 'dia1046utt8.mp4': 'joy', 'dia1046utt9.mp4': 'neutral', 'dia1046utt10.mp4': 'joy', 'dia1046utt11.mp4': 'joy', 'dia1046utt12.mp4': 'joy', 'dia1046utt13.mp4': 'neutral', 'dia1046utt14.mp4': 'surprise', 'dia1055utt1.mp4': 'anger', 'dia1055utt2.mp4': 'neutral', 'dia1055utt3.mp4': 'joy', 'dia1055utt4.mp4': 'surprise', 'dia1055utt5.mp4': 'neutral', 'dia1055utt6.mp4': 'neutral', 'dia1055utt7.mp4': 'neutral', 'dia1055utt8.mp4': 'surprise', 'dia1055utt9.mp4': 'neutral', 'dia1055utt10.mp4': 'neutral', 'dia1055utt11.mp4': 'surprise', 'dia1055utt12.mp4': 'neutral', 'dia1055utt13.mp4': 'anger', 'dia1055utt14.mp4': 'neutral', 'dia1055utt15.mp4': 'joy', 'dia1059utt1.mp4': 'anger', 'dia1059utt2.mp4': 'neutral', 'dia1059utt3.mp4': 'neutral', 'dia1059utt4.mp4': 'neutral', 'dia1059utt5.mp4': 'anger', 'dia1059utt6.mp4': 'anger', 'dia1059utt7.mp4': 'surprise', 'dia1059utt8.mp4': 'joy', 'dia1059utt9.mp4': 'anger', 'dia1059utt10.mp4': 'surprise', 'dia1059utt11.mp4': 'neutral', 'dia1059utt12.mp4': 'fear', 'dia1059utt13.mp4': 'joy', 'dia1059utt14.mp4': 'neutral', 'dia1059utt15.mp4': 'neutral', 'dia1060utt1.mp4': 'neutral', 'dia1060utt2.mp4': 'neutral', 'dia1060utt3.mp4': 'joy', 'dia1060utt4.mp4': 'neutral', 'dia1060utt5.mp4': 'joy', 'dia1060utt6.mp4': 'neutral', 'dia1060utt7.mp4': 'neutral', 'dia1060utt8.mp4': 'neutral', 'dia1060utt9.mp4': 'neutral', 'dia1060utt10.mp4': 'neutral', 'dia1060utt11.mp4': 'neutral', 'dia1064utt1.mp4': 'neutral', 'dia1064utt2.mp4': 'neutral', 'dia1064utt3.mp4': 'neutral', 'dia1064utt4.mp4': 'neutral', 'dia1064utt5.mp4': 'neutral', 'dia1064utt6.mp4': 'neutral', 'dia1064utt7.mp4': 'neutral', 'dia1064utt8.mp4': 'neutral', 'dia1064utt9.mp4': 'neutral', 'dia1064utt10.mp4': 'neutral', 'dia1064utt11.mp4': 'sadness', 'dia1064utt12.mp4': 'neutral', 'dia1064utt13.mp4': 'anger', 'dia1064utt14.mp4': 'sadness', 'dia1064utt15.mp4': 'neutral', 'dia1064utt16.mp4': 'neutral', 'dia1064utt17.mp4': 'neutral', 'dia1064utt18.mp4': 'neutral', 'dia1064utt19.mp4': 'anger', 'dia1064utt20.mp4': 'neutral', 'dia1064utt21.mp4': 'neutral', 'dia1064utt22.mp4': 'neutral', 'dia1064utt23.mp4': 'anger', 'dia1065utt1.mp4': 'neutral', 'dia1065utt2.mp4': 'neutral', 'dia1065utt3.mp4': 'neutral', 'dia1065utt4.mp4': 'neutral', 'dia1065utt5.mp4': 'neutral', 'dia1065utt6.mp4': 'anger', 'dia1086utt1.mp4': 'anger', 'dia1086utt2.mp4': 'neutral', 'dia1086utt3.mp4': 'anger', 'dia1086utt4.mp4': 'joy', 'dia1086utt5.mp4': 'joy', 'dia1086utt6.mp4': 'neutral', 'dia1086utt7.mp4': 'neutral', 'dia1086utt8.mp4': 'joy', 'dia1086utt9.mp4': 'neutral', 'dia1086utt10.mp4': 'neutral', 'dia1086utt11.mp4': 'surprise', 'dia1086utt12.mp4': 'neutral', 'dia1086utt13.mp4': 'fear', 'dia1086utt14.mp4': 'neutral', 'dia1086utt15.mp4': 'surprise', 'dia1086utt16.mp4': 'neutral', 'dia1086utt17.mp4': 'neutral', 'dia1100utt1.mp4': 'joy', 'dia1100utt2.mp4': 'neutral', 'dia1122utt1.mp4': 'neutral', 'dia1122utt2.mp4': 'joy', 'dia1122utt3.mp4': 'joy', 'dia1122utt4.mp4': 'sadness', 'dia1122utt5.mp4': 'neutral', 'dia1122utt6.mp4': 'joy', 'dia1122utt7.mp4': 'joy', 'dia1122utt8.mp4': 'neutral', 'dia1122utt9.mp4': 'neutral', 'dia1128utt1.mp4': 'neutral', 'dia1128utt2.mp4': 'neutral', 'dia1128utt3.mp4': 'neutral', 'dia1128utt4.mp4': 'neutral', 'dia1143utt1.mp4': 'neutral', 'dia1143utt2.mp4': 'joy', 'dia1143utt3.mp4': 'neutral', 'dia1143utt4.mp4': 'disgust', 'dia1143utt5.mp4': 'neutral', 'dia1143utt6.mp4': 'joy', 'dia1143utt7.mp4': 'neutral', 'dia1143utt8.mp4': 'neutral', 'dia1143utt9.mp4': 'neutral', 'dia1143utt10.mp4': 'joy', 'dia1143utt11.mp4': 'joy', 'dia1143utt12.mp4': 'neutral', 'dia1143utt13.mp4': 'surprise', 'dia1143utt14.mp4': 'neutral', 'dia1143utt15.mp4': 'neutral', 'dia1150utt1.mp4': 'neutral', 'dia1150utt2.mp4': 'neutral', 'dia1150utt3.mp4': 'neutral', 'dia1150utt4.mp4': 'surprise', 'dia1150utt5.mp4': 'neutral', 'dia1151utt1.mp4': 'neutral', 'dia1151utt2.mp4': 'neutral', 'dia1151utt3.mp4': 'joy', 'dia1151utt4.mp4': 'joy', 'dia1151utt5.mp4': 'neutral', 'dia1151utt6.mp4': 'neutral', 'dia1151utt7.mp4': 'joy', 'dia1151utt8.mp4': 'neutral', 'dia1151utt9.mp4': 'joy', 'dia1151utt10.mp4': 'surprise', 'dia1151utt11.mp4': 'neutral', 'dia1151utt12.mp4': 'neutral', 'dia1160utt1.mp4': 'surprise', 'dia1160utt2.mp4': 'surprise', 'dia1160utt3.mp4': 'anger', 'dia1160utt4.mp4': 'joy', 'dia1160utt5.mp4': 'anger', 'dia1160utt6.mp4': 'surprise', 'dia1160utt7.mp4': 'neutral', 'dia1160utt8.mp4': 'surprise', 'dia1160utt9.mp4': 'surprise', 'dia1160utt10.mp4': 'joy', 'dia1160utt11.mp4': 'anger', 'dia1160utt12.mp4': 'sadness', 'dia1160utt13.mp4': 'neutral', 'dia1160utt14.mp4': 'neutral', 'dia1160utt15.mp4': 'surprise', 'dia1160utt16.mp4': 'surprise', 'dia1160utt17.mp4': 'neutral', 'dia1160utt18.mp4': 'neutral', 'dia1160utt19.mp4': 'joy', 'dia1160utt20.mp4': 'surprise', 'dia1160utt21.mp4': 'neutral', 'dia1160utt22.mp4': 'surprise', 'dia1160utt23.mp4': 'neutral', 'dia1171utt1.mp4': 'joy', 'dia1171utt2.mp4': 'neutral', 'dia1171utt3.mp4': 'joy', 'dia1171utt4.mp4': 'surprise', 'dia1171utt5.mp4': 'anger', 'dia1171utt6.mp4': 'neutral', 'dia1171utt7.mp4': 'neutral', 'dia1171utt8.mp4': 'neutral', 'dia1171utt9.mp4': 'joy', 'dia1171utt10.mp4': 'neutral', 'dia1171utt11.mp4': 'surprise', 'dia1171utt12.mp4': 'neutral', 'dia1172utt1.mp4': 'neutral', 'dia1172utt2.mp4': 'neutral', 'dia1172utt3.mp4': 'neutral', 'dia1172utt4.mp4': 'joy', 'dia1172utt5.mp4': 'neutral', 'dia1172utt6.mp4': 'neutral', 'dia1172utt7.mp4': 'joy', 'dia1172utt8.mp4': 'neutral', 'dia1172utt9.mp4': 'neutral', 'dia1174utt1.mp4': 'neutral', 'dia1174utt2.mp4': 'neutral', 'dia1174utt3.mp4': 'neutral', 'dia1174utt4.mp4': 'neutral', 'dia1174utt5.mp4': 'neutral', 'dia1174utt6.mp4': 'surprise', 'dia1181utt1.mp4': 'neutral', 'dia1181utt2.mp4': 'joy', 'dia1181utt3.mp4': 'neutral', 'dia1185utt1.mp4': 'neutral', 'dia1185utt2.mp4': 'neutral', 'dia1185utt3.mp4': 'neutral', 'dia1185utt4.mp4': 'neutral', 'dia1185utt5.mp4': 'surprise', 'dia1185utt6.mp4': 'neutral', 'dia1185utt7.mp4': 'surprise', 'dia1185utt8.mp4': 'joy', 'dia1185utt9.mp4': 'neutral', 'dia1185utt10.mp4': 'joy', 'dia1185utt11.mp4': 'surprise', 'dia1185utt12.mp4': 'neutral', 'dia1185utt13.mp4': 'neutral', 'dia1185utt14.mp4': 'anger', 'dia1185utt15.mp4': 'anger', 'dia1185utt16.mp4': 'neutral', 'dia1190utt1.mp4': 'surprise', 'dia1190utt2.mp4': 'anger', 'dia1194utt1.mp4': 'neutral', 'dia1194utt2.mp4': 'neutral', 'dia1194utt3.mp4': 'neutral', 'dia1194utt4.mp4': 'neutral', 'dia1194utt5.mp4': 'surprise', 'dia1194utt6.mp4': 'neutral', 'dia1194utt7.mp4': 'surprise', 'dia1194utt8.mp4': 'neutral', 'dia1195utt1.mp4': 'neutral', 'dia1195utt2.mp4': 'anger', 'dia1195utt3.mp4': 'neutral', 'dia1195utt4.mp4': 'neutral', 'dia1195utt5.mp4': 'neutral', 'dia1195utt6.mp4': 'neutral', 'dia1195utt7.mp4': 'neutral', 'dia1195utt8.mp4': 'neutral', 'dia1195utt9.mp4': 'neutral', 'dia1195utt10.mp4': 'neutral', 'dia1195utt11.mp4': 'joy', 'dia1195utt12.mp4': 'anger', 'dia1199utt1.mp4': 'disgust', 'dia1199utt2.mp4': 'neutral', 'dia1199utt3.mp4': 'neutral', 'dia1199utt4.mp4': 'neutral', 'dia1199utt5.mp4': 'surprise', 'dia1199utt6.mp4': 'anger', 'dia1199utt7.mp4': 'neutral', 'dia1199utt8.mp4': 'neutral', 'dia1199utt9.mp4': 'sadness', 'dia1199utt10.mp4': 'neutral', 'dia1202utt1.mp4': 'neutral', 'dia1202utt2.mp4': 'neutral', 'dia1202utt3.mp4': 'neutral', 'dia1202utt4.mp4': 'neutral', 'dia1223utt1.mp4': 'anger', 'dia1223utt2.mp4': 'joy', 'dia1223utt3.mp4': 'joy', 'dia1223utt4.mp4': 'joy', 'dia1223utt5.mp4': 'neutral', 'dia1223utt6.mp4': 'neutral', 'dia1223utt7.mp4': 'surprise', 'dia1223utt8.mp4': 'surprise', 'dia1223utt9.mp4': 'neutral', 'dia1223utt10.mp4': 'neutral', 'dia1223utt11.mp4': 'surprise', 'dia1223utt12.mp4': 'joy', 'dia1223utt13.mp4': 'neutral', 'dia1223utt14.mp4': 'neutral', 'dia1223utt15.mp4': 'neutral', 'dia1223utt16.mp4': 'neutral', 'dia1223utt17.mp4': 'joy', 'dia1223utt18.mp4': 'joy', 'dia1223utt19.mp4': 'neutral', 'dia1223utt20.mp4': 'neutral', 'dia1223utt21.mp4': 'neutral', 'dia1225utt1.mp4': 'joy', 'dia1225utt2.mp4': 'sadness', 'dia1225utt3.mp4': 'neutral', 'dia1225utt4.mp4': 'neutral', 'dia1225utt5.mp4': 'neutral', 'dia1225utt6.mp4': 'neutral', 'dia1225utt7.mp4': 'sadness', 'dia1225utt8.mp4': 'surprise', 'dia1225utt9.mp4': 'joy', 'dia1225utt10.mp4': 'neutral', 'dia1225utt11.mp4': 'joy', 'dia1225utt12.mp4': 'joy', 'dia1225utt13.mp4': 'neutral', 'dia1225utt14.mp4': 'neutral', 'dia1225utt15.mp4': 'neutral', 'dia1225utt16.mp4': 'joy', 'dia1236utt1.mp4': 'neutral', 'dia1236utt2.mp4': 'sadness', 'dia1236utt3.mp4': 'neutral', 'dia1236utt4.mp4': 'joy', 'dia1236utt5.mp4': 'neutral', 'dia1236utt6.mp4': 'neutral', 'dia1236utt7.mp4': 'neutral', 'dia1237utt1.mp4': 'neutral', 'dia1237utt2.mp4': 'anger', 'dia1237utt3.mp4': 'neutral', 'dia1237utt4.mp4': 'neutral', 'dia1237utt5.mp4': 'neutral', 'dia1245utt1.mp4': 'neutral', 'dia1245utt2.mp4': 'anger', 'dia1245utt3.mp4': 'surprise', 'dia1245utt4.mp4': 'anger', 'dia1245utt5.mp4': 'neutral', 'dia1245utt6.mp4': 'surprise', 'dia1245utt7.mp4': 'neutral', 'dia1245utt8.mp4': 'anger', 'dia1245utt9.mp4': 'surprise', 'dia1245utt10.mp4': 'neutral', 'dia1245utt11.mp4': 'surprise', 'dia1245utt12.mp4': 'neutral', 'dia1245utt13.mp4': 'neutral', 'dia1245utt14.mp4': 'surprise', 'dia1245utt15.mp4': 'neutral', 'dia1245utt16.mp4': 'joy', 'dia1245utt17.mp4': 'neutral', 'dia1245utt18.mp4': 'neutral', 'dia1256utt1.mp4': 'neutral', 'dia1256utt2.mp4': 'neutral', 'dia1256utt3.mp4': 'neutral', 'dia1256utt4.mp4': 'neutral', 'dia1256utt5.mp4': 'surprise', 'dia1256utt6.mp4': 'neutral', 'dia1256utt7.mp4': 'neutral', 'dia1256utt8.mp4': 'neutral', 'dia1256utt9.mp4': 'neutral', 'dia1256utt10.mp4': 'neutral', 'dia1256utt11.mp4': 'neutral', 'dia1256utt12.mp4': 'joy', 'dia1256utt13.mp4': 'surprise', 'dia1256utt14.mp4': 'surprise', 'dia1256utt15.mp4': 'joy', 'dia1256utt16.mp4': 'neutral', 'dia1256utt17.mp4': 'joy', 'dia1256utt18.mp4': 'neutral', 'dia1256utt19.mp4': 'neutral', 'dia1256utt20.mp4': 'joy', 'dia1256utt21.mp4': 'joy', 'dia1256utt22.mp4': 'neutral', 'dia1261utt1.mp4': 'sadness', 'dia1261utt2.mp4': 'sadness', 'dia1261utt3.mp4': 'surprise', 'dia1261utt4.mp4': 'neutral', 'dia1261utt5.mp4': 'joy', 'dia1261utt6.mp4': 'neutral', 'dia1261utt7.mp4': 'sadness', 'dia1261utt8.mp4': 'neutral', 'dia1261utt9.mp4': 'neutral', 'dia1261utt10.mp4': 'joy', 'dia1262utt1.mp4': 'neutral', 'dia1262utt2.mp4': 'neutral', 'dia1262utt3.mp4': 'neutral', 'dia1293utt1.mp4': 'neutral', 'dia1293utt2.mp4': 'anger', 'dia1293utt3.mp4': 'neutral', 'dia1293utt4.mp4': 'joy', 'dia1293utt5.mp4': 'neutral', 'dia1293utt6.mp4': 'neutral', 'dia1293utt7.mp4': 'neutral', 'dia1293utt8.mp4': 'neutral', 'dia1293utt9.mp4': 'neutral', 'dia1293utt10.mp4': 'joy', 'dia1293utt11.mp4': 'surprise', 'dia1293utt12.mp4': 'neutral', 'dia1293utt13.mp4': 'joy', 'dia1293utt14.mp4': 'neutral', 'dia1293utt15.mp4': 'joy', 'dia1293utt16.mp4': 'surprise', 'dia1293utt17.mp4': 'neutral', 'dia1294utt1.mp4': 'joy', 'dia1294utt2.mp4': 'neutral', 'dia1294utt3.mp4': 'neutral', 'dia1294utt4.mp4': 'neutral', 'dia1294utt5.mp4': 'joy', 'dia1294utt6.mp4': 'neutral', 'dia1294utt7.mp4': 'neutral', 'dia1294utt8.mp4': 'neutral', 'dia1294utt9.mp4': 'neutral', 'dia1294utt10.mp4': 'neutral', 'dia1294utt11.mp4': 'neutral', 'dia1294utt12.mp4': 'neutral', 'dia1294utt13.mp4': 'neutral', 'dia1294utt14.mp4': 'neutral', 'dia1294utt15.mp4': 'surprise', 'dia1294utt16.mp4': 'neutral', 'dia1294utt17.mp4': 'neutral', 'dia1294utt18.mp4': 'neutral', 'dia1294utt19.mp4': 'neutral', 'dia1294utt20.mp4': 'anger', 'dia1297utt1.mp4': 'neutral', 'dia1297utt2.mp4': 'anger', 'dia1297utt3.mp4': 'anger', 'dia1298utt1.mp4': 'neutral', 'dia1298utt2.mp4': 'neutral', 'dia1298utt3.mp4': 'neutral', 'dia1298utt4.mp4': 'neutral', 'dia1298utt5.mp4': 'neutral', 'dia1298utt6.mp4': 'anger', 'dia1298utt7.mp4': 'anger', 'dia1298utt8.mp4': 'joy', 'dia1298utt9.mp4': 'joy', 'dia1298utt10.mp4': 'anger', 'dia1298utt11.mp4': 'anger', 'dia1298utt12.mp4': 'anger', 'dia1298utt13.mp4': 'neutral', 'dia1298utt14.mp4': 'anger', 'dia1298utt15.mp4': 'neutral', 'dia1298utt16.mp4': 'neutral', 'dia1298utt17.mp4': 'anger', 'dia1311utt1.mp4': 'neutral', 'dia1311utt2.mp4': 'neutral', 'dia1311utt3.mp4': 'neutral', 'dia1311utt4.mp4': 'neutral', 'dia1311utt5.mp4': 'surprise', 'dia1311utt6.mp4': 'neutral', 'dia1311utt7.mp4': 'neutral', 'dia1311utt8.mp4': 'joy', 'dia1311utt9.mp4': 'surprise', 'dia1311utt10.mp4': 'joy', 'dia1311utt11.mp4': 'surprise', 'dia1311utt12.mp4': 'joy', 'dia1311utt13.mp4': 'neutral', 'dia1311utt14.mp4': 'neutral', 'dia1313utt1.mp4': 'neutral', 'dia1313utt2.mp4': 'neutral', 'dia1313utt3.mp4': 'neutral', 'dia1320utt1.mp4': 'anger', 'dia1320utt2.mp4': 'joy', 'dia1320utt3.mp4': 'anger', 'dia1320utt4.mp4': 'sadness', 'dia1320utt5.mp4': 'neutral', 'dia1320utt6.mp4': 'neutral', 'dia1320utt7.mp4': 'neutral', 'dia1320utt8.mp4': 'neutral', 'dia1320utt9.mp4': 'neutral', 'dia1320utt10.mp4': 'neutral', 'dia1320utt11.mp4': 'neutral', 'dia1320utt12.mp4': 'neutral', 'dia1320utt13.mp4': 'neutral', 'dia1320utt14.mp4': 'neutral', 'dia1321utt1.mp4': 'joy', 'dia1321utt2.mp4': 'neutral', 'dia1321utt3.mp4': 'joy', 'dia1321utt4.mp4': 'joy', 'dia1321utt5.mp4': 'neutral', 'dia1321utt6.mp4': 'neutral', 'dia1321utt7.mp4': 'neutral', 'dia1321utt8.mp4': 'neutral', 'dia1321utt9.mp4': 'neutral', 'dia1321utt10.mp4': 'neutral', 'dia1331utt1.mp4': 'neutral', 'dia1331utt2.mp4': 'neutral', 'dia1331utt3.mp4': 'neutral', 'dia1331utt4.mp4': 'neutral', 'dia1331utt5.mp4': 'neutral', 'dia1331utt6.mp4': 'neutral', 'dia1331utt7.mp4': 'neutral', 'dia1331utt8.mp4': 'neutral', 'dia1331utt9.mp4': 'joy', 'dia1331utt10.mp4': 'neutral', 'dia1331utt11.mp4': 'sadness', 'dia1331utt12.mp4': 'anger', 'dia1331utt13.mp4': 'anger', 'dia1331utt14.mp4': 'joy', 'dia1331utt15.mp4': 'anger', 'dia1331utt16.mp4': 'surprise', 'dia1331utt17.mp4': 'sadness', 'dia1331utt18.mp4': 'joy', 'dia1331utt19.mp4': 'neutral', 'dia1331utt20.mp4': 'joy', 'dia1331utt21.mp4': 'neutral', 'dia1331utt22.mp4': 'neutral', 'dia1331utt23.mp4': 'joy', 'dia1333utt1.mp4': 'joy', 'dia1333utt2.mp4': 'neutral', 'dia1333utt3.mp4': 'neutral', 'dia1333utt4.mp4': 'surprise', 'dia1333utt5.mp4': 'anger', 'dia1333utt6.mp4': 'neutral', 'dia1333utt7.mp4': 'surprise', 'dia1333utt8.mp4': 'sadness', 'dia1341utt1.mp4': 'neutral', 'dia1341utt2.mp4': 'neutral', 'dia1341utt3.mp4': 'neutral', 'dia1341utt4.mp4': 'surprise', 'dia1341utt5.mp4': 'surprise', 'dia1341utt6.mp4': 'neutral', 'dia1341utt7.mp4': 'neutral', 'dia1341utt8.mp4': 'neutral', 'dia1341utt9.mp4': 'neutral', 'dia1341utt10.mp4': 'neutral', 'dia1341utt11.mp4': 'neutral', 'dia1341utt12.mp4': 'neutral', 'dia1341utt13.mp4': 'neutral', 'dia1346utt1.mp4': 'neutral', 'dia1346utt2.mp4': 'joy', 'dia1357utt1.mp4': 'neutral', 'dia1357utt2.mp4': 'neutral', 'dia1357utt3.mp4': 'neutral', 'dia1357utt4.mp4': 'neutral', 'dia1357utt5.mp4': 'neutral', 'dia1357utt6.mp4': 'neutral', 'dia1357utt7.mp4': 'neutral', 'dia1360utt1.mp4': 'neutral', 'dia1360utt2.mp4': 'sadness', 'dia1360utt3.mp4': 'neutral', 'dia1360utt4.mp4': 'neutral', 'dia1360utt5.mp4': 'neutral', 'dia1360utt6.mp4': 'neutral', 'dia1360utt7.mp4': 'neutral', 'dia1360utt8.mp4': 'neutral', 'dia1360utt9.mp4': 'neutral', 'dia1360utt10.mp4': 'neutral', 'dia1360utt11.mp4': 'anger', 'dia1360utt12.mp4': 'neutral', 'dia1360utt13.mp4': 'neutral', 'dia1360utt14.mp4': 'neutral', 'dia1371utt1.mp4': 'surprise', 'dia1371utt2.mp4': 'joy', 'dia1371utt3.mp4': 'neutral', 'dia1371utt4.mp4': 'neutral', 'dia1371utt5.mp4': 'surprise', 'dia1371utt6.mp4': 'anger', 'dia1374utt1.mp4': 'anger', 'dia1374utt2.mp4': 'surprise', 'dia1374utt3.mp4': 'joy', 'dia1374utt4.mp4': 'joy', 'dia1374utt5.mp4': 'joy'}\n"
          ]
        }
      ],
      "source": [
        "print(predicted_emotions)"
      ]
    },
    {
      "cell_type": "code",
      "execution_count": 28,
      "metadata": {
        "id": "TCS8JZ0SLFnQ"
      },
      "outputs": [],
      "source": [
        "from sklearn.preprocessing import OneHotEncoder\n",
        "import numpy as np\n",
        "import json\n",
        "import os"
      ]
    },
    {
      "cell_type": "code",
      "execution_count": 29,
      "metadata": {
        "colab": {
          "base_uri": "https://localhost:8080/"
        },
        "id": "j5hTXfkKCuSX",
        "outputId": "e85bd230-ec65-4eb8-82ae-0f02c7000e9f"
      },
      "outputs": [
        {
          "name": "stderr",
          "output_type": "stream",
          "text": [
            "/project/msoleyma_1026/ecp/ecp-venv/lib/python3.12/site-packages/sklearn/preprocessing/_encoders.py:868: FutureWarning: `sparse` was renamed to `sparse_output` in version 1.2 and will be removed in 1.4. `sparse_output` is ignored unless you leave `sparse` to its default value.\n",
            "  warnings.warn(\n"
          ]
        }
      ],
      "source": [
        "emotion_list = sorted(['anger', 'disgust', 'fear', 'joy', 'neutral', 'sadness','surprise'])\n",
        "\n",
        "encoder = OneHotEncoder(sparse=False)\n",
        "encoder.fit(np.array(emotion_list).reshape(-1, 1))\n",
        "\n",
        "def encode_emotion(emotion):\n",
        "    encoded = encoder.transform([[emotion]])\n",
        "    return encoded.flatten()"
      ]
    },
    {
      "cell_type": "code",
      "execution_count": 30,
      "metadata": {
        "colab": {
          "base_uri": "https://localhost:8080/",
          "height": 323
        },
        "id": "DmlfnNSiC4r7",
        "outputId": "eea28e13-7b46-41ec-945a-a9c789a52a8a"
      },
      "outputs": [],
      "source": [
        "# def generate_utterance_pairs_emotion_cause_flags_train(conversations):\n",
        "#     pairs_emotion_flags_train = []\n",
        "#     for conversation in conversations:\n",
        "#         if str(conversation['conversation_ID']) in train_data:\n",
        "#             cause_pair_ids = {(int(pair[0].split('_')[0]), int(pair[1])) for pair in conversation['emotion-cause_pairs']}\n",
        "#             utterances = conversation['conversation']\n",
        "#             for i, utterance_i in enumerate(utterances):\n",
        "#                 if utterance_i['emotion'] == 'neutral':\n",
        "#                     continue\n",
        "#                 for j, utterance_j in enumerate(utterances[:i+1]):\n",
        "#                     pair_key = (utterance_i['utterance_ID'], utterance_j['utterance_ID'])\n",
        "#                     is_cause_pair = 1 if pair_key in cause_pair_ids else 0\n",
        "#                     pairs_emotion_flags_train.append((conversation['conversation_ID'],pair_key, utterance_i['emotion'], is_cause_pair))\n",
        "#     return pairs_emotion_flags_train\n",
        "\n",
        "# def generate_utterance_pairs_emotion_cause_flags_test(conversations):\n",
        "#     pairs_emotion_flags_test = []\n",
        "#     for conversation in conversations:\n",
        "#         if str(conversation['conversation_ID']) in test_data:\n",
        "#             cause_pair_ids = {(int(pair[0].split('_')[0]), int(pair[1])) for pair in conversation['emotion-cause_pairs']}\n",
        "#             utterances = conversation['conversation']\n",
        "#             for i, utterance_i in enumerate(utterances):\n",
        "#                 predicted_emotion = predicted_emotions.get(utterance_i['video_name'], utterance_i['emotion'])\n",
        "#                 if predicted_emotion == 'neutral':\n",
        "#                     continue\n",
        "#                 for j, utterance_j in enumerate(utterances[:i+1]):\n",
        "#                     pair_key = (utterance_i['utterance_ID'], utterance_j['utterance_ID'])\n",
        "#                     is_cause_pair = 1 if pair_key in cause_pair_ids else 0\n",
        "#                     pairs_emotion_flags_test.append((conversation['conversation_ID'],pair_key, predicted_emotion, is_cause_pair))\n",
        "#     return pairs_emotion_flags_test\n",
        "\n",
        "# file_path = '/content/drive/MyDrive/CSCI535 Project/Dataset/text/dev.json'\n",
        "\n",
        "# with open(file_path, 'r') as file:\n",
        "#     data = json.load(file)\n",
        "\n",
        "# utterance_pairs_emotion_flags_train = generate_utterance_pairs_emotion_cause_flags_train(data)\n",
        "# utterance_pairs_emotion_flags_test = generate_utterance_pairs_emotion_cause_flags_test(data)\n",
        "with open('/project/msoleyma_1026/ecp/data/utterance_pairs_emotion_flags_train.json', 'r') as f:\n",
        "    utterance_pairs_emotion_flags_train = json.load(f)\n",
        "with open('/project/msoleyma_1026/ecp/data/utterance_pairs_emotion_flags_test.json', 'r') as f:\n",
        "    utterance_pairs_emotion_flags_test = json.load(f)"
      ]
    },
    {
      "cell_type": "code",
      "execution_count": 32,
      "metadata": {},
      "outputs": [
        {
          "data": {
            "text/plain": [
              "[{'1': [{'utterance_pair': [3, 1], 'emotion': 'surprise', 'valid_pair': 1},\n",
              "   {'utterance_pair': [3, 2], 'emotion': 'surprise', 'valid_pair': 0},\n",
              "   {'utterance_pair': [3, 3], 'emotion': 'surprise', 'valid_pair': 1},\n",
              "   {'utterance_pair': [4, 1], 'emotion': 'surprise', 'valid_pair': 1},\n",
              "   {'utterance_pair': [4, 2], 'emotion': 'surprise', 'valid_pair': 0},\n",
              "   {'utterance_pair': [4, 3], 'emotion': 'surprise', 'valid_pair': 1},\n",
              "   {'utterance_pair': [4, 4], 'emotion': 'surprise', 'valid_pair': 1},\n",
              "   {'utterance_pair': [5, 1], 'emotion': 'anger', 'valid_pair': 1},\n",
              "   {'utterance_pair': [5, 2], 'emotion': 'anger', 'valid_pair': 0},\n",
              "   {'utterance_pair': [5, 3], 'emotion': 'anger', 'valid_pair': 1},\n",
              "   {'utterance_pair': [5, 4], 'emotion': 'anger', 'valid_pair': 1},\n",
              "   {'utterance_pair': [5, 5], 'emotion': 'anger', 'valid_pair': 0}]}]"
            ]
          },
          "execution_count": 32,
          "metadata": {},
          "output_type": "execute_result"
        }
      ],
      "source": [
        "[utterance_pairs_emotion_flags_train[0]]"
      ]
    },
    {
      "cell_type": "code",
      "execution_count": null,
      "metadata": {
        "id": "nwmVxf1wmYXQ"
      },
      "outputs": [],
      "source": [
        "# with open('/content/drive/MyDrive/CSCI535 Project/Dataset/Processed/utterance_pairs_emotion_flags_train.json', 'w') as f:\n",
        "#     json.dump(utterance_pairs_emotion_flags_train, f)\n",
        "\n",
        "# with open('/content/drive/MyDrive/CSCI535 Project/Dataset/Processed/utterance_pairs_emotion_flags_test.json', 'w') as f:\n",
        "#     json.dump(utterance_pairs_emotion_flags_test, f)"
      ]
    },
    {
      "cell_type": "code",
      "execution_count": 43,
      "metadata": {
        "id": "OC_o_GZCOMFH"
      },
      "outputs": [],
      "source": [
        "def process_pairs(input_folder_path, utterance_pairs_emotion_flags, output_folder_path):\n",
        "    for conversation in utterance_pairs_emotion_flags:\n",
        "        conv_id = list(conversation.keys())[0]\n",
        "        for pair in conversation[conv_id]:\n",
        "            (utt1_id, utt2_id), emotion, flag = pair['utterance_pair'], pair['emotion'], pair['valid_pair']\n",
        "            utt1_embedding_filename = \"dia\" + str(conv_id) + \"utt\" + str(utt1_id)\n",
        "            utt1_embedding_path = os.path.join(input_folder_path, f'{utt1_embedding_filename}.npy')\n",
        "            utt2_embedding_filename = \"dia\" + str(conv_id) + \"utt\" + str(utt2_id)\n",
        "            utt2_embedding_path = os.path.join(input_folder_path, f'{utt2_embedding_filename}.npy')\n",
        "\n",
        "            utt1_embedding = np.load(utt1_embedding_path)\n",
        "            utt2_embedding = np.load(utt2_embedding_path)\n",
        "\n",
        "            combined_embedding = np.concatenate([utt1_embedding, utt2_embedding], axis=1)\n",
        "\n",
        "            # emotion_vector = encode_emotion(emotion)\n",
        "            # combined_embedding_with_emotion = np.concatenate([combined_embedding, emotion_vector.reshape(1, -1)], axis=1)\n",
        "\n",
        "            output_filename = f'conv_{conv_id}_utterance_pair_{utt1_id}_{utt2_id}.npy'\n",
        "            if not os.path.exists(os.path.join(output_folder_path, output_filename)):\n",
        "              np.save(os.path.join(output_folder_path, output_filename), combined_embedding)\n",
        "\n",
        "text_folder_path_train = '/project/msoleyma_1026/ecp/data/text/train-emotion'\n",
        "text_folder_path_test = '/project/msoleyma_1026/ecp/data/text/test-emotion'\n",
        "text_pair_embeddings_folder_path_train = '/project/msoleyma_1026/ecp/data/pair_embeddings/text/train-emotion'\n",
        "text_pair_embeddings_folder_path_test = '/project/msoleyma_1026/ecp/data/pair_embeddings/text/train-emotion'\n",
        "\n"
      ]
    },
    {
      "cell_type": "code",
      "execution_count": 44,
      "metadata": {
        "id": "GS0dlmYrQs3d"
      },
      "outputs": [],
      "source": [
        "process_pairs(text_folder_path_train, utterance_pairs_emotion_flags_train, text_pair_embeddings_folder_path_train)"
      ]
    },
    {
      "cell_type": "code",
      "execution_count": 45,
      "metadata": {
        "id": "1ZtfsmjxPhPV"
      },
      "outputs": [],
      "source": [
        "process_pairs(text_folder_path_test, utterance_pairs_emotion_flags_test, text_pair_embeddings_folder_path_test)"
      ]
    },
    {
      "cell_type": "code",
      "execution_count": 49,
      "metadata": {
        "id": "hKf0EftPiT85"
      },
      "outputs": [],
      "source": [
        "video_folder_path_train = '/project/msoleyma_1026/ecp/data/video/train'\n",
        "video_folder_path_test = '/project/msoleyma_1026/ecp/data/video/test'\n",
        "video_pair_embeddings_folder_path_train = '/project/msoleyma_1026/ecp/data/pair_embeddings/video/train-reshaped'\n",
        "video_pair_embeddings_folder_path_test = '/project/msoleyma_1026/ecp/data/pair_embeddings/video/test-reshaped'\n",
        "\n",
        "process_pairs(video_folder_path_train, utterance_pairs_emotion_flags_train, video_pair_embeddings_folder_path_train)\n",
        "process_pairs(video_folder_path_test, utterance_pairs_emotion_flags_test, video_pair_embeddings_folder_path_test)"
      ]
    },
    {
      "cell_type": "code",
      "execution_count": 46,
      "metadata": {
        "id": "aulYYUNRjEx7"
      },
      "outputs": [],
      "source": [
        "audio_folder_path_train = '/project/msoleyma_1026/ecp/data/audio/train-emotion'\n",
        "audio_folder_path_test = '/project/msoleyma_1026/ecp/data/audio/test-emotion'\n",
        "audio_pair_embeddings_folder_path_train = '/project/msoleyma_1026/ecp/data/pair_embeddings/audio/train-emotion'\n",
        "audio_pair_embeddings_folder_path_test = '/project/msoleyma_1026/ecp/data/pair_embeddings/audio/test-emotion'\n",
        "\n",
        "process_pairs(audio_folder_path_train, utterance_pairs_emotion_flags_train, audio_pair_embeddings_folder_path_train)\n",
        "process_pairs(audio_folder_path_test, utterance_pairs_emotion_flags_test, audio_pair_embeddings_folder_path_test)"
      ]
    },
    {
      "cell_type": "code",
      "execution_count": 50,
      "metadata": {},
      "outputs": [
        {
          "name": "stdout",
          "output_type": "stream",
          "text": [
            "(1, 1536)\n",
            "(1, 2048)\n",
            "(1, 1536)\n"
          ]
        }
      ],
      "source": [
        "import numpy as np\n",
        "\n",
        "x = np.load(\"/project/msoleyma_1026/ecp/data/pair_embeddings/text/train-emotion/conv_18_utterance_pair_9_2.npy\")\n",
        "print(x.shape)\n",
        "\n",
        "y = np.load(\"/project/msoleyma_1026/ecp/data/pair_embeddings/audio/train-emotion/conv_18_utterance_pair_9_2.npy\")\n",
        "print(y.shape)\n",
        "\n",
        "z = np.load(\"/project/msoleyma_1026/ecp/data/pair_embeddings/video/train-reshaped/conv_18_utterance_pair_9_2.npy\")\n",
        "print(z.shape)"
      ]
    },
    {
      "cell_type": "code",
      "execution_count": null,
      "metadata": {},
      "outputs": [],
      "source": [
        "# import numpy as np\n",
        "# import os\n",
        "\n",
        "# # Paths to your training and testing directories\n",
        "# train_dir = '/project/msoleyma_1026/ecp/data/video/train'\n",
        "# test_dir = '/project/msoleyma_1026/ecp/data/video/test'\n",
        "\n",
        "# def reshape_and_save(file_path):\n",
        "#     embedding = np.load(file_path)\n",
        "#     # Reshape only if necessary\n",
        "#     if embedding.shape != (1, 768):\n",
        "#         embedding = embedding.reshape(1, 768)\n",
        "#         np.save(file_path, embedding)  # Save the reshaped array back to the same file\n",
        "\n",
        "# # Process train data\n",
        "# for conversation in train_data:\n",
        "#     for utterance in conversation['conversation']:\n",
        "#         video_name = utterance['video_name'].replace('.mp4', '.npy')\n",
        "#         file_path = os.path.join(train_dir, video_name)\n",
        "#         if os.path.exists(file_path):\n",
        "#             reshape_and_save(file_path)\n",
        "\n",
        "# # Process test data\n",
        "# for conversation in test_data:\n",
        "#     for utterance in conversation['conversation']:\n",
        "#         video_name = utterance['video_name'].replace('.mp4', '.npy')\n",
        "#         file_path = os.path.join(test_dir, video_name)\n",
        "#         if os.path.exists(file_path):\n",
        "#             reshape_and_save(file_path)\n",
        "\n",
        "# print(\"All embeddings have been reshaped and saved back to their respective files.\")\n"
      ]
    },
    {
      "cell_type": "code",
      "execution_count": null,
      "metadata": {
        "id": "QpjjipzwjGHo"
      },
      "outputs": [],
      "source": [
        "# !ls -1 /content/drive/MyDrive/CSCI535\\ Project/Dataset/Processed/split/train/pair_embeddings/audio | wc -l\n",
        "# !ls -1 /content/drive/MyDrive/CSCI535\\ Project/Dataset/Processed/split/test/pair_embeddings/audio | wc -l"
      ]
    },
    {
      "cell_type": "code",
      "execution_count": 51,
      "metadata": {
        "colab": {
          "base_uri": "https://localhost:8080/"
        },
        "id": "LIFP8MdQS_ie",
        "outputId": "eb05c7ca-2a93-4765-82d1-996a81718390"
      },
      "outputs": [],
      "source": [
        "# import numpy as np\n",
        "\n",
        "# file_path = '/content/drive/MyDrive/CSCI535 Project/Dataset/Processed/split/test/pair_embeddings/text/conv_1166_utterance_pair_10_1.npy'\n",
        "\n",
        "# embeddings = np.load(file_path)\n",
        "\n",
        "# embeddings, embeddings.shape"
      ]
    },
    {
      "cell_type": "code",
      "execution_count": null,
      "metadata": {
        "id": "EgezBWvWKuRK"
      },
      "outputs": [],
      "source": [
        "# with open('/project/msoleyma_1026/ecp/data/utterance_pairs_emotion_flags_train.json', 'r') as f:\n",
        "#     utterance_pairs_emotion_flags_train = json.load(f)\n",
        "# with open('/project/msoleyma_1026/ecp/data/utterance_pairs_emotion_flags_test.json', 'r') as f:\n",
        "#     utterance_pairs_emotion_flags_test = json.load(f)\n",
        "# with open('/content/drive/MyDrive/CSCI535 Project/Dataset/Processed/utterance_pairs_emotion_flags_train.json', 'r') as file:\n",
        "#     pairs_train = json.load(file)\n",
        "\n",
        "# with open('/content/drive/MyDrive/CSCI535 Project/Dataset/Processed/utterance_pairs_emotion_flags_test.json', 'r') as file:\n",
        "#     pairs_test = json.load(file)"
      ]
    },
    {
      "cell_type": "code",
      "execution_count": 65,
      "metadata": {},
      "outputs": [
        {
          "data": {
            "text/plain": [
              "'joy'"
            ]
          },
          "execution_count": 65,
          "metadata": {},
          "output_type": "execute_result"
        }
      ],
      "source": [
        "predicted_emotions.get('dia16utt3.mp4')"
      ]
    },
    {
      "cell_type": "code",
      "execution_count": 66,
      "metadata": {
        "id": "Tz7_Pgw1oMqs"
      },
      "outputs": [],
      "source": [
        "def get_pair_embeddings(pairs, base_path, no_y=False, predicted_emotions=None, is_test=False):\n",
        "    X, y = [], []\n",
        "    for conversation in pairs:\n",
        "        conv_id = list(conversation.keys())[0]\n",
        "        for pair in conversation[conv_id]:\n",
        "            (utt1_id, utt2_id), emotion, flag = pair['utterance_pair'], pair['emotion'], pair['valid_pair']\n",
        "            filename = f\"conv_{conv_id}_utterance_pair_{utt1_id}_{utt2_id}.npy\"\n",
        "            file_path = os.path.join(base_path, filename)\n",
        "            if os.path.exists(file_path):\n",
        "                embedding = np.load(file_path)\n",
        "                if is_test and predicted_emotions:\n",
        "                    video_name = f\"dia{conv_id}utt{utt1_id}.mp4\"  \n",
        "                    emotion = predicted_emotions.get(video_name, emotion)\n",
        "                emotion_vector = encode_emotion(emotion)\n",
        "                combined_embedding_with_emotion = np.concatenate([embedding, emotion_vector.reshape(1, -1)], axis=1)\n",
        "                X.append(combined_embedding_with_emotion)\n",
        "                if not no_y:\n",
        "                    y.append(flag)\n",
        "            else:\n",
        "                print(f\"File not found: {file_path}\")\n",
        "    if not no_y:\n",
        "      return X, y\n",
        "    return X"
      ]
    },
    {
      "cell_type": "code",
      "execution_count": 54,
      "metadata": {
        "id": "7nJ9z8cCocEn"
      },
      "outputs": [],
      "source": [
        "X_text_cause_pair_train, X_text_cause_pair_test = [], []\n",
        "y_cause_pair_train, y_cause_pair_test = [], []\n",
        "\n",
        "text_base_path_train = '/project/msoleyma_1026/ecp/data/pair_embeddings/text/train-emotion'\n",
        "text_base_path_test = '/project/msoleyma_1026/ecp/data/pair_embeddings/text/test-emotion'\n",
        "\n",
        "X_text_cause_pair_train, y_cause_pair_train = get_pair_embeddings(utterance_pairs_emotion_flags_train, text_base_path_train)"
      ]
    },
    {
      "cell_type": "code",
      "execution_count": 67,
      "metadata": {
        "id": "hjnPeaa-PmmL"
      },
      "outputs": [],
      "source": [
        "X_text_cause_pair_test, y_cause_pair_test = get_pair_embeddings(utterance_pairs_emotion_flags_test, text_base_path_test, predicted_emotions=predicted_emotions, is_test=True)"
      ]
    },
    {
      "cell_type": "code",
      "execution_count": 56,
      "metadata": {
        "id": "BqSq2Doupn9w"
      },
      "outputs": [],
      "source": [
        "X_video_cause_pair_train, X_video_cause_pair_test = [], []\n",
        "\n",
        "video_base_path_train = '/project/msoleyma_1026/ecp/data/pair_embeddings/video/train-reshaped'\n",
        "video_base_path_test = '/project/msoleyma_1026/ecp/data/pair_embeddings/video/test-reshaped'\n",
        "\n",
        "X_video_cause_pair_train = get_pair_embeddings(utterance_pairs_emotion_flags_train, video_base_path_train, True)"
      ]
    },
    {
      "cell_type": "code",
      "execution_count": 68,
      "metadata": {},
      "outputs": [],
      "source": [
        "X_video_cause_pair_test = get_pair_embeddings(utterance_pairs_emotion_flags_test, video_base_path_test, True, predicted_emotions=predicted_emotions, is_test=True)"
      ]
    },
    {
      "cell_type": "code",
      "execution_count": 57,
      "metadata": {
        "id": "TrF1GszKqOxx"
      },
      "outputs": [],
      "source": [
        "X_audio_cause_pair_train, X_audio_cause_pair_test = [], []\n",
        "\n",
        "audio_base_path_train = '/project/msoleyma_1026/ecp/data/pair_embeddings/audio/train-emotion'\n",
        "audio_base_path_test = '/project/msoleyma_1026/ecp/data/pair_embeddings/audio/test-emotion'\n",
        "\n",
        "X_audio_cause_pair_train = get_pair_embeddings(utterance_pairs_emotion_flags_train, audio_base_path_train, True)"
      ]
    },
    {
      "cell_type": "code",
      "execution_count": 69,
      "metadata": {},
      "outputs": [],
      "source": [
        "X_audio_cause_pair_test = get_pair_embeddings(utterance_pairs_emotion_flags_test, audio_base_path_test, True, predicted_emotions=predicted_emotions, is_test=True)"
      ]
    },
    {
      "cell_type": "code",
      "execution_count": 70,
      "metadata": {
        "id": "nm3x4rvhqo9b"
      },
      "outputs": [],
      "source": [
        "X_text_cause_pair_train = np.array(X_text_cause_pair_train)\n",
        "X_text_cause_pair_train = X_text_cause_pair_train.reshape(X_text_cause_pair_train.shape[0], -1)\n",
        "X_text_cause_pair_test = np.array(X_text_cause_pair_test)\n",
        "X_text_cause_pair_test = X_text_cause_pair_test.reshape(X_text_cause_pair_test.shape[0], -1)\n",
        "\n",
        "X_video_cause_pair_train = np.array(X_video_cause_pair_train)\n",
        "X_video_cause_pair_train = X_video_cause_pair_train.reshape(X_video_cause_pair_train.shape[0], -1)\n",
        "X_video_cause_pair_test = np.array(X_video_cause_pair_test)\n",
        "X_video_cause_pair_test = X_video_cause_pair_test.reshape(X_video_cause_pair_test.shape[0], -1)\n",
        "\n",
        "X_audio_cause_pair_train = np.array(X_audio_cause_pair_train)\n",
        "X_audio_cause_pair_train = X_audio_cause_pair_train.reshape(X_audio_cause_pair_train.shape[0], -1)\n",
        "X_audio_cause_pair_test = np.array(X_audio_cause_pair_test)\n",
        "X_audio_cause_pair_test = X_audio_cause_pair_test.reshape(X_audio_cause_pair_test.shape[0], -1)\n",
        "\n",
        "y_cause_pair_train = np.array(y_cause_pair_train)\n",
        "y_cause_pair_test = np.array(y_cause_pair_test)"
      ]
    },
    {
      "cell_type": "code",
      "execution_count": 71,
      "metadata": {
        "colab": {
          "base_uri": "https://localhost:8080/"
        },
        "id": "7_yulZqTrO2G",
        "outputId": "66bea861-27ba-4e73-9d4e-c2c6a1feb72c"
      },
      "outputs": [
        {
          "data": {
            "text/plain": [
              "((44702, 1543),\n",
              " (10332, 1543),\n",
              " (44702, 1543),\n",
              " (10332, 1543),\n",
              " (44702, 2055),\n",
              " (10332, 2055),\n",
              " (44702,),\n",
              " (10332,))"
            ]
          },
          "execution_count": 71,
          "metadata": {},
          "output_type": "execute_result"
        }
      ],
      "source": [
        "X_text_cause_pair_train.shape, X_text_cause_pair_test.shape, X_video_cause_pair_train.shape, X_video_cause_pair_test.shape, X_audio_cause_pair_train.shape, X_audio_cause_pair_test.shape, y_cause_pair_train.shape, y_cause_pair_test.shape"
      ]
    },
    {
      "cell_type": "code",
      "execution_count": 117,
      "metadata": {
        "colab": {
          "base_uri": "https://localhost:8080/",
          "height": 75
        },
        "id": "mJsF6aMUrUvZ",
        "outputId": "d7835a94-304d-4687-ff4b-59d6f563789e"
      },
      "outputs": [
        {
          "name": "stderr",
          "output_type": "stream",
          "text": [
            "/project/msoleyma_1026/ecp/ecp-venv/lib/python3.12/site-packages/sklearn/neural_network/_multilayer_perceptron.py:686: ConvergenceWarning: Stochastic Optimizer: Maximum iterations (10) reached and the optimization hasn't converged yet.\n",
            "  warnings.warn(\n"
          ]
        },
        {
          "data": {
            "text/html": [
              "<style>#sk-container-id-30 {color: black;background-color: white;}#sk-container-id-30 pre{padding: 0;}#sk-container-id-30 div.sk-toggleable {background-color: white;}#sk-container-id-30 label.sk-toggleable__label {cursor: pointer;display: block;width: 100%;margin-bottom: 0;padding: 0.3em;box-sizing: border-box;text-align: center;}#sk-container-id-30 label.sk-toggleable__label-arrow:before {content: \"▸\";float: left;margin-right: 0.25em;color: #696969;}#sk-container-id-30 label.sk-toggleable__label-arrow:hover:before {color: black;}#sk-container-id-30 div.sk-estimator:hover label.sk-toggleable__label-arrow:before {color: black;}#sk-container-id-30 div.sk-toggleable__content {max-height: 0;max-width: 0;overflow: hidden;text-align: left;background-color: #f0f8ff;}#sk-container-id-30 div.sk-toggleable__content pre {margin: 0.2em;color: black;border-radius: 0.25em;background-color: #f0f8ff;}#sk-container-id-30 input.sk-toggleable__control:checked~div.sk-toggleable__content {max-height: 200px;max-width: 100%;overflow: auto;}#sk-container-id-30 input.sk-toggleable__control:checked~label.sk-toggleable__label-arrow:before {content: \"▾\";}#sk-container-id-30 div.sk-estimator input.sk-toggleable__control:checked~label.sk-toggleable__label {background-color: #d4ebff;}#sk-container-id-30 div.sk-label input.sk-toggleable__control:checked~label.sk-toggleable__label {background-color: #d4ebff;}#sk-container-id-30 input.sk-hidden--visually {border: 0;clip: rect(1px 1px 1px 1px);clip: rect(1px, 1px, 1px, 1px);height: 1px;margin: -1px;overflow: hidden;padding: 0;position: absolute;width: 1px;}#sk-container-id-30 div.sk-estimator {font-family: monospace;background-color: #f0f8ff;border: 1px dotted black;border-radius: 0.25em;box-sizing: border-box;margin-bottom: 0.5em;}#sk-container-id-30 div.sk-estimator:hover {background-color: #d4ebff;}#sk-container-id-30 div.sk-parallel-item::after {content: \"\";width: 100%;border-bottom: 1px solid gray;flex-grow: 1;}#sk-container-id-30 div.sk-label:hover label.sk-toggleable__label {background-color: #d4ebff;}#sk-container-id-30 div.sk-serial::before {content: \"\";position: absolute;border-left: 1px solid gray;box-sizing: border-box;top: 0;bottom: 0;left: 50%;z-index: 0;}#sk-container-id-30 div.sk-serial {display: flex;flex-direction: column;align-items: center;background-color: white;padding-right: 0.2em;padding-left: 0.2em;position: relative;}#sk-container-id-30 div.sk-item {position: relative;z-index: 1;}#sk-container-id-30 div.sk-parallel {display: flex;align-items: stretch;justify-content: center;background-color: white;position: relative;}#sk-container-id-30 div.sk-item::before, #sk-container-id-30 div.sk-parallel-item::before {content: \"\";position: absolute;border-left: 1px solid gray;box-sizing: border-box;top: 0;bottom: 0;left: 50%;z-index: -1;}#sk-container-id-30 div.sk-parallel-item {display: flex;flex-direction: column;z-index: 1;position: relative;background-color: white;}#sk-container-id-30 div.sk-parallel-item:first-child::after {align-self: flex-end;width: 50%;}#sk-container-id-30 div.sk-parallel-item:last-child::after {align-self: flex-start;width: 50%;}#sk-container-id-30 div.sk-parallel-item:only-child::after {width: 0;}#sk-container-id-30 div.sk-dashed-wrapped {border: 1px dashed gray;margin: 0 0.4em 0.5em 0.4em;box-sizing: border-box;padding-bottom: 0.4em;background-color: white;}#sk-container-id-30 div.sk-label label {font-family: monospace;font-weight: bold;display: inline-block;line-height: 1.2em;}#sk-container-id-30 div.sk-label-container {text-align: center;}#sk-container-id-30 div.sk-container {/* jupyter's `normalize.less` sets `[hidden] { display: none; }` but bootstrap.min.css set `[hidden] { display: none !important; }` so we also need the `!important` here to be able to override the default hidden behavior on the sphinx rendered scikit-learn.org. See: https://github.com/scikit-learn/scikit-learn/issues/21755 */display: inline-block !important;position: relative;}#sk-container-id-30 div.sk-text-repr-fallback {display: none;}</style><div id=\"sk-container-id-30\" class=\"sk-top-container\"><div class=\"sk-text-repr-fallback\"><pre>MLPClassifier(hidden_layer_sizes=(1024, 1024), max_iter=10, random_state=42)</pre><b>In a Jupyter environment, please rerun this cell to show the HTML representation or trust the notebook. <br />On GitHub, the HTML representation is unable to render, please try loading this page with nbviewer.org.</b></div><div class=\"sk-container\" hidden><div class=\"sk-item\"><div class=\"sk-estimator sk-toggleable\"><input class=\"sk-toggleable__control sk-hidden--visually\" id=\"sk-estimator-id-30\" type=\"checkbox\" checked><label for=\"sk-estimator-id-30\" class=\"sk-toggleable__label sk-toggleable__label-arrow\">MLPClassifier</label><div class=\"sk-toggleable__content\"><pre>MLPClassifier(hidden_layer_sizes=(1024, 1024), max_iter=10, random_state=42)</pre></div></div></div></div></div>"
            ],
            "text/plain": [
              "MLPClassifier(hidden_layer_sizes=(1024, 1024), max_iter=10, random_state=42)"
            ]
          },
          "execution_count": 117,
          "metadata": {},
          "output_type": "execute_result"
        }
      ],
      "source": [
        "mlp_cause_pair_text = MLPClassifier(hidden_layer_sizes=(1024,1024), max_iter=10, activation='relu', solver='adam', learning_rate_init=0.001, random_state=42)\n",
        "\n",
        "mlp_cause_pair_text.fit(X_text_cause_pair_train, y_cause_pair_train)"
      ]
    },
    {
      "cell_type": "code",
      "execution_count": 118,
      "metadata": {
        "colab": {
          "base_uri": "https://localhost:8080/"
        },
        "id": "Zid9guBtr2i3",
        "outputId": "5cc3e343-e396-429a-fdb9-514b0ded5b5e"
      },
      "outputs": [
        {
          "name": "stdout",
          "output_type": "stream",
          "text": [
            "Accuracy: 85.30%\n",
            "              precision    recall  f1-score   support\n",
            "\n",
            "           0       0.90      0.93      0.91      8539\n",
            "           1       0.59      0.48      0.53      1793\n",
            "\n",
            "    accuracy                           0.85     10332\n",
            "   macro avg       0.74      0.71      0.72     10332\n",
            "weighted avg       0.84      0.85      0.85     10332\n",
            "\n",
            "F1 Score: 84.69%\n"
          ]
        }
      ],
      "source": [
        "y_cause_pair_text_pred = mlp_cause_pair_text.predict(X_text_cause_pair_test)\n",
        "\n",
        "accuracy_cause_pair_text = accuracy_score(y_cause_pair_test, y_cause_pair_text_pred)\n",
        "print(f'Accuracy: {accuracy_cause_pair_text * 100:.2f}%')\n",
        "class_report_cause_pair_text = classification_report(y_cause_pair_test, y_cause_pair_text_pred)\n",
        "print(class_report_cause_pair_text)\n",
        "f1_score_cause_pair_text = f1_score(y_cause_pair_test, y_cause_pair_text_pred, average='weighted')\n",
        "print(f'F1 Score: {f1_score_cause_pair_text * 100:.2f}%')"
      ]
    },
    {
      "cell_type": "code",
      "execution_count": 113,
      "metadata": {
        "colab": {
          "base_uri": "https://localhost:8080/",
          "height": 75
        },
        "id": "TG8-2ju-rUsh",
        "outputId": "72921405-fdd3-4393-adcc-695ad8d634f3"
      },
      "outputs": [
        {
          "name": "stderr",
          "output_type": "stream",
          "text": [
            "/project/msoleyma_1026/ecp/ecp-venv/lib/python3.12/site-packages/sklearn/neural_network/_multilayer_perceptron.py:686: ConvergenceWarning: Stochastic Optimizer: Maximum iterations (10) reached and the optimization hasn't converged yet.\n",
            "  warnings.warn(\n"
          ]
        },
        {
          "data": {
            "text/html": [
              "<style>#sk-container-id-28 {color: black;background-color: white;}#sk-container-id-28 pre{padding: 0;}#sk-container-id-28 div.sk-toggleable {background-color: white;}#sk-container-id-28 label.sk-toggleable__label {cursor: pointer;display: block;width: 100%;margin-bottom: 0;padding: 0.3em;box-sizing: border-box;text-align: center;}#sk-container-id-28 label.sk-toggleable__label-arrow:before {content: \"▸\";float: left;margin-right: 0.25em;color: #696969;}#sk-container-id-28 label.sk-toggleable__label-arrow:hover:before {color: black;}#sk-container-id-28 div.sk-estimator:hover label.sk-toggleable__label-arrow:before {color: black;}#sk-container-id-28 div.sk-toggleable__content {max-height: 0;max-width: 0;overflow: hidden;text-align: left;background-color: #f0f8ff;}#sk-container-id-28 div.sk-toggleable__content pre {margin: 0.2em;color: black;border-radius: 0.25em;background-color: #f0f8ff;}#sk-container-id-28 input.sk-toggleable__control:checked~div.sk-toggleable__content {max-height: 200px;max-width: 100%;overflow: auto;}#sk-container-id-28 input.sk-toggleable__control:checked~label.sk-toggleable__label-arrow:before {content: \"▾\";}#sk-container-id-28 div.sk-estimator input.sk-toggleable__control:checked~label.sk-toggleable__label {background-color: #d4ebff;}#sk-container-id-28 div.sk-label input.sk-toggleable__control:checked~label.sk-toggleable__label {background-color: #d4ebff;}#sk-container-id-28 input.sk-hidden--visually {border: 0;clip: rect(1px 1px 1px 1px);clip: rect(1px, 1px, 1px, 1px);height: 1px;margin: -1px;overflow: hidden;padding: 0;position: absolute;width: 1px;}#sk-container-id-28 div.sk-estimator {font-family: monospace;background-color: #f0f8ff;border: 1px dotted black;border-radius: 0.25em;box-sizing: border-box;margin-bottom: 0.5em;}#sk-container-id-28 div.sk-estimator:hover {background-color: #d4ebff;}#sk-container-id-28 div.sk-parallel-item::after {content: \"\";width: 100%;border-bottom: 1px solid gray;flex-grow: 1;}#sk-container-id-28 div.sk-label:hover label.sk-toggleable__label {background-color: #d4ebff;}#sk-container-id-28 div.sk-serial::before {content: \"\";position: absolute;border-left: 1px solid gray;box-sizing: border-box;top: 0;bottom: 0;left: 50%;z-index: 0;}#sk-container-id-28 div.sk-serial {display: flex;flex-direction: column;align-items: center;background-color: white;padding-right: 0.2em;padding-left: 0.2em;position: relative;}#sk-container-id-28 div.sk-item {position: relative;z-index: 1;}#sk-container-id-28 div.sk-parallel {display: flex;align-items: stretch;justify-content: center;background-color: white;position: relative;}#sk-container-id-28 div.sk-item::before, #sk-container-id-28 div.sk-parallel-item::before {content: \"\";position: absolute;border-left: 1px solid gray;box-sizing: border-box;top: 0;bottom: 0;left: 50%;z-index: -1;}#sk-container-id-28 div.sk-parallel-item {display: flex;flex-direction: column;z-index: 1;position: relative;background-color: white;}#sk-container-id-28 div.sk-parallel-item:first-child::after {align-self: flex-end;width: 50%;}#sk-container-id-28 div.sk-parallel-item:last-child::after {align-self: flex-start;width: 50%;}#sk-container-id-28 div.sk-parallel-item:only-child::after {width: 0;}#sk-container-id-28 div.sk-dashed-wrapped {border: 1px dashed gray;margin: 0 0.4em 0.5em 0.4em;box-sizing: border-box;padding-bottom: 0.4em;background-color: white;}#sk-container-id-28 div.sk-label label {font-family: monospace;font-weight: bold;display: inline-block;line-height: 1.2em;}#sk-container-id-28 div.sk-label-container {text-align: center;}#sk-container-id-28 div.sk-container {/* jupyter's `normalize.less` sets `[hidden] { display: none; }` but bootstrap.min.css set `[hidden] { display: none !important; }` so we also need the `!important` here to be able to override the default hidden behavior on the sphinx rendered scikit-learn.org. See: https://github.com/scikit-learn/scikit-learn/issues/21755 */display: inline-block !important;position: relative;}#sk-container-id-28 div.sk-text-repr-fallback {display: none;}</style><div id=\"sk-container-id-28\" class=\"sk-top-container\"><div class=\"sk-text-repr-fallback\"><pre>MLPClassifier(hidden_layer_sizes=(512, 512), max_iter=10, random_state=42)</pre><b>In a Jupyter environment, please rerun this cell to show the HTML representation or trust the notebook. <br />On GitHub, the HTML representation is unable to render, please try loading this page with nbviewer.org.</b></div><div class=\"sk-container\" hidden><div class=\"sk-item\"><div class=\"sk-estimator sk-toggleable\"><input class=\"sk-toggleable__control sk-hidden--visually\" id=\"sk-estimator-id-28\" type=\"checkbox\" checked><label for=\"sk-estimator-id-28\" class=\"sk-toggleable__label sk-toggleable__label-arrow\">MLPClassifier</label><div class=\"sk-toggleable__content\"><pre>MLPClassifier(hidden_layer_sizes=(512, 512), max_iter=10, random_state=42)</pre></div></div></div></div></div>"
            ],
            "text/plain": [
              "MLPClassifier(hidden_layer_sizes=(512, 512), max_iter=10, random_state=42)"
            ]
          },
          "execution_count": 113,
          "metadata": {},
          "output_type": "execute_result"
        }
      ],
      "source": [
        "mlp_cause_pair_video = MLPClassifier(hidden_layer_sizes=(512,512), max_iter=10, activation='relu', solver='adam', learning_rate_init=0.001, random_state=42)\n",
        "\n",
        "mlp_cause_pair_video.fit(X_video_cause_pair_train, y_cause_pair_train)"
      ]
    },
    {
      "cell_type": "code",
      "execution_count": 114,
      "metadata": {
        "colab": {
          "base_uri": "https://localhost:8080/"
        },
        "id": "fhzYyscAsGRF",
        "outputId": "daa35961-21f7-488e-e9ac-2ef6c4106b23"
      },
      "outputs": [
        {
          "name": "stdout",
          "output_type": "stream",
          "text": [
            "Accuracy: 85.89%\n",
            "              precision    recall  f1-score   support\n",
            "\n",
            "           0       0.87      0.97      0.92      8539\n",
            "           1       0.69      0.34      0.46      1793\n",
            "\n",
            "    accuracy                           0.86     10332\n",
            "   macro avg       0.78      0.65      0.69     10332\n",
            "weighted avg       0.84      0.86      0.84     10332\n",
            "\n",
            "F1 Score: 83.86%\n"
          ]
        }
      ],
      "source": [
        "y_cause_pair_video_pred = mlp_cause_pair_video.predict(X_video_cause_pair_test)\n",
        "\n",
        "accuracy_cause_pair_video = accuracy_score(y_cause_pair_test, y_cause_pair_video_pred)\n",
        "print(f'Accuracy: {accuracy_cause_pair_video * 100:.2f}%')\n",
        "class_report_cause_pair_video = classification_report(y_cause_pair_test, y_cause_pair_video_pred)\n",
        "print(class_report_cause_pair_video)\n",
        "f1_score_cause_pair_video = f1_score(y_cause_pair_test, y_cause_pair_video_pred, average='weighted')\n",
        "print(f'F1 Score: {f1_score_cause_pair_video * 100:.2f}%')"
      ]
    },
    {
      "cell_type": "code",
      "execution_count": 104,
      "metadata": {
        "colab": {
          "base_uri": "https://localhost:8080/",
          "height": 75
        },
        "id": "hdVrCL2JrOcw",
        "outputId": "0140aaf8-346f-4755-8e87-529c94e34929"
      },
      "outputs": [
        {
          "name": "stderr",
          "output_type": "stream",
          "text": [
            "/project/msoleyma_1026/ecp/ecp-venv/lib/python3.12/site-packages/sklearn/neural_network/_multilayer_perceptron.py:693: UserWarning: Training interrupted by user.\n",
            "  warnings.warn(\"Training interrupted by user.\")\n"
          ]
        },
        {
          "data": {
            "text/html": [
              "<style>#sk-container-id-23 {color: black;background-color: white;}#sk-container-id-23 pre{padding: 0;}#sk-container-id-23 div.sk-toggleable {background-color: white;}#sk-container-id-23 label.sk-toggleable__label {cursor: pointer;display: block;width: 100%;margin-bottom: 0;padding: 0.3em;box-sizing: border-box;text-align: center;}#sk-container-id-23 label.sk-toggleable__label-arrow:before {content: \"▸\";float: left;margin-right: 0.25em;color: #696969;}#sk-container-id-23 label.sk-toggleable__label-arrow:hover:before {color: black;}#sk-container-id-23 div.sk-estimator:hover label.sk-toggleable__label-arrow:before {color: black;}#sk-container-id-23 div.sk-toggleable__content {max-height: 0;max-width: 0;overflow: hidden;text-align: left;background-color: #f0f8ff;}#sk-container-id-23 div.sk-toggleable__content pre {margin: 0.2em;color: black;border-radius: 0.25em;background-color: #f0f8ff;}#sk-container-id-23 input.sk-toggleable__control:checked~div.sk-toggleable__content {max-height: 200px;max-width: 100%;overflow: auto;}#sk-container-id-23 input.sk-toggleable__control:checked~label.sk-toggleable__label-arrow:before {content: \"▾\";}#sk-container-id-23 div.sk-estimator input.sk-toggleable__control:checked~label.sk-toggleable__label {background-color: #d4ebff;}#sk-container-id-23 div.sk-label input.sk-toggleable__control:checked~label.sk-toggleable__label {background-color: #d4ebff;}#sk-container-id-23 input.sk-hidden--visually {border: 0;clip: rect(1px 1px 1px 1px);clip: rect(1px, 1px, 1px, 1px);height: 1px;margin: -1px;overflow: hidden;padding: 0;position: absolute;width: 1px;}#sk-container-id-23 div.sk-estimator {font-family: monospace;background-color: #f0f8ff;border: 1px dotted black;border-radius: 0.25em;box-sizing: border-box;margin-bottom: 0.5em;}#sk-container-id-23 div.sk-estimator:hover {background-color: #d4ebff;}#sk-container-id-23 div.sk-parallel-item::after {content: \"\";width: 100%;border-bottom: 1px solid gray;flex-grow: 1;}#sk-container-id-23 div.sk-label:hover label.sk-toggleable__label {background-color: #d4ebff;}#sk-container-id-23 div.sk-serial::before {content: \"\";position: absolute;border-left: 1px solid gray;box-sizing: border-box;top: 0;bottom: 0;left: 50%;z-index: 0;}#sk-container-id-23 div.sk-serial {display: flex;flex-direction: column;align-items: center;background-color: white;padding-right: 0.2em;padding-left: 0.2em;position: relative;}#sk-container-id-23 div.sk-item {position: relative;z-index: 1;}#sk-container-id-23 div.sk-parallel {display: flex;align-items: stretch;justify-content: center;background-color: white;position: relative;}#sk-container-id-23 div.sk-item::before, #sk-container-id-23 div.sk-parallel-item::before {content: \"\";position: absolute;border-left: 1px solid gray;box-sizing: border-box;top: 0;bottom: 0;left: 50%;z-index: -1;}#sk-container-id-23 div.sk-parallel-item {display: flex;flex-direction: column;z-index: 1;position: relative;background-color: white;}#sk-container-id-23 div.sk-parallel-item:first-child::after {align-self: flex-end;width: 50%;}#sk-container-id-23 div.sk-parallel-item:last-child::after {align-self: flex-start;width: 50%;}#sk-container-id-23 div.sk-parallel-item:only-child::after {width: 0;}#sk-container-id-23 div.sk-dashed-wrapped {border: 1px dashed gray;margin: 0 0.4em 0.5em 0.4em;box-sizing: border-box;padding-bottom: 0.4em;background-color: white;}#sk-container-id-23 div.sk-label label {font-family: monospace;font-weight: bold;display: inline-block;line-height: 1.2em;}#sk-container-id-23 div.sk-label-container {text-align: center;}#sk-container-id-23 div.sk-container {/* jupyter's `normalize.less` sets `[hidden] { display: none; }` but bootstrap.min.css set `[hidden] { display: none !important; }` so we also need the `!important` here to be able to override the default hidden behavior on the sphinx rendered scikit-learn.org. See: https://github.com/scikit-learn/scikit-learn/issues/21755 */display: inline-block !important;position: relative;}#sk-container-id-23 div.sk-text-repr-fallback {display: none;}</style><div id=\"sk-container-id-23\" class=\"sk-top-container\"><div class=\"sk-text-repr-fallback\"><pre>MLPClassifier(hidden_layer_sizes=(1024, 1024), max_iter=10, random_state=42)</pre><b>In a Jupyter environment, please rerun this cell to show the HTML representation or trust the notebook. <br />On GitHub, the HTML representation is unable to render, please try loading this page with nbviewer.org.</b></div><div class=\"sk-container\" hidden><div class=\"sk-item\"><div class=\"sk-estimator sk-toggleable\"><input class=\"sk-toggleable__control sk-hidden--visually\" id=\"sk-estimator-id-23\" type=\"checkbox\" checked><label for=\"sk-estimator-id-23\" class=\"sk-toggleable__label sk-toggleable__label-arrow\">MLPClassifier</label><div class=\"sk-toggleable__content\"><pre>MLPClassifier(hidden_layer_sizes=(1024, 1024), max_iter=10, random_state=42)</pre></div></div></div></div></div>"
            ],
            "text/plain": [
              "MLPClassifier(hidden_layer_sizes=(1024, 1024), max_iter=10, random_state=42)"
            ]
          },
          "execution_count": 104,
          "metadata": {},
          "output_type": "execute_result"
        }
      ],
      "source": [
        "mlp_cause_pair_audio = MLPClassifier(hidden_layer_sizes=(512,512), max_iter=10, activation='relu', solver='adam', learning_rate_init=0.001, random_state=42)\n",
        "\n",
        "mlp_cause_pair_audio.fit(X_audio_cause_pair_train, y_cause_pair_train)"
      ]
    },
    {
      "cell_type": "code",
      "execution_count": null,
      "metadata": {
        "colab": {
          "base_uri": "https://localhost:8080/"
        },
        "id": "-qxZ18-ksZaf",
        "outputId": "2d9fda06-3836-43ea-bf34-94a18bf6cff3"
      },
      "outputs": [
        {
          "name": "stdout",
          "output_type": "stream",
          "text": [
            "Accuracy: 87.00%\n",
            "              precision    recall  f1-score   support\n",
            "\n",
            "           0       0.88      0.98      0.93      8539\n",
            "           1       0.76      0.37      0.50      1793\n",
            "\n",
            "    accuracy                           0.87     10332\n",
            "   macro avg       0.82      0.67      0.71     10332\n",
            "weighted avg       0.86      0.87      0.85     10332\n",
            "\n",
            "F1 Score: 85.08%\n"
          ]
        }
      ],
      "source": [
        "y_cause_pair_audio_pred = mlp_cause_pair_audio.predict(X_audio_cause_pair_test)\n",
        "\n",
        "accuracy_cause_pair_audio = accuracy_score(y_cause_pair_test, y_cause_pair_audio_pred)\n",
        "print(f'Accuracy: {accuracy_cause_pair_audio * 100:.2f}%')\n",
        "class_report_cause_pair_audio = classification_report(y_cause_pair_test, y_cause_pair_audio_pred)\n",
        "print(class_report_cause_pair_audio)\n",
        "f1_score_cause_pair_audio = f1_score(y_cause_pair_test, y_cause_pair_audio_pred, average='weighted')\n",
        "print(f'F1 Score: {f1_score_cause_pair_audio * 100:.2f}%')"
      ]
    },
    {
      "cell_type": "code",
      "execution_count": null,
      "metadata": {
        "colab": {
          "base_uri": "https://localhost:8080/"
        },
        "id": "HY28xGzusnC1",
        "outputId": "1d8a7846-5699-44d7-bd5b-eb3f25ab68d0"
      },
      "outputs": [
        {
          "name": "stdout",
          "output_type": "stream",
          "text": [
            "Accuracy: 88.23%\n",
            "              precision    recall  f1-score   support\n",
            "\n",
            "           0       0.89      0.98      0.93      8539\n",
            "           1       0.81      0.42      0.55      1793\n",
            "\n",
            "    accuracy                           0.88     10332\n",
            "   macro avg       0.85      0.70      0.74     10332\n",
            "weighted avg       0.88      0.88      0.87     10332\n",
            "\n",
            "F1 Score: 86.67%\n"
          ]
        }
      ],
      "source": [
        "prob_cause_pair_audio = mlp_cause_pair_audio.predict_proba(X_audio_cause_pair_test)\n",
        "prob_cause_pair_video = mlp_cause_pair_video.predict_proba(X_video_cause_pair_test)\n",
        "prob_cause_pair_text = mlp_cause_pair_text.predict_proba(X_text_cause_pair_test)\n",
        "\n",
        "prob_cause_pair_average = (prob_cause_pair_audio + prob_cause_pair_video + prob_cause_pair_text) / 3\n",
        "\n",
        "final_cause_pair_predictions = np.argmax(prob_cause_pair_average, axis=1)\n",
        "\n",
        "accuracy_cause_pair = accuracy_score(y_cause_pair_test, final_cause_pair_predictions)\n",
        "print(f'Accuracy: {accuracy_cause_pair * 100:.2f}%')\n",
        "class_report_cause_pair = classification_report(y_cause_pair_test, final_cause_pair_predictions)\n",
        "print(class_report_cause_pair)\n",
        "f1_score_cause_pair = f1_score(y_cause_pair_test, final_cause_pair_predictions, average='weighted')\n",
        "print(f'F1 Score: {f1_score_cause_pair * 100:.2f}%')"
      ]
    },
    {
      "cell_type": "code",
      "execution_count": null,
      "metadata": {
        "colab": {
          "background_save": true
        },
        "id": "uGHLquZjtB6c"
      },
      "outputs": [],
      "source": []
    }
  ],
  "metadata": {
    "accelerator": "GPU",
    "colab": {
      "gpuType": "T4",
      "provenance": []
    },
    "kernelspec": {
      "display_name": "Python 3",
      "name": "python3"
    },
    "language_info": {
      "codemirror_mode": {
        "name": "ipython",
        "version": 3
      },
      "file_extension": ".py",
      "mimetype": "text/x-python",
      "name": "python",
      "nbconvert_exporter": "python",
      "pygments_lexer": "ipython3",
      "version": "3.12.2"
    }
  },
  "nbformat": 4,
  "nbformat_minor": 0
}
